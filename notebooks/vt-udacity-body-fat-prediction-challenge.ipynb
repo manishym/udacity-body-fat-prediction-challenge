{
 "cells": [
  {
   "cell_type": "code",
   "execution_count": 7,
   "metadata": {
    "scrolled": true
   },
   "outputs": [],
   "source": [
    "import warnings\n",
    "warnings.filterwarnings('ignore')\n",
    "\n",
    "import os\n",
    "\n",
    "PROJ_ROOT = os.pardir\n",
    "\n",
    "TRAIN_DATA = os.path.join(PROJ_ROOT, \"data\", \"raw\", \"train.csv\")\n",
    "TEST_DATA = os.path.join(PROJ_ROOT, \"data\", \"raw\", \"test.csv\")\n",
    "\n",
    "import sys\n",
    "sys.path.append(os.path.join(PROJ_ROOT, \"src\"))\n",
    "\n",
    "%reload_ext autoreload\n",
    "%autoreload 2\n",
    "%matplotlib inline"
   ]
  },
  {
   "cell_type": "code",
   "execution_count": 8,
   "metadata": {},
   "outputs": [],
   "source": [
    "# from fastai.imports import *\n",
    "# from fastai.structured import *\n",
    "\n",
    "# from pandas_summary import DataFrameSummary\n",
    "from IPython.display import display\n",
    "\n",
    "import pandas as pd\n",
    "import numpy as np\n",
    "\n",
    "# from fastai.imports import *\n",
    "# from fastai.torch_imports import *\n",
    "# from fastai.transforms import *\n",
    "# from fastai.conv_learner import *\n",
    "# from fastai.model import *\n",
    "# from fastai.dataset import *\n",
    "# from fastai.sgdr import *\n",
    "# from fastai.plots import *"
   ]
  },
  {
   "cell_type": "code",
   "execution_count": 9,
   "metadata": {},
   "outputs": [],
   "source": [
    "PATH = os.path.join(PROJ_ROOT, \"data\", \"raw/\")\n",
    "\n",
    "PATH\n",
    "\n",
    "\n",
    "from sklearn.metrics import accuracy_score, r2_score\n",
    "from sklearn.metrics import mean_absolute_error\n",
    "from sklearn.model_selection import train_test_split"
   ]
  },
  {
   "cell_type": "code",
   "execution_count": 10,
   "metadata": {},
   "outputs": [
    {
     "name": "stdout",
     "output_type": "stream",
     "text": [
      "bodyfat-test.csv             kaggle_solution_template.csv\r\n",
      "bodyfat-train.csv\r\n"
     ]
    }
   ],
   "source": [
    "!ls {PATH} "
   ]
  },
  {
   "cell_type": "code",
   "execution_count": 11,
   "metadata": {},
   "outputs": [],
   "source": [
    "train_df = pd.read_csv(f\"{PATH}/bodyfat-train.csv\")\n",
    "test_df = pd.read_csv(f\"{PATH}/bodyfat-test.csv\")"
   ]
  },
  {
   "cell_type": "code",
   "execution_count": 12,
   "metadata": {},
   "outputs": [
    {
     "data": {
      "text/html": [
       "<div>\n",
       "<style scoped>\n",
       "    .dataframe tbody tr th:only-of-type {\n",
       "        vertical-align: middle;\n",
       "    }\n",
       "\n",
       "    .dataframe tbody tr th {\n",
       "        vertical-align: top;\n",
       "    }\n",
       "\n",
       "    .dataframe thead th {\n",
       "        text-align: right;\n",
       "    }\n",
       "</style>\n",
       "<table border=\"1\" class=\"dataframe\">\n",
       "  <thead>\n",
       "    <tr style=\"text-align: right;\">\n",
       "      <th></th>\n",
       "      <th>Body fat (%)</th>\n",
       "      <th>Age (years)</th>\n",
       "      <th>Weight (lbs)</th>\n",
       "      <th>Height (inches)</th>\n",
       "      <th>Neck (cm)</th>\n",
       "      <th>Chest (cm)</th>\n",
       "      <th>Abdomen (cm)</th>\n",
       "      <th>Hip (cm)</th>\n",
       "      <th>Thigh (cm)</th>\n",
       "      <th>Knee (cm)</th>\n",
       "      <th>Ankle (cm)</th>\n",
       "      <th>Biceps (cm)</th>\n",
       "      <th>Forearm (cm)</th>\n",
       "      <th>Wrist (cm)</th>\n",
       "    </tr>\n",
       "  </thead>\n",
       "  <tbody>\n",
       "    <tr>\n",
       "      <th>count</th>\n",
       "      <td>201.000000</td>\n",
       "      <td>201.000000</td>\n",
       "      <td>201.000000</td>\n",
       "      <td>201.000000</td>\n",
       "      <td>201.000000</td>\n",
       "      <td>201.000000</td>\n",
       "      <td>201.000000</td>\n",
       "      <td>201.000000</td>\n",
       "      <td>201.000000</td>\n",
       "      <td>201.000000</td>\n",
       "      <td>201.000000</td>\n",
       "      <td>201.000000</td>\n",
       "      <td>201.000000</td>\n",
       "      <td>201.000000</td>\n",
       "    </tr>\n",
       "    <tr>\n",
       "      <th>mean</th>\n",
       "      <td>18.977612</td>\n",
       "      <td>44.631841</td>\n",
       "      <td>178.370398</td>\n",
       "      <td>70.009950</td>\n",
       "      <td>37.992537</td>\n",
       "      <td>100.500000</td>\n",
       "      <td>92.392537</td>\n",
       "      <td>99.885572</td>\n",
       "      <td>59.407960</td>\n",
       "      <td>38.574627</td>\n",
       "      <td>23.060697</td>\n",
       "      <td>32.197015</td>\n",
       "      <td>28.645771</td>\n",
       "      <td>18.216418</td>\n",
       "    </tr>\n",
       "    <tr>\n",
       "      <th>std</th>\n",
       "      <td>8.391314</td>\n",
       "      <td>12.462896</td>\n",
       "      <td>30.489848</td>\n",
       "      <td>3.859877</td>\n",
       "      <td>2.549803</td>\n",
       "      <td>8.508314</td>\n",
       "      <td>10.973468</td>\n",
       "      <td>7.399307</td>\n",
       "      <td>5.503221</td>\n",
       "      <td>2.481875</td>\n",
       "      <td>1.647027</td>\n",
       "      <td>3.196043</td>\n",
       "      <td>2.080167</td>\n",
       "      <td>0.935189</td>\n",
       "    </tr>\n",
       "    <tr>\n",
       "      <th>min</th>\n",
       "      <td>0.000000</td>\n",
       "      <td>22.000000</td>\n",
       "      <td>118.500000</td>\n",
       "      <td>29.500000</td>\n",
       "      <td>31.100000</td>\n",
       "      <td>79.300000</td>\n",
       "      <td>69.400000</td>\n",
       "      <td>85.000000</td>\n",
       "      <td>47.200000</td>\n",
       "      <td>33.000000</td>\n",
       "      <td>19.100000</td>\n",
       "      <td>24.800000</td>\n",
       "      <td>22.000000</td>\n",
       "      <td>15.800000</td>\n",
       "    </tr>\n",
       "    <tr>\n",
       "      <th>25%</th>\n",
       "      <td>12.500000</td>\n",
       "      <td>35.000000</td>\n",
       "      <td>157.000000</td>\n",
       "      <td>68.250000</td>\n",
       "      <td>36.300000</td>\n",
       "      <td>94.000000</td>\n",
       "      <td>84.400000</td>\n",
       "      <td>95.500000</td>\n",
       "      <td>56.000000</td>\n",
       "      <td>36.900000</td>\n",
       "      <td>22.000000</td>\n",
       "      <td>30.000000</td>\n",
       "      <td>27.200000</td>\n",
       "      <td>17.600000</td>\n",
       "    </tr>\n",
       "    <tr>\n",
       "      <th>50%</th>\n",
       "      <td>19.200000</td>\n",
       "      <td>43.000000</td>\n",
       "      <td>176.000000</td>\n",
       "      <td>70.000000</td>\n",
       "      <td>38.000000</td>\n",
       "      <td>99.600000</td>\n",
       "      <td>90.900000</td>\n",
       "      <td>99.300000</td>\n",
       "      <td>58.900000</td>\n",
       "      <td>38.600000</td>\n",
       "      <td>22.800000</td>\n",
       "      <td>31.900000</td>\n",
       "      <td>28.700000</td>\n",
       "      <td>18.300000</td>\n",
       "    </tr>\n",
       "    <tr>\n",
       "      <th>75%</th>\n",
       "      <td>24.700000</td>\n",
       "      <td>54.000000</td>\n",
       "      <td>198.000000</td>\n",
       "      <td>72.250000</td>\n",
       "      <td>39.600000</td>\n",
       "      <td>105.300000</td>\n",
       "      <td>99.100000</td>\n",
       "      <td>103.700000</td>\n",
       "      <td>63.100000</td>\n",
       "      <td>39.900000</td>\n",
       "      <td>24.000000</td>\n",
       "      <td>34.600000</td>\n",
       "      <td>30.100000</td>\n",
       "      <td>18.800000</td>\n",
       "    </tr>\n",
       "    <tr>\n",
       "      <th>max</th>\n",
       "      <td>47.500000</td>\n",
       "      <td>81.000000</td>\n",
       "      <td>363.150000</td>\n",
       "      <td>77.500000</td>\n",
       "      <td>51.200000</td>\n",
       "      <td>136.200000</td>\n",
       "      <td>148.100000</td>\n",
       "      <td>147.700000</td>\n",
       "      <td>87.300000</td>\n",
       "      <td>49.100000</td>\n",
       "      <td>33.900000</td>\n",
       "      <td>45.000000</td>\n",
       "      <td>34.900000</td>\n",
       "      <td>21.400000</td>\n",
       "    </tr>\n",
       "  </tbody>\n",
       "</table>\n",
       "</div>"
      ],
      "text/plain": [
       "       Body fat (%)  Age (years)  Weight (lbs)  Height (inches)   Neck (cm)  \\\n",
       "count    201.000000   201.000000    201.000000       201.000000  201.000000   \n",
       "mean      18.977612    44.631841    178.370398        70.009950   37.992537   \n",
       "std        8.391314    12.462896     30.489848         3.859877    2.549803   \n",
       "min        0.000000    22.000000    118.500000        29.500000   31.100000   \n",
       "25%       12.500000    35.000000    157.000000        68.250000   36.300000   \n",
       "50%       19.200000    43.000000    176.000000        70.000000   38.000000   \n",
       "75%       24.700000    54.000000    198.000000        72.250000   39.600000   \n",
       "max       47.500000    81.000000    363.150000        77.500000   51.200000   \n",
       "\n",
       "       Chest (cm)  Abdomen (cm)    Hip (cm)  Thigh (cm)   Knee (cm)  \\\n",
       "count  201.000000    201.000000  201.000000  201.000000  201.000000   \n",
       "mean   100.500000     92.392537   99.885572   59.407960   38.574627   \n",
       "std      8.508314     10.973468    7.399307    5.503221    2.481875   \n",
       "min     79.300000     69.400000   85.000000   47.200000   33.000000   \n",
       "25%     94.000000     84.400000   95.500000   56.000000   36.900000   \n",
       "50%     99.600000     90.900000   99.300000   58.900000   38.600000   \n",
       "75%    105.300000     99.100000  103.700000   63.100000   39.900000   \n",
       "max    136.200000    148.100000  147.700000   87.300000   49.100000   \n",
       "\n",
       "       Ankle (cm)  Biceps (cm)  Forearm (cm)  Wrist (cm)  \n",
       "count  201.000000   201.000000    201.000000  201.000000  \n",
       "mean    23.060697    32.197015     28.645771   18.216418  \n",
       "std      1.647027     3.196043      2.080167    0.935189  \n",
       "min     19.100000    24.800000     22.000000   15.800000  \n",
       "25%     22.000000    30.000000     27.200000   17.600000  \n",
       "50%     22.800000    31.900000     28.700000   18.300000  \n",
       "75%     24.000000    34.600000     30.100000   18.800000  \n",
       "max     33.900000    45.000000     34.900000   21.400000  "
      ]
     },
     "execution_count": 12,
     "metadata": {},
     "output_type": "execute_result"
    }
   ],
   "source": [
    "train_df.describe()"
   ]
  },
  {
   "cell_type": "code",
   "execution_count": 13,
   "metadata": {},
   "outputs": [],
   "source": [
    "train_df_orig = train_df.copy()"
   ]
  },
  {
   "cell_type": "code",
   "execution_count": 14,
   "metadata": {},
   "outputs": [
    {
     "data": {
      "text/plain": [
       "Body fat (%)       1.000000\n",
       "Age (years)        0.281098\n",
       "Weight (lbs)       0.604166\n",
       "Height (inches)   -0.123521\n",
       "Neck (cm)          0.487892\n",
       "Chest (cm)         0.712247\n",
       "Abdomen (cm)       0.812182\n",
       "Hip (cm)           0.628160\n",
       "Thigh (cm)         0.560525\n",
       "Knee (cm)          0.493188\n",
       "Ankle (cm)         0.269730\n",
       "Biceps (cm)        0.521717\n",
       "Forearm (cm)       0.400249\n",
       "Wrist (cm)         0.366006\n",
       "Name: Body fat (%), dtype: float64"
      ]
     },
     "execution_count": 14,
     "metadata": {},
     "output_type": "execute_result"
    }
   ],
   "source": [
    "train_df.corr()[\"Body fat (%)\"]"
   ]
  },
  {
   "cell_type": "code",
   "execution_count": 15,
   "metadata": {},
   "outputs": [
    {
     "data": {
      "text/plain": [
       "201"
      ]
     },
     "execution_count": 15,
     "metadata": {},
     "output_type": "execute_result"
    }
   ],
   "source": [
    "len(train_df)"
   ]
  },
  {
   "cell_type": "code",
   "execution_count": 16,
   "metadata": {},
   "outputs": [],
   "source": [
    "train_df = train_df_orig.copy()\n",
    "\n",
    "train_df['height_cm'] = train_df['Height (inches)']*2.54"
   ]
  },
  {
   "cell_type": "code",
   "execution_count": 17,
   "metadata": {},
   "outputs": [],
   "source": [
    "def create_ratio(df, col1, col2):\n",
    "    col_name = f\"{col1}_{col2}_ratio\"\n",
    "    df[col_name] = df[col1]/df[col2]\n",
    "    return col_name"
   ]
  },
  {
   "cell_type": "code",
   "execution_count": 18,
   "metadata": {},
   "outputs": [
    {
     "data": {
      "text/plain": [
       "['height_cm_Weight (lbs)_ratio',\n",
       " 'Chest (cm)_Hip (cm)_ratio',\n",
       " 'Age (years)_Weight (lbs)_ratio',\n",
       " 'Knee (cm)_Thigh (cm)_ratio',\n",
       " 'Chest (cm)_Abdomen (cm)_ratio']"
      ]
     },
     "execution_count": 18,
     "metadata": {},
     "output_type": "execute_result"
    }
   ],
   "source": [
    "ratio_list = [('height_cm',\"Weight (lbs)\"),\n",
    "(\"Chest (cm)\",\"Hip (cm)\"),\n",
    "(\"Age (years)\",\"Weight (lbs)\"),\n",
    "(\"Knee (cm)\",\"Thigh (cm)\"),\n",
    "(\"Chest (cm)\",\"Abdomen (cm)\")]\n",
    "\n",
    "ratio_cols = []\n",
    "for col1, col2 in ratio_list: \n",
    "    ratio_cols.append(create_ratio(train_df, col1,col2))\n",
    "ratio_cols"
   ]
  },
  {
   "cell_type": "code",
   "execution_count": 19,
   "metadata": {},
   "outputs": [
    {
     "data": {
      "text/plain": [
       "['height_cm',\n",
       " 'Age (years)',\n",
       " 'Abdomen (cm)',\n",
       " 'Neck (cm)',\n",
       " 'height_cm_Weight (lbs)_ratio',\n",
       " 'Chest (cm)_Hip (cm)_ratio',\n",
       " 'Age (years)_Weight (lbs)_ratio',\n",
       " 'Knee (cm)_Thigh (cm)_ratio',\n",
       " 'Chest (cm)_Abdomen (cm)_ratio']"
      ]
     },
     "execution_count": 19,
     "metadata": {},
     "output_type": "execute_result"
    }
   ],
   "source": [
    "columns_to_train = ['height_cm', \"Age (years)\", \"Abdomen (cm)\", \"Neck (cm)\"]\n",
    "columns_to_train += ratio_cols\n",
    "#columns_to_train += ['lbm']\n",
    "columns_to_train"
   ]
  },
  {
   "cell_type": "code",
   "execution_count": 20,
   "metadata": {},
   "outputs": [
    {
     "data": {
      "text/plain": [
       "Body fat (%)                      1.000000\n",
       "Age (years)                       0.281098\n",
       "Weight (lbs)                      0.604166\n",
       "Height (inches)                  -0.123521\n",
       "Neck (cm)                         0.487892\n",
       "Chest (cm)                        0.712247\n",
       "Abdomen (cm)                      0.812182\n",
       "Hip (cm)                          0.628160\n",
       "Thigh (cm)                        0.560525\n",
       "Knee (cm)                         0.493188\n",
       "Ankle (cm)                        0.269730\n",
       "Biceps (cm)                       0.521717\n",
       "Forearm (cm)                      0.400249\n",
       "Wrist (cm)                        0.366006\n",
       "height_cm                        -0.123521\n",
       "height_cm_Weight (lbs)_ratio     -0.699267\n",
       "Chest (cm)_Hip (cm)_ratio         0.312930\n",
       "Age (years)_Weight (lbs)_ratio   -0.073027\n",
       "Knee (cm)_Thigh (cm)_ratio       -0.368292\n",
       "Chest (cm)_Abdomen (cm)_ratio    -0.690165\n",
       "Name: Body fat (%), dtype: float64"
      ]
     },
     "execution_count": 20,
     "metadata": {},
     "output_type": "execute_result"
    }
   ],
   "source": [
    "train_df.corr()[\"Body fat (%)\"]"
   ]
  },
  {
   "cell_type": "code",
   "execution_count": 21,
   "metadata": {},
   "outputs": [
    {
     "data": {
      "text/plain": [
       "Index(['Body fat (%)', 'Age (years)', 'Weight (lbs)', 'Height (inches)',\n",
       "       'Neck (cm)', 'Chest (cm)', 'Abdomen (cm)', 'Hip (cm)', 'Thigh (cm)',\n",
       "       'Knee (cm)', 'Ankle (cm)', 'Biceps (cm)', 'Forearm (cm)', 'Wrist (cm)',\n",
       "       'height_cm', 'height_cm_Weight (lbs)_ratio',\n",
       "       'Chest (cm)_Hip (cm)_ratio', 'Age (years)_Weight (lbs)_ratio',\n",
       "       'Knee (cm)_Thigh (cm)_ratio', 'Chest (cm)_Abdomen (cm)_ratio'],\n",
       "      dtype='object')"
      ]
     },
     "execution_count": 21,
     "metadata": {},
     "output_type": "execute_result"
    }
   ],
   "source": [
    "train_df.columns"
   ]
  },
  {
   "cell_type": "code",
   "execution_count": 23,
   "metadata": {},
   "outputs": [],
   "source": [
    "\n",
    "\n",
    "from matplotlib import pyplot as plt\n",
    "import seaborn as sns\n",
    "def plot_feature(col_name):\n",
    "    print(f\"===========>{col_name}\")\n",
    "    plt.figure()\n",
    "    sns.boxplot(x=train_df[col_name])\n",
    "\n",
    "#     plt.plot(train_df[col_name])\n",
    "    plt.show()\n",
    "    plt.clf()\n",
    "    plt.close()\n",
    "    print(train_df[col_name].describe())\n",
    "    return None"
   ]
  },
  {
   "cell_type": "code",
   "execution_count": 24,
   "metadata": {},
   "outputs": [],
   "source": [
    "#plot_feature('Abdomen (cm)')"
   ]
  },
  {
   "cell_type": "code",
   "execution_count": 25,
   "metadata": {},
   "outputs": [],
   "source": [
    "# for feature in train_df.columns:\n",
    "#     plot_feature(feature)"
   ]
  },
  {
   "cell_type": "code",
   "execution_count": 26,
   "metadata": {},
   "outputs": [
    {
     "name": "stdout",
     "output_type": "stream",
     "text": [
      "mean max min max_count min_count\n",
      "18.97761194029852 \t 47.5 \t 0.0 \t 138 \t 169 \t Body fat (%) \n",
      "44.6318407960199 \t 81 \t 22 \t 201 \t 201 \t Age (years) \n",
      "178.37039800995026 \t 363.15 \t 118.5 \t 201 \t 201 \t Weight (lbs) \n",
      "70.00995024875621 \t 77.5 \t 29.5 \t 201 \t 201 \t Height (inches) \n",
      "37.992537313432805 \t 51.2 \t 31.1 \t 201 \t 201 \t Neck (cm) \n",
      "100.50000000000001 \t 136.2 \t 79.3 \t 201 \t 201 \t Chest (cm) \n",
      "92.39253731343281 \t 148.1 \t 69.4 \t 201 \t 201 \t Abdomen (cm) \n",
      "99.8855721393035 \t 147.7 \t 85.0 \t 201 \t 201 \t Hip (cm) \n",
      "59.40796019900498 \t 87.3 \t 47.2 \t 201 \t 201 \t Thigh (cm) \n",
      "38.57462686567165 \t 49.1 \t 33.0 \t 201 \t 201 \t Knee (cm) \n",
      "23.06069651741294 \t 33.9 \t 19.1 \t 201 \t 201 \t Ankle (cm) \n",
      "32.19701492537314 \t 45.0 \t 24.8 \t 201 \t 201 \t Biceps (cm) \n",
      "28.64577114427861 \t 34.9 \t 22.0 \t 201 \t 201 \t Forearm (cm) \n",
      "18.21641791044776 \t 21.4 \t 15.8 \t 201 \t 201 \t Wrist (cm) \n",
      "177.82527363184082 \t 196.85 \t 74.93 \t 201 \t 201 \t height_cm \n",
      "1.0210788203897838 \t 1.4575527426160337 \t 0.36551219512195127 \t 201 \t 201 \t height_cm_Weight (lbs)_ratio \n",
      "1.0062567734133894 \t 1.1643700787401574 \t 0.9108910891089109 \t 201 \t 201 \t Chest (cm)_Hip (cm)_ratio \n",
      "0.25738675187521154 \t 0.521415270018622 \t 0.10754912099276112 \t 190 \t 201 \t Age (years)_Weight (lbs)_ratio \n",
      "0.6516152837331741 \t 0.7428571428571429 \t 0.5456989247311828 \t 201 \t 201 \t Knee (cm)_Thigh (cm)_ratio \n",
      "1.0927240503980866 \t 1.2294871794871796 \t 0.9196488858879135 \t 201 \t 201 \t Chest (cm)_Abdomen (cm)_ratio \n"
     ]
    }
   ],
   "source": [
    "print(f\"mean max min max_count min_count\")\n",
    "for col in train_df.columns:\n",
    "    max_val = np.max(train_df[col])\n",
    "    min_val = np.min(train_df[col])\n",
    "    avg = np.mean(train_df[col])\n",
    "    max_count = len(train_df[train_df[col]>((max_val - avg)/2)])\n",
    "    min_count = len(train_df[train_df[col]>((avg-min_val)/2)])\n",
    "    print(f\"{avg} \\t {max_val} \\t {min_val} \\t {max_count} \\t {min_count} \\t {col} \")\n",
    "    "
   ]
  },
  {
   "cell_type": "code",
   "execution_count": 27,
   "metadata": {},
   "outputs": [],
   "source": [
    "from lightgbm.sklearn import LGBMRegressor\n",
    "from xgboost import XGBRegressor\n",
    "from sklearn.ensemble import ExtraTreesRegressor, GradientBoostingRegressor, AdaBoostRegressor, BaggingRegressor, RandomForestRegressor\n",
    "from sklearn.svm import SVR\n",
    "from sklearn.linear_model import LinearRegression, Ridge, Lasso"
   ]
  },
  {
   "cell_type": "code",
   "execution_count": 5,
   "metadata": {},
   "outputs": [],
   "source": [
    "models = [RandomForestRegressor, GradientBoostingRegressor, LGBMRegressor, XGBRegressor, ExtraTreesRegressor, AdaBoostRegressor,\n",
    "          BaggingRegressor, Ridge, Lasso]"
   ]
  },
  {
   "cell_type": "code",
   "execution_count": 86,
   "metadata": {},
   "outputs": [],
   "source": [
    "target = train_df[\"Body fat (%)\"]\n",
    "train_X, test_X, train_y, test_y = train_test_split(train_df[columns_to_train], target, test_size = 0.2, random_state = 43)\n",
    "\n"
   ]
  },
  {
   "cell_type": "code",
   "execution_count": 109,
   "metadata": {},
   "outputs": [],
   "source": [
    "from sklearn.model_selection import ShuffleSplit\n",
    "from sklearn.model_selection import GridSearchCV\n",
    "from sklearn.metrics import mean_squared_error as mas\n",
    "from sklearn.metrics import mean_absolute_error\n",
    "from sklearn.metrics import make_scorer\n",
    "\n",
    "def get_grid_best_estimator(X_train, y_train,base_estimator, params, scorer = None):\n",
    "    # inputs of Grid search \n",
    "    \n",
    "    # create cross validation sets \n",
    "    cv_sets = ShuffleSplit(n_splits = 10, test_size = 0.2, random_state = 50)\n",
    "    #cv_sets = StratifiedKFold(n_splits = 10, shuffle = False, random_state = 50)\n",
    "    \n",
    "    # Default scorer is mean squared error\n",
    "    if scorer is None: \n",
    "        scorer = make_scorer(mean_absolute_error,greater_is_better=False)\n",
    "    \n",
    "    # params\n",
    "    \n",
    "    # Grid search\n",
    "    grid = GridSearchCV(base_estimator, params, scoring = scorer, cv = cv_sets )\n",
    "    \n",
    "    # fit \n",
    "    grid.fit(X_train,y_train)\n",
    "    \n",
    "    best_estimator  = grid.best_estimator_\n",
    "    \n",
    "    \n",
    "    print(\"Best estimator : \")\n",
    "    print(best_estimator)\n",
    "    \n",
    "    #print(\"CV_results:\")\n",
    "    #print(grid.cv_results_)\n",
    "    \n",
    "    return best_estimator\n",
    "\n",
    "\n",
    "\n",
    "def train_and_test_grid_search(X_train, X_test, y_train, y_test, base_estimator, params, scorer = None):\n",
    "    \n",
    "    \n",
    "    best_estimator = get_grid_best_estimator(X_train, y_train, base_estimator, params, scorer)\n",
    "    \n",
    "    print(\"Predicting the target for %d test samples:\" %(len(X_test)))\n",
    "    y_pred = best_estimator.predict(X_test)\n",
    "    \n",
    "    print(\"Prediction complete!\")\n",
    "    \n",
    "    r2 = r2_score(y_pred, y_test)\n",
    "    mas = mean_absolute_error(y_pred, y_test)\n",
    "    print(f\"r2: {r2} \\t mas: {mas} \\t Model {best_estimator}\")\n",
    "    return y_pred"
   ]
  },
  {
   "cell_type": "code",
   "execution_count": 88,
   "metadata": {},
   "outputs": [
    {
     "name": "stdout",
     "output_type": "stream",
     "text": [
      "Removed 9 outlier samples out of 160 from feature and target dataframes\n"
     ]
    }
   ],
   "source": [
    "from scipy import stats\n",
    "\n",
    "def remove_outliers(features_df,target_df,z_score=2.75):\n",
    "    X = features_df\n",
    "    y = target_df\n",
    "    if len(X) != len(y):\n",
    "        print(f\"Error: Number of samples in feature and target dataframe are not same : {len(X)} and {len(y)} \")\n",
    "        return\n",
    "    mask = (np.abs(stats.zscore(X)) < z_score).all(axis=1)\n",
    "    print(f\"Removed {len(X) - len(X[mask])} outlier samples out of {len(X)} from feature and target dataframes\")\n",
    "    return X[mask],y[mask]\n",
    "\n",
    "train_X_or, train_y_or = remove_outliers(train_X, train_y)"
   ]
  },
  {
   "cell_type": "code",
   "execution_count": 89,
   "metadata": {},
   "outputs": [
    {
     "data": {
      "text/plain": [
       "(151, 160, 151, 160)"
      ]
     },
     "execution_count": 89,
     "metadata": {},
     "output_type": "execute_result"
    }
   ],
   "source": [
    "len(train_X_or), len(train_X), len(train_y_or), len(train_y)\n",
    "#train_X = train_X_or"
   ]
  },
  {
   "cell_type": "code",
   "execution_count": 80,
   "metadata": {},
   "outputs": [],
   "source": [
    "# train_X = train_X_or\n",
    "# train_y = train_y_or"
   ]
  },
  {
   "cell_type": "code",
   "execution_count": 81,
   "metadata": {},
   "outputs": [
    {
     "name": "stdout",
     "output_type": "stream",
     "text": [
      "Training <class 'sklearn.ensemble.forest.RandomForestRegressor'>\n",
      "r2: 0.257374769505081 \t mas: 4.199268292682927 \t Model <class 'sklearn.ensemble.forest.RandomForestRegressor'>\n",
      "Training <class 'sklearn.ensemble.gradient_boosting.GradientBoostingRegressor'>\n",
      "r2: 0.3393475371272141 \t mas: 4.190621566244524 \t Model <class 'sklearn.ensemble.gradient_boosting.GradientBoostingRegressor'>\n",
      "Training <class 'lightgbm.sklearn.LGBMRegressor'>\n",
      "r2: 0.5073426208989071 \t mas: 3.7017729318445793 \t Model <class 'lightgbm.sklearn.LGBMRegressor'>\n",
      "Training <class 'xgboost.sklearn.XGBRegressor'>\n",
      "r2: 0.3340110040133133 \t mas: 4.073500921668076 \t Model <class 'xgboost.sklearn.XGBRegressor'>\n",
      "Training <class 'sklearn.ensemble.forest.ExtraTreesRegressor'>\n",
      "r2: 0.374110716598435 \t mas: 4.110975609756099 \t Model <class 'sklearn.ensemble.forest.ExtraTreesRegressor'>\n",
      "Training <class 'sklearn.ensemble.weight_boosting.AdaBoostRegressor'>\n",
      "r2: 0.36985931554857443 \t mas: 3.792156087276323 \t Model <class 'sklearn.ensemble.weight_boosting.AdaBoostRegressor'>\n",
      "Training <class 'sklearn.ensemble.bagging.BaggingRegressor'>\n",
      "r2: 0.3954347453232544 \t mas: 4.075853658536586 \t Model <class 'sklearn.ensemble.bagging.BaggingRegressor'>\n",
      "Training <class 'sklearn.linear_model.ridge.Ridge'>\n",
      "r2: 0.5874717833706085 \t mas: 3.751843040476142 \t Model <class 'sklearn.linear_model.ridge.Ridge'>\n",
      "Training <class 'sklearn.linear_model.coordinate_descent.Lasso'>\n",
      "r2: 0.5694753790563598 \t mas: 3.788921424738744 \t Model <class 'sklearn.linear_model.coordinate_descent.Lasso'>\n"
     ]
    }
   ],
   "source": [
    "d = {}\n",
    "model = None\n",
    "for model in models:\n",
    "    print(f\"Training {model}\")\n",
    "    d[model] = model()\n",
    "    d[model].fit(train_X, train_y)\n",
    "    pred = d[model].predict(test_X)\n",
    "    r2 = r2_score(pred, test_y)\n",
    "    mas = mean_absolute_error(pred, test_y)\n",
    "    print(f\"r2: {r2} \\t mas: {mas} \\t Model {model}\")\n",
    "    d[model] = [d[model], r2, mas]\n",
    "    "
   ]
  },
  {
   "cell_type": "code",
   "execution_count": 108,
   "metadata": {},
   "outputs": [
    {
     "name": "stdout",
     "output_type": "stream",
     "text": [
      "Best estimator : \n",
      "XGBRegressor(base_score=0.5, booster='dart', colsample_bylevel=1,\n",
      "       colsample_bytree=1, gamma=0, importance_type='gain',\n",
      "       learning_rate=0.1, max_delta_step=0, max_depth=2,\n",
      "       min_child_weight=1, missing=None, n_estimators=100, n_jobs=1,\n",
      "       nthread=None, objective='reg:linear', random_state=0, reg_alpha=0,\n",
      "       reg_lambda=1, scale_pos_weight=1, seed=None, silent=True,\n",
      "       subsample=1)\n",
      "Predicting the target for 41 test samples:\n",
      "Prediction complete!\n",
      "r2: 0.25721912024836824 \t mas: 4.105300312507443 \t Model XGBRegressor(base_score=0.5, booster='gbtree', colsample_bylevel=1,\n",
      "       colsample_bytree=1, gamma=0, importance_type='gain',\n",
      "       learning_rate=0.1, max_delta_step=0, max_depth=3,\n",
      "       min_child_weight=1, missing=None, n_estimators=100, n_jobs=1,\n",
      "       nthread=None, objective='reg:linear', random_state=0, reg_alpha=0,\n",
      "       reg_lambda=1, scale_pos_weight=1, seed=None, silent=True,\n",
      "       subsample=1)\n"
     ]
    },
    {
     "data": {
      "text/plain": [
       "array([24.530586, 19.212473, 21.402187, 23.58047 , 17.585123, 13.708346,\n",
       "        9.524056, 20.21762 , 22.159826, 33.14605 , 11.357574, 23.329897,\n",
       "       24.113998,  8.101816, 25.802692, 18.261665, 11.056096, 24.180044,\n",
       "       17.91078 , 23.738026, 14.206358, 21.89691 ,  9.452186, 15.397398,\n",
       "        8.200375, 22.743301, 21.170483, 24.336874, 17.79172 , 19.125803,\n",
       "       22.97938 , 21.97662 , 24.357445, 15.774287, 19.480745, 27.067154,\n",
       "       10.456526, 18.04754 , 21.737772, 19.715822, 18.917862],\n",
       "      dtype=float32)"
      ]
     },
     "execution_count": 108,
     "metadata": {},
     "output_type": "execute_result"
    }
   ],
   "source": [
    "# rf_params \n",
    "params = {'max_depth':[2,3,4,5,10],\n",
    "         'n_estimators':[50,100,200,300],\n",
    "         'booster':['gbtree','gblinear','dart']}\n",
    "\n",
    "\n",
    "\n",
    "train_and_test_grid_search(train_X_or, test_X, train_y_or, test_y,XGBRegressor(),params )\n"
   ]
  },
  {
   "cell_type": "code",
   "execution_count": 110,
   "metadata": {},
   "outputs": [],
   "source": [
    "def get_xgb():\n",
    "    return XGBRegressor(base_score=0.5, booster='dart', colsample_bylevel=1,\n",
    "       colsample_bytree=1, gamma=0, importance_type='gain',\n",
    "       learning_rate=0.1, max_delta_step=0, max_depth=2,\n",
    "       min_child_weight=1, missing=None, n_estimators=100, n_jobs=1,\n",
    "       nthread=None, objective='reg:linear', random_state=0, reg_alpha=0,\n",
    "       reg_lambda=1, scale_pos_weight=1, seed=None, silent=True,\n",
    "       subsample=1)"
   ]
  },
  {
   "cell_type": "code",
   "execution_count": 115,
   "metadata": {},
   "outputs": [
    {
     "name": "stdout",
     "output_type": "stream",
     "text": [
      "Best estimator : \n",
      "AdaBoostRegressor(base_estimator=DecisionTreeRegressor(criterion='mse', max_depth=3, max_features=None,\n",
      "           max_leaf_nodes=None, min_impurity_decrease=0.0,\n",
      "           min_impurity_split=None, min_samples_leaf=1,\n",
      "           min_samples_split=2, min_weight_fraction_leaf=0.0,\n",
      "           presort=False, random_state=None, splitter='best'),\n",
      "         learning_rate=1, loss='exponential', n_estimators=25,\n",
      "         random_state=None)\n",
      "Predicting the target for 41 test samples:\n",
      "Prediction complete!\n",
      "r2: 0.23634037786497908 \t mas: 4.110026427351787 \t Model AdaBoostRegressor(base_estimator=DecisionTreeRegressor(criterion='mse', max_depth=3, max_features=None,\n",
      "           max_leaf_nodes=None, min_impurity_decrease=0.0,\n",
      "           min_impurity_split=None, min_samples_leaf=1,\n",
      "           min_samples_split=2, min_weight_fraction_leaf=0.0,\n",
      "           presort=False, random_state=None, splitter='best'),\n",
      "         learning_rate=1, loss='exponential', n_estimators=25,\n",
      "         random_state=None)\n"
     ]
    },
    {
     "data": {
      "text/plain": [
       "array([22.54418605, 19.704     , 20.37534247, 27.5       , 17.80571429,\n",
       "       13.27692308, 10.1375    , 20.37534247, 25.24      , 28.72307692,\n",
       "       10.68064516, 20.89726027, 20.43690476, 10.425     , 26.20447761,\n",
       "       19.67912088, 13.23636364, 27.0195122 , 20.43690476, 25.42916667,\n",
       "       17.80571429, 21.53283582, 10.1375    , 19.12272727,  8.232     ,\n",
       "       22.54418605, 20.59152542, 26.01764706, 19.97291667, 17.4       ,\n",
       "       26.68461538, 25.42916667, 22.775     , 16.576     , 20.07878788,\n",
       "       27.525     ,  9.885     , 19.67912088, 21.53283582, 20.87727273,\n",
       "       20.07878788])"
      ]
     },
     "execution_count": 115,
     "metadata": {},
     "output_type": "execute_result"
    }
   ],
   "source": [
    "# Adaboost\n",
    "from sklearn.tree import DecisionTreeRegressor\n",
    "\n",
    "params = {'base_estimator':[DecisionTreeRegressor(max_depth=3),DecisionTreeRegressor(max_depth=10)],\n",
    "          'n_estimators':[10,25,50,100,200, 500],\n",
    "         'learning_rate':[1,0.1, 0.001],\n",
    "         'loss':['linear','square','exponential']}\n",
    "\n",
    "\n",
    "\n",
    "train_and_test_grid_search(train_X_or, test_X, train_y_or, test_y,AdaBoostRegressor(),params )\n"
   ]
  },
  {
   "cell_type": "code",
   "execution_count": 120,
   "metadata": {},
   "outputs": [
    {
     "name": "stdout",
     "output_type": "stream",
     "text": [
      "Best estimator : \n",
      "Lasso(alpha=0.1, copy_X=True, fit_intercept=True, max_iter=1000,\n",
      "   normalize=False, positive=False, precompute=False, random_state=None,\n",
      "   selection='cyclic', tol=0.0001, warm_start=False)\n",
      "Predicting the target for 41 test samples:\n",
      "Prediction complete!\n",
      "r2: 0.5891409616369019 \t mas: 3.7255836660172097 \t Model Lasso(alpha=0.1, copy_X=True, fit_intercept=True, max_iter=1000,\n",
      "   normalize=False, positive=False, precompute=False, random_state=None,\n",
      "   selection='cyclic', tol=0.0001, warm_start=False)\n"
     ]
    },
    {
     "name": "stderr",
     "output_type": "stream",
     "text": [
      "/Users/vthotakura/anaconda3/lib/python3.6/site-packages/sklearn/model_selection/_validation.py:528: UserWarning: With alpha=0, this algorithm does not converge well. You are advised to use the LinearRegression estimator\n",
      "  estimator.fit(X_train, y_train, **fit_params)\n",
      "/Users/vthotakura/anaconda3/lib/python3.6/site-packages/sklearn/linear_model/coordinate_descent.py:478: UserWarning: Coordinate descent with no regularization may lead to unexpected results and is discouraged.\n",
      "  positive)\n",
      "/Users/vthotakura/anaconda3/lib/python3.6/site-packages/sklearn/linear_model/coordinate_descent.py:492: ConvergenceWarning: Objective did not converge. You might want to increase the number of iterations. Fitting data with very small alpha may cause precision problems.\n",
      "  ConvergenceWarning)\n",
      "/Users/vthotakura/anaconda3/lib/python3.6/site-packages/sklearn/model_selection/_validation.py:528: UserWarning: With alpha=0, this algorithm does not converge well. You are advised to use the LinearRegression estimator\n",
      "  estimator.fit(X_train, y_train, **fit_params)\n",
      "/Users/vthotakura/anaconda3/lib/python3.6/site-packages/sklearn/linear_model/coordinate_descent.py:478: UserWarning: Coordinate descent with no regularization may lead to unexpected results and is discouraged.\n",
      "  positive)\n",
      "/Users/vthotakura/anaconda3/lib/python3.6/site-packages/sklearn/linear_model/coordinate_descent.py:492: ConvergenceWarning: Objective did not converge. You might want to increase the number of iterations. Fitting data with very small alpha may cause precision problems.\n",
      "  ConvergenceWarning)\n",
      "/Users/vthotakura/anaconda3/lib/python3.6/site-packages/sklearn/model_selection/_validation.py:528: UserWarning: With alpha=0, this algorithm does not converge well. You are advised to use the LinearRegression estimator\n",
      "  estimator.fit(X_train, y_train, **fit_params)\n",
      "/Users/vthotakura/anaconda3/lib/python3.6/site-packages/sklearn/linear_model/coordinate_descent.py:478: UserWarning: Coordinate descent with no regularization may lead to unexpected results and is discouraged.\n",
      "  positive)\n",
      "/Users/vthotakura/anaconda3/lib/python3.6/site-packages/sklearn/linear_model/coordinate_descent.py:492: ConvergenceWarning: Objective did not converge. You might want to increase the number of iterations. Fitting data with very small alpha may cause precision problems.\n",
      "  ConvergenceWarning)\n",
      "/Users/vthotakura/anaconda3/lib/python3.6/site-packages/sklearn/model_selection/_validation.py:528: UserWarning: With alpha=0, this algorithm does not converge well. You are advised to use the LinearRegression estimator\n",
      "  estimator.fit(X_train, y_train, **fit_params)\n",
      "/Users/vthotakura/anaconda3/lib/python3.6/site-packages/sklearn/linear_model/coordinate_descent.py:478: UserWarning: Coordinate descent with no regularization may lead to unexpected results and is discouraged.\n",
      "  positive)\n",
      "/Users/vthotakura/anaconda3/lib/python3.6/site-packages/sklearn/linear_model/coordinate_descent.py:492: ConvergenceWarning: Objective did not converge. You might want to increase the number of iterations. Fitting data with very small alpha may cause precision problems.\n",
      "  ConvergenceWarning)\n",
      "/Users/vthotakura/anaconda3/lib/python3.6/site-packages/sklearn/model_selection/_validation.py:528: UserWarning: With alpha=0, this algorithm does not converge well. You are advised to use the LinearRegression estimator\n",
      "  estimator.fit(X_train, y_train, **fit_params)\n",
      "/Users/vthotakura/anaconda3/lib/python3.6/site-packages/sklearn/linear_model/coordinate_descent.py:478: UserWarning: Coordinate descent with no regularization may lead to unexpected results and is discouraged.\n",
      "  positive)\n",
      "/Users/vthotakura/anaconda3/lib/python3.6/site-packages/sklearn/linear_model/coordinate_descent.py:492: ConvergenceWarning: Objective did not converge. You might want to increase the number of iterations. Fitting data with very small alpha may cause precision problems.\n",
      "  ConvergenceWarning)\n",
      "/Users/vthotakura/anaconda3/lib/python3.6/site-packages/sklearn/model_selection/_validation.py:528: UserWarning: With alpha=0, this algorithm does not converge well. You are advised to use the LinearRegression estimator\n",
      "  estimator.fit(X_train, y_train, **fit_params)\n",
      "/Users/vthotakura/anaconda3/lib/python3.6/site-packages/sklearn/linear_model/coordinate_descent.py:478: UserWarning: Coordinate descent with no regularization may lead to unexpected results and is discouraged.\n",
      "  positive)\n",
      "/Users/vthotakura/anaconda3/lib/python3.6/site-packages/sklearn/linear_model/coordinate_descent.py:492: ConvergenceWarning: Objective did not converge. You might want to increase the number of iterations. Fitting data with very small alpha may cause precision problems.\n",
      "  ConvergenceWarning)\n",
      "/Users/vthotakura/anaconda3/lib/python3.6/site-packages/sklearn/model_selection/_validation.py:528: UserWarning: With alpha=0, this algorithm does not converge well. You are advised to use the LinearRegression estimator\n",
      "  estimator.fit(X_train, y_train, **fit_params)\n",
      "/Users/vthotakura/anaconda3/lib/python3.6/site-packages/sklearn/linear_model/coordinate_descent.py:478: UserWarning: Coordinate descent with no regularization may lead to unexpected results and is discouraged.\n",
      "  positive)\n",
      "/Users/vthotakura/anaconda3/lib/python3.6/site-packages/sklearn/linear_model/coordinate_descent.py:492: ConvergenceWarning: Objective did not converge. You might want to increase the number of iterations. Fitting data with very small alpha may cause precision problems.\n",
      "  ConvergenceWarning)\n",
      "/Users/vthotakura/anaconda3/lib/python3.6/site-packages/sklearn/model_selection/_validation.py:528: UserWarning: With alpha=0, this algorithm does not converge well. You are advised to use the LinearRegression estimator\n",
      "  estimator.fit(X_train, y_train, **fit_params)\n",
      "/Users/vthotakura/anaconda3/lib/python3.6/site-packages/sklearn/linear_model/coordinate_descent.py:478: UserWarning: Coordinate descent with no regularization may lead to unexpected results and is discouraged.\n",
      "  positive)\n",
      "/Users/vthotakura/anaconda3/lib/python3.6/site-packages/sklearn/linear_model/coordinate_descent.py:492: ConvergenceWarning: Objective did not converge. You might want to increase the number of iterations. Fitting data with very small alpha may cause precision problems.\n",
      "  ConvergenceWarning)\n",
      "/Users/vthotakura/anaconda3/lib/python3.6/site-packages/sklearn/model_selection/_validation.py:528: UserWarning: With alpha=0, this algorithm does not converge well. You are advised to use the LinearRegression estimator\n",
      "  estimator.fit(X_train, y_train, **fit_params)\n",
      "/Users/vthotakura/anaconda3/lib/python3.6/site-packages/sklearn/linear_model/coordinate_descent.py:478: UserWarning: Coordinate descent with no regularization may lead to unexpected results and is discouraged.\n",
      "  positive)\n",
      "/Users/vthotakura/anaconda3/lib/python3.6/site-packages/sklearn/linear_model/coordinate_descent.py:492: ConvergenceWarning: Objective did not converge. You might want to increase the number of iterations. Fitting data with very small alpha may cause precision problems.\n",
      "  ConvergenceWarning)\n",
      "/Users/vthotakura/anaconda3/lib/python3.6/site-packages/sklearn/model_selection/_validation.py:528: UserWarning: With alpha=0, this algorithm does not converge well. You are advised to use the LinearRegression estimator\n",
      "  estimator.fit(X_train, y_train, **fit_params)\n",
      "/Users/vthotakura/anaconda3/lib/python3.6/site-packages/sklearn/linear_model/coordinate_descent.py:478: UserWarning: Coordinate descent with no regularization may lead to unexpected results and is discouraged.\n",
      "  positive)\n",
      "/Users/vthotakura/anaconda3/lib/python3.6/site-packages/sklearn/linear_model/coordinate_descent.py:492: ConvergenceWarning: Objective did not converge. You might want to increase the number of iterations. Fitting data with very small alpha may cause precision problems.\n",
      "  ConvergenceWarning)\n"
     ]
    },
    {
     "data": {
      "text/plain": [
       "array([23.51756256, 16.70108654, 18.44502267, 24.6416983 , 14.11615401,\n",
       "       16.2219814 ,  8.67344508, 18.23348352, 23.1148111 , 49.10190023,\n",
       "        6.23757515, 24.00297988, 21.93946268,  9.67945975, 27.89618311,\n",
       "       14.69463638, 12.13713507, 29.92515375, 18.76194408, 27.90916513,\n",
       "       14.81497048, 21.40596509,  9.04553262, 14.99997503,  7.15086651,\n",
       "       20.01908659, 22.14088155, 26.63620156, 17.33225428, 18.63673513,\n",
       "       23.16154635, 22.68854226, 25.48491537, 16.94114116, 16.8093846 ,\n",
       "       27.01295043, 11.47031637, 16.81179551, 19.96403095, 19.72808195,\n",
       "       19.74896792])"
      ]
     },
     "execution_count": 120,
     "metadata": {},
     "output_type": "execute_result"
    }
   ],
   "source": [
    "params = {'alpha':[1,0.9, 0.1, 0.11, 0.2,0.5,0,0.001,0.75]}\n",
    "\n",
    "\n",
    "\n",
    "train_and_test_grid_search(train_X_or, test_X, train_y_or, test_y,Lasso(),params )\n"
   ]
  },
  {
   "cell_type": "code",
   "execution_count": 123,
   "metadata": {},
   "outputs": [
    {
     "name": "stdout",
     "output_type": "stream",
     "text": [
      "Best estimator : \n",
      "Ridge(alpha=0.75, copy_X=True, fit_intercept=True, max_iter=None,\n",
      "   normalize=False, random_state=None, solver='sparse_cg', tol=0.001)\n",
      "Predicting the target for 41 test samples:\n",
      "Prediction complete!\n",
      "r2: 0.5901724421131652 \t mas: 3.7359687227241847 \t Model Ridge(alpha=0.75, copy_X=True, fit_intercept=True, max_iter=None,\n",
      "   normalize=False, random_state=None, solver='sparse_cg', tol=0.001)\n"
     ]
    },
    {
     "data": {
      "text/plain": [
       "array([23.49295563, 16.77955221, 18.5459369 , 24.78869424, 14.0603507 ,\n",
       "       16.26775477,  8.50474034, 18.28769951, 23.11077337, 49.14018731,\n",
       "        6.21429059, 23.9923918 , 22.12023352,  9.59439276, 27.85645275,\n",
       "       14.52860369, 12.00436943, 29.89668125, 18.72793744, 27.9703501 ,\n",
       "       14.82753275, 21.33105538,  8.90914396, 14.93376077,  7.15404201,\n",
       "       19.9334127 , 22.04300021, 26.8921058 , 17.29035214, 18.69442096,\n",
       "       23.15393241, 22.53813683, 25.51496405, 16.86312175, 16.78840195,\n",
       "       27.08733406, 11.62762954, 16.77812599, 19.83857859, 19.7599021 ,\n",
       "       19.74679431])"
      ]
     },
     "execution_count": 123,
     "metadata": {},
     "output_type": "execute_result"
    }
   ],
   "source": [
    "params = {'alpha':[1,0.9, 0.1, 0.11, 0.2,0.5,0,0.001,0.75],\n",
    "         'solver' : ['auto', 'svd', 'cholesky', 'lsqr', 'sparse_cg', 'sag', 'saga']}\n",
    "\n",
    "\n",
    "\n",
    "train_and_test_grid_search(train_X_or, test_X, train_y_or, test_y,Ridge(),params )\n"
   ]
  },
  {
   "cell_type": "code",
   "execution_count": null,
   "metadata": {},
   "outputs": [],
   "source": []
  },
  {
   "cell_type": "code",
   "execution_count": null,
   "metadata": {},
   "outputs": [],
   "source": []
  },
  {
   "cell_type": "code",
   "execution_count": null,
   "metadata": {},
   "outputs": [],
   "source": []
  },
  {
   "cell_type": "code",
   "execution_count": null,
   "metadata": {},
   "outputs": [],
   "source": []
  },
  {
   "cell_type": "code",
   "execution_count": null,
   "metadata": {},
   "outputs": [],
   "source": []
  },
  {
   "cell_type": "code",
   "execution_count": null,
   "metadata": {},
   "outputs": [],
   "source": []
  },
  {
   "cell_type": "code",
   "execution_count": null,
   "metadata": {},
   "outputs": [],
   "source": []
  },
  {
   "cell_type": "code",
   "execution_count": null,
   "metadata": {},
   "outputs": [],
   "source": [
    "from lightgbm.sklearn import LGBMModel\n",
    "\n",
    "random_state = 42\n",
    "\n",
    "def get_lgbm_obj():\n",
    "    return LGBMRegressor( objective = 'regression',\n",
    "                        scale_pos_weight = 1,\n",
    "                          metric = \"auc\", \n",
    "                          boosting = 'gbdt', \n",
    "                          max_depth = -1, \n",
    "                          num_leaves = 13, \n",
    "                          learning_rate = 0.01, \n",
    "                          bagging_freq = 5, \n",
    "                          bagging_fraction = 0.4, \n",
    "                          feature_fraction = 0.05, \n",
    "                          min_data_in_leaf = 80, \n",
    "                          min_sum_heassian_in_leaf = 10, \n",
    "                          tree_learner = \"serial\", \n",
    "                          boost_from_average = False, \n",
    "                          bagging_seed = random_state, \n",
    "                          verbosity = 1, \n",
    "                          seed = random_state,\n",
    "                         num_boost_round = 100000,\n",
    "                         is_training_metric = True,\n",
    "                         is_provide_training_metric=True)\n",
    "\n",
    "def get_lgbm_obj2():\n",
    "    return LGBMRegressor( objective = 'regression',\n",
    "                          metric = \"auc\", \n",
    "                          seed = random_state,\n",
    "                         num_boost_round = 100000,\n",
    "                         is_training_metric = True,\n",
    "                         is_provide_training_metric=True)\n",
    "                          \n",
    "                          "
   ]
  },
  {
   "cell_type": "code",
   "execution_count": null,
   "metadata": {},
   "outputs": [],
   "source": [
    "lgbm = get_lgbm_obj2()"
   ]
  },
  {
   "cell_type": "code",
   "execution_count": null,
   "metadata": {},
   "outputs": [],
   "source": [
    "lgbm.fit(train_X, train_y)"
   ]
  },
  {
   "cell_type": "code",
   "execution_count": null,
   "metadata": {},
   "outputs": [],
   "source": [
    "pred = lgbm.predict(test_X)"
   ]
  },
  {
   "cell_type": "code",
   "execution_count": null,
   "metadata": {},
   "outputs": [],
   "source": [
    "r2 = r2_score(pred, test_y)\n",
    "mas = mean_absolute_error(pred, test_y)\n",
    "print(f\"Model {model}, r2: {r2}, mas: {mas}\")\n"
   ]
  },
  {
   "cell_type": "code",
   "execution_count": null,
   "metadata": {},
   "outputs": [],
   "source": []
  },
  {
   "cell_type": "code",
   "execution_count": null,
   "metadata": {},
   "outputs": [],
   "source": []
  }
 ],
 "metadata": {
  "kernelspec": {
   "display_name": "Python 3",
   "language": "python",
   "name": "python3"
  },
  "language_info": {
   "codemirror_mode": {
    "name": "ipython",
    "version": 3
   },
   "file_extension": ".py",
   "mimetype": "text/x-python",
   "name": "python",
   "nbconvert_exporter": "python",
   "pygments_lexer": "ipython3",
   "version": "3.6.8"
  }
 },
 "nbformat": 4,
 "nbformat_minor": 1
}
