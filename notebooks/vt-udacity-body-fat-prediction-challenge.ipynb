{
 "cells": [
  {
   "cell_type": "code",
   "execution_count": 1,
   "metadata": {
    "scrolled": true
   },
   "outputs": [],
   "source": [
    "import warnings\n",
    "warnings.filterwarnings('ignore')\n",
    "\n",
    "import os\n",
    "\n",
    "PROJ_ROOT = os.pardir\n",
    "\n",
    "TRAIN_DATA = os.path.join(PROJ_ROOT, \"data\", \"raw\", \"train.csv\")\n",
    "TEST_DATA = os.path.join(PROJ_ROOT, \"data\", \"raw\", \"test.csv\")\n",
    "\n",
    "import sys\n",
    "sys.path.append(os.path.join(PROJ_ROOT, \"src\"))\n",
    "\n",
    "%reload_ext autoreload\n",
    "%autoreload 2\n",
    "%matplotlib inline"
   ]
  },
  {
   "cell_type": "code",
   "execution_count": 2,
   "metadata": {},
   "outputs": [],
   "source": [
    "# from fastai.imports import *\n",
    "# from fastai.structured import *\n",
    "\n",
    "# from pandas_summary import DataFrameSummary\n",
    "from IPython.display import display\n",
    "\n",
    "import pandas as pd\n",
    "import numpy as np\n",
    "\n",
    "# from fastai.imports import *\n",
    "# from fastai.torch_imports import *\n",
    "# from fastai.transforms import *\n",
    "# from fastai.conv_learner import *\n",
    "# from fastai.model import *\n",
    "# from fastai.dataset import *\n",
    "# from fastai.sgdr import *\n",
    "# from fastai.plots import *"
   ]
  },
  {
   "cell_type": "code",
   "execution_count": 3,
   "metadata": {},
   "outputs": [],
   "source": [
    "PATH = os.path.join(PROJ_ROOT, \"data\", \"raw/\")\n",
    "\n",
    "PATH\n",
    "\n",
    "\n",
    "from sklearn.metrics import accuracy_score, r2_score\n",
    "from sklearn.metrics import mean_absolute_error\n",
    "from sklearn.model_selection import train_test_split"
   ]
  },
  {
   "cell_type": "code",
   "execution_count": 4,
   "metadata": {},
   "outputs": [
    {
     "name": "stdout",
     "output_type": "stream",
     "text": [
      "bodyfat-test.csv             kaggle_solution_template.csv\r\n",
      "bodyfat-train.csv\r\n"
     ]
    }
   ],
   "source": [
    "!ls {PATH} "
   ]
  },
  {
   "cell_type": "code",
   "execution_count": 5,
   "metadata": {},
   "outputs": [],
   "source": [
    "train_df = pd.read_csv(f\"{PATH}/bodyfat-train.csv\")\n",
    "test_df = pd.read_csv(f\"{PATH}/bodyfat-test.csv\")"
   ]
  },
  {
   "cell_type": "code",
   "execution_count": 6,
   "metadata": {},
   "outputs": [
    {
     "data": {
      "text/html": [
       "<div>\n",
       "<style scoped>\n",
       "    .dataframe tbody tr th:only-of-type {\n",
       "        vertical-align: middle;\n",
       "    }\n",
       "\n",
       "    .dataframe tbody tr th {\n",
       "        vertical-align: top;\n",
       "    }\n",
       "\n",
       "    .dataframe thead th {\n",
       "        text-align: right;\n",
       "    }\n",
       "</style>\n",
       "<table border=\"1\" class=\"dataframe\">\n",
       "  <thead>\n",
       "    <tr style=\"text-align: right;\">\n",
       "      <th></th>\n",
       "      <th>Body fat (%)</th>\n",
       "      <th>Age (years)</th>\n",
       "      <th>Weight (lbs)</th>\n",
       "      <th>Height (inches)</th>\n",
       "      <th>Neck (cm)</th>\n",
       "      <th>Chest (cm)</th>\n",
       "      <th>Abdomen (cm)</th>\n",
       "      <th>Hip (cm)</th>\n",
       "      <th>Thigh (cm)</th>\n",
       "      <th>Knee (cm)</th>\n",
       "      <th>Ankle (cm)</th>\n",
       "      <th>Biceps (cm)</th>\n",
       "      <th>Forearm (cm)</th>\n",
       "      <th>Wrist (cm)</th>\n",
       "    </tr>\n",
       "  </thead>\n",
       "  <tbody>\n",
       "    <tr>\n",
       "      <th>count</th>\n",
       "      <td>201.000000</td>\n",
       "      <td>201.000000</td>\n",
       "      <td>201.000000</td>\n",
       "      <td>201.000000</td>\n",
       "      <td>201.000000</td>\n",
       "      <td>201.000000</td>\n",
       "      <td>201.000000</td>\n",
       "      <td>201.000000</td>\n",
       "      <td>201.000000</td>\n",
       "      <td>201.000000</td>\n",
       "      <td>201.000000</td>\n",
       "      <td>201.000000</td>\n",
       "      <td>201.000000</td>\n",
       "      <td>201.000000</td>\n",
       "    </tr>\n",
       "    <tr>\n",
       "      <th>mean</th>\n",
       "      <td>18.977612</td>\n",
       "      <td>44.631841</td>\n",
       "      <td>178.370398</td>\n",
       "      <td>70.009950</td>\n",
       "      <td>37.992537</td>\n",
       "      <td>100.500000</td>\n",
       "      <td>92.392537</td>\n",
       "      <td>99.885572</td>\n",
       "      <td>59.407960</td>\n",
       "      <td>38.574627</td>\n",
       "      <td>23.060697</td>\n",
       "      <td>32.197015</td>\n",
       "      <td>28.645771</td>\n",
       "      <td>18.216418</td>\n",
       "    </tr>\n",
       "    <tr>\n",
       "      <th>std</th>\n",
       "      <td>8.391314</td>\n",
       "      <td>12.462896</td>\n",
       "      <td>30.489848</td>\n",
       "      <td>3.859877</td>\n",
       "      <td>2.549803</td>\n",
       "      <td>8.508314</td>\n",
       "      <td>10.973468</td>\n",
       "      <td>7.399307</td>\n",
       "      <td>5.503221</td>\n",
       "      <td>2.481875</td>\n",
       "      <td>1.647027</td>\n",
       "      <td>3.196043</td>\n",
       "      <td>2.080167</td>\n",
       "      <td>0.935189</td>\n",
       "    </tr>\n",
       "    <tr>\n",
       "      <th>min</th>\n",
       "      <td>0.000000</td>\n",
       "      <td>22.000000</td>\n",
       "      <td>118.500000</td>\n",
       "      <td>29.500000</td>\n",
       "      <td>31.100000</td>\n",
       "      <td>79.300000</td>\n",
       "      <td>69.400000</td>\n",
       "      <td>85.000000</td>\n",
       "      <td>47.200000</td>\n",
       "      <td>33.000000</td>\n",
       "      <td>19.100000</td>\n",
       "      <td>24.800000</td>\n",
       "      <td>22.000000</td>\n",
       "      <td>15.800000</td>\n",
       "    </tr>\n",
       "    <tr>\n",
       "      <th>25%</th>\n",
       "      <td>12.500000</td>\n",
       "      <td>35.000000</td>\n",
       "      <td>157.000000</td>\n",
       "      <td>68.250000</td>\n",
       "      <td>36.300000</td>\n",
       "      <td>94.000000</td>\n",
       "      <td>84.400000</td>\n",
       "      <td>95.500000</td>\n",
       "      <td>56.000000</td>\n",
       "      <td>36.900000</td>\n",
       "      <td>22.000000</td>\n",
       "      <td>30.000000</td>\n",
       "      <td>27.200000</td>\n",
       "      <td>17.600000</td>\n",
       "    </tr>\n",
       "    <tr>\n",
       "      <th>50%</th>\n",
       "      <td>19.200000</td>\n",
       "      <td>43.000000</td>\n",
       "      <td>176.000000</td>\n",
       "      <td>70.000000</td>\n",
       "      <td>38.000000</td>\n",
       "      <td>99.600000</td>\n",
       "      <td>90.900000</td>\n",
       "      <td>99.300000</td>\n",
       "      <td>58.900000</td>\n",
       "      <td>38.600000</td>\n",
       "      <td>22.800000</td>\n",
       "      <td>31.900000</td>\n",
       "      <td>28.700000</td>\n",
       "      <td>18.300000</td>\n",
       "    </tr>\n",
       "    <tr>\n",
       "      <th>75%</th>\n",
       "      <td>24.700000</td>\n",
       "      <td>54.000000</td>\n",
       "      <td>198.000000</td>\n",
       "      <td>72.250000</td>\n",
       "      <td>39.600000</td>\n",
       "      <td>105.300000</td>\n",
       "      <td>99.100000</td>\n",
       "      <td>103.700000</td>\n",
       "      <td>63.100000</td>\n",
       "      <td>39.900000</td>\n",
       "      <td>24.000000</td>\n",
       "      <td>34.600000</td>\n",
       "      <td>30.100000</td>\n",
       "      <td>18.800000</td>\n",
       "    </tr>\n",
       "    <tr>\n",
       "      <th>max</th>\n",
       "      <td>47.500000</td>\n",
       "      <td>81.000000</td>\n",
       "      <td>363.150000</td>\n",
       "      <td>77.500000</td>\n",
       "      <td>51.200000</td>\n",
       "      <td>136.200000</td>\n",
       "      <td>148.100000</td>\n",
       "      <td>147.700000</td>\n",
       "      <td>87.300000</td>\n",
       "      <td>49.100000</td>\n",
       "      <td>33.900000</td>\n",
       "      <td>45.000000</td>\n",
       "      <td>34.900000</td>\n",
       "      <td>21.400000</td>\n",
       "    </tr>\n",
       "  </tbody>\n",
       "</table>\n",
       "</div>"
      ],
      "text/plain": [
       "       Body fat (%)  Age (years)  Weight (lbs)  Height (inches)   Neck (cm)  \\\n",
       "count    201.000000   201.000000    201.000000       201.000000  201.000000   \n",
       "mean      18.977612    44.631841    178.370398        70.009950   37.992537   \n",
       "std        8.391314    12.462896     30.489848         3.859877    2.549803   \n",
       "min        0.000000    22.000000    118.500000        29.500000   31.100000   \n",
       "25%       12.500000    35.000000    157.000000        68.250000   36.300000   \n",
       "50%       19.200000    43.000000    176.000000        70.000000   38.000000   \n",
       "75%       24.700000    54.000000    198.000000        72.250000   39.600000   \n",
       "max       47.500000    81.000000    363.150000        77.500000   51.200000   \n",
       "\n",
       "       Chest (cm)  Abdomen (cm)    Hip (cm)  Thigh (cm)   Knee (cm)  \\\n",
       "count  201.000000    201.000000  201.000000  201.000000  201.000000   \n",
       "mean   100.500000     92.392537   99.885572   59.407960   38.574627   \n",
       "std      8.508314     10.973468    7.399307    5.503221    2.481875   \n",
       "min     79.300000     69.400000   85.000000   47.200000   33.000000   \n",
       "25%     94.000000     84.400000   95.500000   56.000000   36.900000   \n",
       "50%     99.600000     90.900000   99.300000   58.900000   38.600000   \n",
       "75%    105.300000     99.100000  103.700000   63.100000   39.900000   \n",
       "max    136.200000    148.100000  147.700000   87.300000   49.100000   \n",
       "\n",
       "       Ankle (cm)  Biceps (cm)  Forearm (cm)  Wrist (cm)  \n",
       "count  201.000000   201.000000    201.000000  201.000000  \n",
       "mean    23.060697    32.197015     28.645771   18.216418  \n",
       "std      1.647027     3.196043      2.080167    0.935189  \n",
       "min     19.100000    24.800000     22.000000   15.800000  \n",
       "25%     22.000000    30.000000     27.200000   17.600000  \n",
       "50%     22.800000    31.900000     28.700000   18.300000  \n",
       "75%     24.000000    34.600000     30.100000   18.800000  \n",
       "max     33.900000    45.000000     34.900000   21.400000  "
      ]
     },
     "execution_count": 6,
     "metadata": {},
     "output_type": "execute_result"
    }
   ],
   "source": [
    "train_df.describe()"
   ]
  },
  {
   "cell_type": "code",
   "execution_count": 7,
   "metadata": {},
   "outputs": [],
   "source": [
    "train_df_orig = train_df.copy()"
   ]
  },
  {
   "cell_type": "code",
   "execution_count": 8,
   "metadata": {},
   "outputs": [
    {
     "data": {
      "text/plain": [
       "Body fat (%)       1.000000\n",
       "Age (years)        0.281098\n",
       "Weight (lbs)       0.604166\n",
       "Height (inches)   -0.123521\n",
       "Neck (cm)          0.487892\n",
       "Chest (cm)         0.712247\n",
       "Abdomen (cm)       0.812182\n",
       "Hip (cm)           0.628160\n",
       "Thigh (cm)         0.560525\n",
       "Knee (cm)          0.493188\n",
       "Ankle (cm)         0.269730\n",
       "Biceps (cm)        0.521717\n",
       "Forearm (cm)       0.400249\n",
       "Wrist (cm)         0.366006\n",
       "Name: Body fat (%), dtype: float64"
      ]
     },
     "execution_count": 8,
     "metadata": {},
     "output_type": "execute_result"
    }
   ],
   "source": [
    "train_df.corr()[\"Body fat (%)\"]"
   ]
  },
  {
   "cell_type": "code",
   "execution_count": 9,
   "metadata": {},
   "outputs": [
    {
     "data": {
      "text/plain": [
       "201"
      ]
     },
     "execution_count": 9,
     "metadata": {},
     "output_type": "execute_result"
    }
   ],
   "source": [
    "len(train_df)"
   ]
  },
  {
   "cell_type": "code",
   "execution_count": 132,
   "metadata": {},
   "outputs": [],
   "source": [
    "train_df = train_df_orig.copy()\n",
    "\n",
    "train_df['height_cm'] = train_df['Height (inches)']*2.54"
   ]
  },
  {
   "cell_type": "code",
   "execution_count": 133,
   "metadata": {},
   "outputs": [],
   "source": [
    "def create_ratio(df, col1, col2):\n",
    "    col_name = f\"{col1}_{col2}_ratio\"\n",
    "    df[col_name] = df[col1]/df[col2]\n",
    "    return col_name"
   ]
  },
  {
   "cell_type": "code",
   "execution_count": 134,
   "metadata": {},
   "outputs": [
    {
     "data": {
      "text/plain": [
       "['height_cm_Weight (lbs)_ratio',\n",
       " 'Chest (cm)_Hip (cm)_ratio',\n",
       " 'Age (years)_Weight (lbs)_ratio',\n",
       " 'Knee (cm)_Thigh (cm)_ratio',\n",
       " 'Chest (cm)_Abdomen (cm)_ratio']"
      ]
     },
     "execution_count": 134,
     "metadata": {},
     "output_type": "execute_result"
    }
   ],
   "source": [
    "ratio_list = [('height_cm',\"Weight (lbs)\"),\n",
    "(\"Chest (cm)\",\"Hip (cm)\"),\n",
    "(\"Age (years)\",\"Weight (lbs)\"),\n",
    "(\"Knee (cm)\",\"Thigh (cm)\"),\n",
    "(\"Chest (cm)\",\"Abdomen (cm)\")]\n",
    "\n",
    "ratio_cols = []\n",
    "for col1, col2 in ratio_list: \n",
    "    ratio_cols.append(create_ratio(train_df, col1,col2))\n",
    "ratio_cols"
   ]
  },
  {
   "cell_type": "code",
   "execution_count": 135,
   "metadata": {},
   "outputs": [
    {
     "data": {
      "text/plain": [
       "['height_cm',\n",
       " 'Age (years)',\n",
       " 'Abdomen (cm)',\n",
       " 'Neck (cm)',\n",
       " 'height_cm_Weight (lbs)_ratio',\n",
       " 'Chest (cm)_Hip (cm)_ratio',\n",
       " 'Age (years)_Weight (lbs)_ratio',\n",
       " 'Knee (cm)_Thigh (cm)_ratio',\n",
       " 'Chest (cm)_Abdomen (cm)_ratio']"
      ]
     },
     "execution_count": 135,
     "metadata": {},
     "output_type": "execute_result"
    }
   ],
   "source": [
    "columns_to_train = ['height_cm', \"Age (years)\", \"Abdomen (cm)\", \"Neck (cm)\"]\n",
    "columns_to_train += ratio_cols\n",
    "#columns_to_train += ['lbm']\n",
    "columns_to_train"
   ]
  },
  {
   "cell_type": "code",
   "execution_count": 136,
   "metadata": {},
   "outputs": [
    {
     "data": {
      "text/plain": [
       "Index(['Body fat (%)', 'Age (years)', 'Weight (lbs)', 'Height (inches)',\n",
       "       'Neck (cm)', 'Chest (cm)', 'Abdomen (cm)', 'Hip (cm)', 'Thigh (cm)',\n",
       "       'Knee (cm)', 'Ankle (cm)', 'Biceps (cm)', 'Forearm (cm)', 'Wrist (cm)',\n",
       "       'height_cm', 'height_cm_Weight (lbs)_ratio',\n",
       "       'Chest (cm)_Hip (cm)_ratio', 'Age (years)_Weight (lbs)_ratio',\n",
       "       'Knee (cm)_Thigh (cm)_ratio', 'Chest (cm)_Abdomen (cm)_ratio'],\n",
       "      dtype='object')"
      ]
     },
     "execution_count": 136,
     "metadata": {},
     "output_type": "execute_result"
    }
   ],
   "source": [
    "train_df.columns"
   ]
  },
  {
   "cell_type": "markdown",
   "metadata": {},
   "source": [
    "### Body Fat Formula For Women\n",
    "- Factor 1\t(Total body weight x 0.732) + 8.987\n",
    "- Factor 2\tWrist measurement (at fullest point) / 3.140\n",
    "- Factor 3\tWaist measurement (at naval) x 0.157\n",
    "- Factor 4\tHip measurement (at fullest point) x 0.249\n",
    "- Factor 5\tForearm measurement (at fullest point) x 0.434\n",
    "Lean Body Mass\tFactor 1 + Factor 2 - Factor 3 - Factor 4 + Factor 5\n",
    "\n",
    "#### Body Fat Weight\tTotal bodyweight - Lean Body Mass\n",
    "#### Body Fat Percentage\t(Body Fat Weight x 100) / total bodyweight\n",
    " \n",
    "### Body Fat Formula For Men\n",
    "- Factor 1\t(Total body weight x 1.082) + 94.42\n",
    "- Factor 2\tWaist measurement x 4.15\n",
    "#### Lean Body Mass\tFactor 1 - Factor 2\n",
    "#### Body Fat Weight\tTotal bodyweight - Lean Body Mass"
   ]
  },
  {
   "cell_type": "code",
   "execution_count": null,
   "metadata": {},
   "outputs": [],
   "source": [
    "f1 = (train_df['Weight (lbs)'] * 0.732) + 8.987\n",
    "f2 = train_df['Wrist (cm)'] / 3.140\n",
    "f3 = train_df['Abdomen (cm)'] * 0.157\n",
    "f4 = train_df['Hip (cm)']*0.249\n",
    "f5 = train_df['Forearm (cm)']*0.434\n",
    "\n",
    "train_df['lbm'] = train_df['Weight (lbs)'] - (f1+f2-f3-f4+f5)\n"
   ]
  },
  {
   "cell_type": "code",
   "execution_count": null,
   "metadata": {},
   "outputs": [],
   "source": [
    "f1_ = (train_df['Weight (lbs)'] * 1.082) + 94.42\n",
    "f2_ = train_df['Abdomen (cm)'] * 4.12\n",
    "train_df['lbm2'] = train_df['Weight (lbs)'] - (f1 - f2)"
   ]
  },
  {
   "cell_type": "code",
   "execution_count": null,
   "metadata": {},
   "outputs": [],
   "source": []
  },
  {
   "cell_type": "code",
   "execution_count": null,
   "metadata": {},
   "outputs": [],
   "source": []
  },
  {
   "cell_type": "code",
   "execution_count": null,
   "metadata": {},
   "outputs": [],
   "source": [
    "train_df.columns"
   ]
  },
  {
   "cell_type": "code",
   "execution_count": null,
   "metadata": {},
   "outputs": [],
   "source": [
    "train_df.corr()[\"Body fat (%)\"]"
   ]
  },
  {
   "cell_type": "code",
   "execution_count": 32,
   "metadata": {},
   "outputs": [],
   "source": [
    "\n",
    "\n",
    "from matplotlib import pyplot as plt\n",
    "import seaborn as sns\n",
    "def plot_feature(col_name):\n",
    "    print(f\"===========>{col_name}\")\n",
    "    plt.figure()\n",
    "    sns.boxplot(x=train_df[col_name])\n",
    "\n",
    "#     plt.plot(train_df[col_name])\n",
    "    plt.show()\n",
    "    plt.clf()\n",
    "    plt.close()\n",
    "    print(train_df[col_name].describe())\n",
    "    return None"
   ]
  },
  {
   "cell_type": "code",
   "execution_count": 33,
   "metadata": {},
   "outputs": [
    {
     "name": "stdout",
     "output_type": "stream",
     "text": [
      "===========>Abdomen (cm)\n"
     ]
    },
    {
     "data": {
      "image/png": "[encoded data removed]",
      "text/plain": [
       "<Figure size 432x288 with 1 Axes>"
      ]
     },
     "metadata": {
      "needs_background": "light"
     },
     "output_type": "display_data"
    },
    {
     "name": "stdout",
     "output_type": "stream",
     "text": [
      "count    201.000000\n",
      "mean      92.392537\n",
      "std       10.973468\n",
      "min       69.400000\n",
      "25%       84.400000\n",
      "50%       90.900000\n",
      "75%       99.100000\n",
      "max      148.100000\n",
      "Name: Abdomen (cm), dtype: float64\n"
     ]
    }
   ],
   "source": [
    "plot_feature('Abdomen (cm)')"
   ]
  },
  {
   "cell_type": "code",
   "execution_count": 34,
   "metadata": {},
   "outputs": [
    {
     "name": "stdout",
     "output_type": "stream",
     "text": [
      "===========>Body fat (%)\n"
     ]
    },
    {
     "data": {
      "image/png": "[encoded data removed]",
      "text/plain": [
       "<Figure size 432x288 with 1 Axes>"
      ]
     },
     "metadata": {
      "needs_background": "light"
     },
     "output_type": "display_data"
    },
    {
     "name": "stdout",
     "output_type": "stream",
     "text": [
      "count    201.000000\n",
      "mean      18.977612\n",
      "std        8.391314\n",
      "min        0.000000\n",
      "25%       12.500000\n",
      "50%       19.200000\n",
      "75%       24.700000\n",
      "max       47.500000\n",
      "Name: Body fat (%), dtype: float64\n",
      "===========>Age (years)\n"
     ]
    },
    {
     "data": {
      "image/png": "[encoded data removed]",
      "text/plain": [
       "<Figure size 432x288 with 1 Axes>"
      ]
     },
     "metadata": {
      "needs_background": "light"
     },
     "output_type": "display_data"
    },
    {
     "name": "stdout",
     "output_type": "stream",
     "text": [
      "count    201.000000\n",
      "mean      44.631841\n",
      "std       12.462896\n",
      "min       22.000000\n",
      "25%       35.000000\n",
      "50%       43.000000\n",
      "75%       54.000000\n",
      "max       81.000000\n",
      "Name: Age (years), dtype: float64\n",
      "===========>Weight (lbs)\n"
     ]
    },
    {
     "data": {
      "image/png": "[encoded data removed]",
      "text/plain": [
       "<Figure size 432x288 with 1 Axes>"
      ]
     },
     "metadata": {
      "needs_background": "light"
     },
     "output_type": "display_data"
    },
    {
     "name": "stdout",
     "output_type": "stream",
     "text": [
      "count    201.000000\n",
      "mean     178.370398\n",
      "std       30.489848\n",
      "min      118.500000\n",
      "25%      157.000000\n",
      "50%      176.000000\n",
      "75%      198.000000\n",
      "max      363.150000\n",
      "Name: Weight (lbs), dtype: float64\n",
      "===========>Height (inches)\n"
     ]
    },
    {
     "data": {
      "image/png": "[encoded data removed]",
      "text/plain": [
       "<Figure size 432x288 with 1 Axes>"
      ]
     },
     "metadata": {
      "needs_background": "light"
     },
     "output_type": "display_data"
    },
    {
     "name": "stdout",
     "output_type": "stream",
     "text": [
      "count    201.000000\n",
      "mean      70.009950\n",
      "std        3.859877\n",
      "min       29.500000\n",
      "25%       68.250000\n",
      "50%       70.000000\n",
      "75%       72.250000\n",
      "max       77.500000\n",
      "Name: Height (inches), dtype: float64\n",
      "===========>Neck (cm)\n"
     ]
    },
    {
     "data": {
      "image/png": "[encoded data removed]",
      "text/plain": [
       "<Figure size 432x288 with 1 Axes>"
      ]
     },
     "metadata": {
      "needs_background": "light"
     },
     "output_type": "display_data"
    },
    {
     "name": "stdout",
     "output_type": "stream",
     "text": [
      "count    201.000000\n",
      "mean      37.992537\n",
      "std        2.549803\n",
      "min       31.100000\n",
      "25%       36.300000\n",
      "50%       38.000000\n",
      "75%       39.600000\n",
      "max       51.200000\n",
      "Name: Neck (cm), dtype: float64\n",
      "===========>Chest (cm)\n"
     ]
    },
    {
     "data": {
      "image/png": "[encoded data removed]",
      "text/plain": [
       "<Figure size 432x288 with 1 Axes>"
      ]
     },
     "metadata": {
      "needs_background": "light"
     },
     "output_type": "display_data"
    },
    {
     "name": "stdout",
     "output_type": "stream",
     "text": [
      "count    201.000000\n",
      "mean     100.500000\n",
      "std        8.508314\n",
      "min       79.300000\n",
      "25%       94.000000\n",
      "50%       99.600000\n",
      "75%      105.300000\n",
      "max      136.200000\n",
      "Name: Chest (cm), dtype: float64\n",
      "===========>Abdomen (cm)\n"
     ]
    },
    {
     "data": {
      "image/png": "[encoded data removed]",
      "text/plain": [
       "<Figure size 432x288 with 1 Axes>"
      ]
     },
     "metadata": {
      "needs_background": "light"
     },
     "output_type": "display_data"
    },
    {
     "name": "stdout",
     "output_type": "stream",
     "text": [
      "count    201.000000\n",
      "mean      92.392537\n",
      "std       10.973468\n",
      "min       69.400000\n",
      "25%       84.400000\n",
      "50%       90.900000\n",
      "75%       99.100000\n",
      "max      148.100000\n",
      "Name: Abdomen (cm), dtype: float64\n",
      "===========>Hip (cm)\n"
     ]
    },
    {
     "data": {
      "image/png": "[encoded data removed]",
      "text/plain": [
       "<Figure size 432x288 with 1 Axes>"
      ]
     },
     "metadata": {
      "needs_background": "light"
     },
     "output_type": "display_data"
    },
    {
     "name": "stdout",
     "output_type": "stream",
     "text": [
      "count    201.000000\n",
      "mean      99.885572\n",
      "std        7.399307\n",
      "min       85.000000\n",
      "25%       95.500000\n",
      "50%       99.300000\n",
      "75%      103.700000\n",
      "max      147.700000\n",
      "Name: Hip (cm), dtype: float64\n",
      "===========>Thigh (cm)\n"
     ]
    },
    {
     "data": {
      "image/png": "[encoded data removed]",
      "text/plain": [
       "<Figure size 432x288 with 1 Axes>"
      ]
     },
     "metadata": {
      "needs_background": "light"
     },
     "output_type": "display_data"
    },
    {
     "name": "stdout",
     "output_type": "stream",
     "text": [
      "count    201.000000\n",
      "mean      59.407960\n",
      "std        5.503221\n",
      "min       47.200000\n",
      "25%       56.000000\n",
      "50%       58.900000\n",
      "75%       63.100000\n",
      "max       87.300000\n",
      "Name: Thigh (cm), dtype: float64\n",
      "===========>Knee (cm)\n"
     ]
    },
    {
     "data": {
      "image/png": "[encoded data removed]",
      "text/plain": [
       "<Figure size 432x288 with 1 Axes>"
      ]
     },
     "metadata": {
      "needs_background": "light"
     },
     "output_type": "display_data"
    },
    {
     "name": "stdout",
     "output_type": "stream",
     "text": [
      "count    201.000000\n",
      "mean      38.574627\n",
      "std        2.481875\n",
      "min       33.000000\n",
      "25%       36.900000\n",
      "50%       38.600000\n",
      "75%       39.900000\n",
      "max       49.100000\n",
      "Name: Knee (cm), dtype: float64\n",
      "===========>Ankle (cm)\n"
     ]
    },
    {
     "data": {
      "image/png": "[encoded data removed]",
      "text/plain": [
       "<Figure size 432x288 with 1 Axes>"
      ]
     },
     "metadata": {
      "needs_background": "light"
     },
     "output_type": "display_data"
    },
    {
     "name": "stdout",
     "output_type": "stream",
     "text": [
      "count    201.000000\n",
      "mean      23.060697\n",
      "std        1.647027\n",
      "min       19.100000\n",
      "25%       22.000000\n",
      "50%       22.800000\n",
      "75%       24.000000\n",
      "max       33.900000\n",
      "Name: Ankle (cm), dtype: float64\n",
      "===========>Biceps (cm)\n"
     ]
    },
    {
     "data": {
      "image/png": "[encoded data removed]",
      "text/plain": [
       "<Figure size 432x288 with 1 Axes>"
      ]
     },
     "metadata": {
      "needs_background": "light"
     },
     "output_type": "display_data"
    },
    {
     "name": "stdout",
     "output_type": "stream",
     "text": [
      "count    201.000000\n",
      "mean      32.197015\n",
      "std        3.196043\n",
      "min       24.800000\n",
      "25%       30.000000\n",
      "50%       31.900000\n",
      "75%       34.600000\n",
      "max       45.000000\n",
      "Name: Biceps (cm), dtype: float64\n",
      "===========>Forearm (cm)\n"
     ]
    },
    {
     "data": {
      "image/png": "[encoded data removed]",
      "text/plain": [
       "<Figure size 432x288 with 1 Axes>"
      ]
     },
     "metadata": {
      "needs_background": "light"
     },
     "output_type": "display_data"
    },
    {
     "name": "stdout",
     "output_type": "stream",
     "text": [
      "count    201.000000\n",
      "mean      28.645771\n",
      "std        2.080167\n",
      "min       22.000000\n",
      "25%       27.200000\n",
      "50%       28.700000\n",
      "75%       30.100000\n",
      "max       34.900000\n",
      "Name: Forearm (cm), dtype: float64\n",
      "===========>Wrist (cm)\n"
     ]
    },
    {
     "data": {
      "image/png": "[encoded data removed]",
      "text/plain": [
       "<Figure size 432x288 with 1 Axes>"
      ]
     },
     "metadata": {
      "needs_background": "light"
     },
     "output_type": "display_data"
    },
    {
     "name": "stdout",
     "output_type": "stream",
     "text": [
      "count    201.000000\n",
      "mean      18.216418\n",
      "std        0.935189\n",
      "min       15.800000\n",
      "25%       17.600000\n",
      "50%       18.300000\n",
      "75%       18.800000\n",
      "max       21.400000\n",
      "Name: Wrist (cm), dtype: float64\n",
      "===========>height_cm\n"
     ]
    },
    {
     "data": {
      "image/png": "[encoded data removed]",
      "text/plain": [
       "<Figure size 432x288 with 1 Axes>"
      ]
     },
     "metadata": {
      "needs_background": "light"
     },
     "output_type": "display_data"
    },
    {
     "name": "stdout",
     "output_type": "stream",
     "text": [
      "count    201.000000\n",
      "mean     177.825274\n",
      "std        9.804088\n",
      "min       74.930000\n",
      "25%      173.355000\n",
      "50%      177.800000\n",
      "75%      183.515000\n",
      "max      196.850000\n",
      "Name: height_cm, dtype: float64\n",
      "===========>height_cm_Weight (lbs)_ratio\n"
     ]
    },
    {
     "data": {
      "image/png": "[encoded data removed]",
      "text/plain": [
       "<Figure size 432x288 with 1 Axes>"
      ]
     },
     "metadata": {
      "needs_background": "light"
     },
     "output_type": "display_data"
    },
    {
     "name": "stdout",
     "output_type": "stream",
     "text": [
      "count    201.000000\n",
      "mean       1.021079\n",
      "std        0.154062\n",
      "min        0.365512\n",
      "25%        0.922747\n",
      "50%        1.024598\n",
      "75%        1.129329\n",
      "max        1.457553\n",
      "Name: height_cm_Weight (lbs)_ratio, dtype: float64\n",
      "===========>Chest (cm)_Hip (cm)_ratio\n"
     ]
    },
    {
     "data": {
      "image/png": "[encoded data removed]",
      "text/plain": [
       "<Figure size 432x288 with 1 Axes>"
      ]
     },
     "metadata": {
      "needs_background": "light"
     },
     "output_type": "display_data"
    },
    {
     "name": "stdout",
     "output_type": "stream",
     "text": [
      "count    201.000000\n",
      "mean       1.006257\n",
      "std        0.045369\n",
      "min        0.910891\n",
      "25%        0.974312\n",
      "50%        1.005607\n",
      "75%        1.029106\n",
      "max        1.164370\n",
      "Name: Chest (cm)_Hip (cm)_ratio, dtype: float64\n",
      "===========>Age (years)_Weight (lbs)_ratio\n"
     ]
    },
    {
     "data": {
      "image/png": "[encoded data removed]",
      "text/plain": [
       "<Figure size 432x288 with 1 Axes>"
      ]
     },
     "metadata": {
      "needs_background": "light"
     },
     "output_type": "display_data"
    },
    {
     "name": "stdout",
     "output_type": "stream",
     "text": [
      "count    201.000000\n",
      "mean       0.257387\n",
      "std        0.084597\n",
      "min        0.107549\n",
      "25%        0.187643\n",
      "50%        0.253165\n",
      "75%        0.311377\n",
      "max        0.521415\n",
      "Name: Age (years)_Weight (lbs)_ratio, dtype: float64\n",
      "===========>Knee (cm)_Thigh (cm)_ratio\n"
     ]
    },
    {
     "data": {
      "image/png": "[encoded data removed]",
      "text/plain": [
       "<Figure size 432x288 with 1 Axes>"
      ]
     },
     "metadata": {
      "needs_background": "light"
     },
     "output_type": "display_data"
    },
    {
     "name": "stdout",
     "output_type": "stream",
     "text": [
      "count    201.000000\n",
      "mean       0.651615\n",
      "std        0.034656\n",
      "min        0.545699\n",
      "25%        0.629508\n",
      "50%        0.655822\n",
      "75%        0.678439\n",
      "max        0.742857\n",
      "Name: Knee (cm)_Thigh (cm)_ratio, dtype: float64\n",
      "===========>Chest (cm)_Abdomen (cm)_ratio\n"
     ]
    },
    {
     "data": {
      "image/png": "[encoded data removed]",
      "text/plain": [
       "<Figure size 432x288 with 1 Axes>"
      ]
     },
     "metadata": {
      "needs_background": "light"
     },
     "output_type": "display_data"
    },
    {
     "name": "stdout",
     "output_type": "stream",
     "text": [
      "count    201.000000\n",
      "mean       1.092724\n",
      "std        0.055874\n",
      "min        0.919649\n",
      "25%        1.058625\n",
      "50%        1.088935\n",
      "75%        1.128440\n",
      "max        1.229487\n",
      "Name: Chest (cm)_Abdomen (cm)_ratio, dtype: float64\n"
     ]
    }
   ],
   "source": [
    "for feature in train_df.columns:\n",
    "    plot_feature(feature)"
   ]
  },
  {
   "cell_type": "code",
   "execution_count": null,
   "metadata": {},
   "outputs": [],
   "source": [
    "print(f\"mean max min max_count min_count\")\n",
    "for col in train_df.columns:\n",
    "    max_val = np.max(train_df[col])\n",
    "    min_val = np.min(train_df[col])\n",
    "    avg = np.mean(train_df[col])\n",
    "    max_count = len(train_df[train_df[col]>((max_val - avg)/2)])\n",
    "    min_count = len(train_df[train_df[col]>((avg-min_val)/2)])\n",
    "    print(f\"{avg} \\t {max_val} \\t {min_val} \\t {max_count} \\t {min_count} \\t {col} \")\n",
    "    "
   ]
  },
  {
   "cell_type": "code",
   "execution_count": null,
   "metadata": {},
   "outputs": [],
   "source": [
    "[train_df['Body fat (%)'] > ((47.5-18.9)//2)]"
   ]
  },
  {
   "cell_type": "code",
   "execution_count": null,
   "metadata": {},
   "outputs": [],
   "source": []
  },
  {
   "cell_type": "code",
   "execution_count": null,
   "metadata": {},
   "outputs": [],
   "source": [
    "from sklearn.preprocessing import MinMaxScaler\n",
    "mm_scaler = MinMaxScaler(copy = False)\n",
    "mm_df = train_df.copy()\n",
    "\n",
    "mm_scaler.fit(mm_df)\n",
    "mm_scaler.transform(mm_df)\n",
    "\n",
    "mm_df.head()"
   ]
  },
  {
   "cell_type": "code",
   "execution_count": 137,
   "metadata": {},
   "outputs": [],
   "source": [
    "from lightgbm.sklearn import LGBMRegressor\n",
    "from xgboost import XGBRegressor\n",
    "from sklearn.ensemble import ExtraTreesRegressor, GradientBoostingRegressor, AdaBoostRegressor, BaggingRegressor, RandomForestRegressor\n",
    "from sklearn.svm import SVR\n",
    "from sklearn.linear_model import LinearRegression, Ridge, Lasso"
   ]
  },
  {
   "cell_type": "code",
   "execution_count": 138,
   "metadata": {},
   "outputs": [],
   "source": [
    "models = [RandomForestRegressor, GradientBoostingRegressor, LGBMRegressor, XGBRegressor, ExtraTreesRegressor, AdaBoostRegressor,\n",
    "          BaggingRegressor, SVR, LinearRegression, Ridge, Lasso]"
   ]
  },
  {
   "cell_type": "code",
   "execution_count": 192,
   "metadata": {},
   "outputs": [],
   "source": [
    "target = train_df[\"Body fat (%)\"]\n",
    "train_X, test_X, train_y, test_y = train_test_split(train_df[columns_to_train], target, test_size = 0.2, random_state = 43)\n",
    "\n"
   ]
  },
  {
   "cell_type": "code",
   "execution_count": 197,
   "metadata": {},
   "outputs": [
    {
     "name": "stdout",
     "output_type": "stream",
     "text": [
      "Removed 9 outlier samples out of 160 from feature and target dataframes\n"
     ]
    }
   ],
   "source": [
    "from scipy import stats\n",
    "\n",
    "def remove_outliers(features_df,target_df,z_score=2.75):\n",
    "    X = features_df\n",
    "    y = target_df\n",
    "    if len(X) != len(y):\n",
    "        print(f\"Error: Number of samples in feature and target dataframe are not same : {len(X)} and {len(y)} \")\n",
    "        return\n",
    "    mask = (np.abs(stats.zscore(X)) < z_score).all(axis=1)\n",
    "    print(f\"Removed {len(X) - len(X[mask])} outlier samples out of {len(X)} from feature and target dataframes\")\n",
    "    return X[mask],y[mask]\n",
    "\n",
    "train_X_or, train_y_or = remove_outliers(train_X, train_y)"
   ]
  },
  {
   "cell_type": "code",
   "execution_count": 194,
   "metadata": {},
   "outputs": [
    {
     "data": {
      "text/plain": [
       "(151, 160, 151, 160)"
      ]
     },
     "execution_count": 194,
     "metadata": {},
     "output_type": "execute_result"
    }
   ],
   "source": [
    "len(train_X_or), len(train_X), len(train_y_or), len(train_y)\n",
    "#train_X = train_X_or"
   ]
  },
  {
   "cell_type": "code",
   "execution_count": 167,
   "metadata": {},
   "outputs": [],
   "source": [
    "train_X = train_X_or\n",
    "train_y = train_y_or"
   ]
  },
  {
   "cell_type": "code",
   "execution_count": 168,
   "metadata": {},
   "outputs": [
    {
     "name": "stdout",
     "output_type": "stream",
     "text": [
      "Training <class 'sklearn.ensemble.forest.RandomForestRegressor'>\n",
      "r2: 0.31990010966052906 \t mas: 3.8656097560975606 \t Model <class 'sklearn.ensemble.forest.RandomForestRegressor'>\n",
      "Training <class 'sklearn.ensemble.gradient_boosting.GradientBoostingRegressor'>\n",
      "r2: 0.31897389369658324 \t mas: 4.260922571852791 \t Model <class 'sklearn.ensemble.gradient_boosting.GradientBoostingRegressor'>\n",
      "Training <class 'lightgbm.sklearn.LGBMRegressor'>\n",
      "r2: 0.5073426208989071 \t mas: 3.7017729318445793 \t Model <class 'lightgbm.sklearn.LGBMRegressor'>\n",
      "Training <class 'xgboost.sklearn.XGBRegressor'>\n",
      "r2: 0.3340110040133133 \t mas: 4.073500921668076 \t Model <class 'xgboost.sklearn.XGBRegressor'>\n",
      "Training <class 'sklearn.ensemble.forest.ExtraTreesRegressor'>\n",
      "r2: 0.3901488603078621 \t mas: 3.86780487804878 \t Model <class 'sklearn.ensemble.forest.ExtraTreesRegressor'>\n",
      "Training <class 'sklearn.ensemble.weight_boosting.AdaBoostRegressor'>\n",
      "r2: 0.3155672135365194 \t mas: 3.8612464047713293 \t Model <class 'sklearn.ensemble.weight_boosting.AdaBoostRegressor'>\n",
      "Training <class 'sklearn.ensemble.bagging.BaggingRegressor'>\n",
      "r2: 0.32590269872429944 \t mas: 3.840487804878049 \t Model <class 'sklearn.ensemble.bagging.BaggingRegressor'>\n",
      "Training <class 'sklearn.svm.classes.SVR'>\n",
      "r2: -354.4294365621321 \t mas: 7.359160915773657 \t Model <class 'sklearn.svm.classes.SVR'>\n",
      "Training <class 'sklearn.linear_model.base.LinearRegression'>\n",
      "r2: 0.6087205198520296 \t mas: 3.662382301194578 \t Model <class 'sklearn.linear_model.base.LinearRegression'>\n",
      "Training <class 'sklearn.linear_model.ridge.Ridge'>\n",
      "r2: 0.5874717833706085 \t mas: 3.751843040476142 \t Model <class 'sklearn.linear_model.ridge.Ridge'>\n",
      "Training <class 'sklearn.linear_model.coordinate_descent.Lasso'>\n",
      "r2: 0.5694753790563598 \t mas: 3.788921424738744 \t Model <class 'sklearn.linear_model.coordinate_descent.Lasso'>\n"
     ]
    }
   ],
   "source": [
    "d = {}\n",
    "model = None\n",
    "for model in models:\n",
    "    print(f\"Training {model}\")\n",
    "    d[model] = model()\n",
    "    d[model].fit(train_X, train_y)\n",
    "    pred = d[model].predict(test_X)\n",
    "    r2 = r2_score(pred, test_y)\n",
    "    mas = mean_absolute_error(pred, test_y)\n",
    "    print(f\"r2: {r2} \\t mas: {mas} \\t Model {model}\")\n",
    "    d[model] = [d[model], r2, mas]\n",
    "    "
   ]
  },
  {
   "cell_type": "code",
   "execution_count": null,
   "metadata": {},
   "outputs": [],
   "source": []
  },
  {
   "cell_type": "code",
   "execution_count": 169,
   "metadata": {},
   "outputs": [],
   "source": [
    "from lightgbm.sklearn import LGBMModel\n",
    "\n",
    "random_state = 42\n",
    "\n",
    "def get_lgbm_obj():\n",
    "    return LGBMRegressor( objective = 'regression',\n",
    "                        scale_pos_weight = 1,\n",
    "                          metric = \"auc\", \n",
    "                          boosting = 'gbdt', \n",
    "                          max_depth = -1, \n",
    "                          num_leaves = 13, \n",
    "                          learning_rate = 0.01, \n",
    "                          bagging_freq = 5, \n",
    "                          bagging_fraction = 0.4, \n",
    "                          feature_fraction = 0.05, \n",
    "                          min_data_in_leaf = 80, \n",
    "                          min_sum_heassian_in_leaf = 10, \n",
    "                          tree_learner = \"serial\", \n",
    "                          boost_from_average = False, \n",
    "                          bagging_seed = random_state, \n",
    "                          verbosity = 1, \n",
    "                          seed = random_state,\n",
    "                         num_boost_round = 100000,\n",
    "                         is_training_metric = True,\n",
    "                         is_provide_training_metric=True)\n",
    "\n",
    "def get_lgbm_obj2():\n",
    "    return LGBMRegressor( objective = 'regression',\n",
    "                          metric = \"auc\", \n",
    "                          seed = random_state,\n",
    "                         num_boost_round = 100000,\n",
    "                         is_training_metric = True,\n",
    "                         is_provide_training_metric=True)\n",
    "                          \n",
    "                          "
   ]
  },
  {
   "cell_type": "code",
   "execution_count": 170,
   "metadata": {},
   "outputs": [],
   "source": [
    "lgbm = get_lgbm_obj2()"
   ]
  },
  {
   "cell_type": "code",
   "execution_count": 171,
   "metadata": {},
   "outputs": [
    {
     "name": "stderr",
     "output_type": "stream",
     "text": [
      "/Users/vthotakura/anaconda3/lib/python3.6/site-packages/lightgbm/engine.py:118: UserWarning: Found `num_boost_round` in params. Will use it instead of argument\n",
      "  warnings.warn(\"Found `{}` in params. Will use it instead of argument\".format(alias))\n"
     ]
    },
    {
     "data": {
      "text/plain": [
       "LGBMRegressor(boosting_type='gbdt', class_weight=None, colsample_bytree=1.0,\n",
       "       importance_type='split', is_provide_training_metric=True,\n",
       "       is_training_metric=True, learning_rate=0.1, max_depth=-1,\n",
       "       metric='auc', min_child_samples=20, min_child_weight=0.001,\n",
       "       min_split_gain=0.0, n_estimators=100, n_jobs=-1,\n",
       "       num_boost_round=100000, num_leaves=31, objective='regression',\n",
       "       random_state=None, reg_alpha=0.0, reg_lambda=0.0, seed=42,\n",
       "       silent=True, subsample=1.0, subsample_for_bin=200000,\n",
       "       subsample_freq=0)"
      ]
     },
     "execution_count": 171,
     "metadata": {},
     "output_type": "execute_result"
    }
   ],
   "source": [
    "lgbm.fit(train_X, train_y)"
   ]
  },
  {
   "cell_type": "code",
   "execution_count": 172,
   "metadata": {},
   "outputs": [],
   "source": [
    "pred = lgbm.predict(test_X)"
   ]
  },
  {
   "cell_type": "code",
   "execution_count": 173,
   "metadata": {},
   "outputs": [
    {
     "name": "stdout",
     "output_type": "stream",
     "text": [
      "Model <class 'sklearn.linear_model.coordinate_descent.Lasso'>, r2: 0.4164362692995276, mas: 4.417779809657288\n"
     ]
    }
   ],
   "source": [
    "r2 = r2_score(pred, test_y)\n",
    "mas = mean_absolute_error(pred, test_y)\n",
    "print(f\"Model {model}, r2: {r2}, mas: {mas}\")\n"
   ]
  },
  {
   "cell_type": "code",
   "execution_count": null,
   "metadata": {},
   "outputs": [],
   "source": []
  },
  {
   "cell_type": "code",
   "execution_count": null,
   "metadata": {},
   "outputs": [],
   "source": []
  }
 ],
 "metadata": {
  "kernelspec": {
   "display_name": "Python 3",
   "language": "python",
   "name": "python3"
  },
  "language_info": {
   "codemirror_mode": {
    "name": "ipython",
    "version": 3
   },
   "file_extension": ".py",
   "mimetype": "text/x-python",
   "name": "python",
   "nbconvert_exporter": "python",
   "pygments_lexer": "ipython3",
   "version": "3.6.8"
  }
 },
 "nbformat": 4,
 "nbformat_minor": 1
}
