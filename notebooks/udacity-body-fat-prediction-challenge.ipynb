{
 "cells": [
  {
   "cell_type": "code",
   "execution_count": 1,
   "metadata": {
    "scrolled": true
   },
   "outputs": [],
   "source": [
    "import warnings\n",
    "warnings.filterwarnings('ignore')\n",
    "\n",
    "import os\n",
    "\n",
    "PROJ_ROOT = os.pardir\n",
    "\n",
    "TRAIN_DATA = os.path.join(PROJ_ROOT, \"data\", \"raw\", \"train.csv\")\n",
    "TEST_DATA = os.path.join(PROJ_ROOT, \"data\", \"raw\", \"test.csv\")\n",
    "\n",
    "import sys\n",
    "sys.path.append(os.path.join(PROJ_ROOT, \"src\"))\n",
    "\n",
    "%reload_ext autoreload\n",
    "%autoreload 2\n",
    "%matplotlib inline"
   ]
  },
  {
   "cell_type": "code",
   "execution_count": 2,
   "metadata": {},
   "outputs": [],
   "source": [
    "from fastai.imports import *\n",
    "from fastai.structured import *\n",
    "\n",
    "from pandas_summary import DataFrameSummary\n",
    "from IPython.display import display\n",
    "\n",
    "\n",
    "from fastai.imports import *\n",
    "from fastai.torch_imports import *\n",
    "from fastai.transforms import *\n",
    "from fastai.conv_learner import *\n",
    "from fastai.model import *\n",
    "from fastai.dataset import *\n",
    "from fastai.sgdr import *\n",
    "from fastai.plots import *"
   ]
  },
  {
   "cell_type": "code",
   "execution_count": 3,
   "metadata": {},
   "outputs": [],
   "source": [
    "PATH = os.path.join(PROJ_ROOT, \"data\", \"raw/\")\n",
    "\n",
    "PATH\n",
    "\n",
    "\n",
    "from sklearn.metrics import accuracy_score, r2_score\n",
    "\n",
    "from sklearn.model_selection import train_test_split"
   ]
  },
  {
   "cell_type": "code",
   "execution_count": 4,
   "metadata": {},
   "outputs": [
    {
     "name": "stdout",
     "output_type": "stream",
     "text": [
      "bodyfat-test.csv             kaggle_solution_template.csv\r\n",
      "bodyfat-train.csv\r\n"
     ]
    }
   ],
   "source": [
    "!ls {PATH} "
   ]
  },
  {
   "cell_type": "code",
   "execution_count": 7,
   "metadata": {},
   "outputs": [],
   "source": [
    "train_df = pd.read_csv(f\"{PATH}/bodyfat-train.csv\")\n",
    "test_df = pd.read_csv(f\"{PATH}/bodyfat-test.csv\")"
   ]
  },
  {
   "cell_type": "code",
   "execution_count": 8,
   "metadata": {},
   "outputs": [
    {
     "data": {
      "text/html": [
       "<div>\n",
       "<style scoped>\n",
       "    .dataframe tbody tr th:only-of-type {\n",
       "        vertical-align: middle;\n",
       "    }\n",
       "\n",
       "    .dataframe tbody tr th {\n",
       "        vertical-align: top;\n",
       "    }\n",
       "\n",
       "    .dataframe thead th {\n",
       "        text-align: right;\n",
       "    }\n",
       "</style>\n",
       "<table border=\"1\" class=\"dataframe\">\n",
       "  <thead>\n",
       "    <tr style=\"text-align: right;\">\n",
       "      <th></th>\n",
       "      <th>Body fat (%)</th>\n",
       "      <th>Age (years)</th>\n",
       "      <th>Weight (lbs)</th>\n",
       "      <th>Height (inches)</th>\n",
       "      <th>Neck (cm)</th>\n",
       "      <th>Chest (cm)</th>\n",
       "      <th>Abdomen (cm)</th>\n",
       "      <th>Hip (cm)</th>\n",
       "      <th>Thigh (cm)</th>\n",
       "      <th>Knee (cm)</th>\n",
       "      <th>Ankle (cm)</th>\n",
       "      <th>Biceps (cm)</th>\n",
       "      <th>Forearm (cm)</th>\n",
       "      <th>Wrist (cm)</th>\n",
       "    </tr>\n",
       "  </thead>\n",
       "  <tbody>\n",
       "    <tr>\n",
       "      <th>count</th>\n",
       "      <td>201.000000</td>\n",
       "      <td>201.000000</td>\n",
       "      <td>201.000000</td>\n",
       "      <td>201.000000</td>\n",
       "      <td>201.000000</td>\n",
       "      <td>201.000000</td>\n",
       "      <td>201.000000</td>\n",
       "      <td>201.000000</td>\n",
       "      <td>201.000000</td>\n",
       "      <td>201.000000</td>\n",
       "      <td>201.000000</td>\n",
       "      <td>201.000000</td>\n",
       "      <td>201.000000</td>\n",
       "      <td>201.000000</td>\n",
       "    </tr>\n",
       "    <tr>\n",
       "      <th>mean</th>\n",
       "      <td>18.977612</td>\n",
       "      <td>44.631841</td>\n",
       "      <td>178.370398</td>\n",
       "      <td>70.009950</td>\n",
       "      <td>37.992537</td>\n",
       "      <td>100.500000</td>\n",
       "      <td>92.392537</td>\n",
       "      <td>99.885572</td>\n",
       "      <td>59.407960</td>\n",
       "      <td>38.574627</td>\n",
       "      <td>23.060697</td>\n",
       "      <td>32.197015</td>\n",
       "      <td>28.645771</td>\n",
       "      <td>18.216418</td>\n",
       "    </tr>\n",
       "    <tr>\n",
       "      <th>std</th>\n",
       "      <td>8.391314</td>\n",
       "      <td>12.462896</td>\n",
       "      <td>30.489848</td>\n",
       "      <td>3.859877</td>\n",
       "      <td>2.549803</td>\n",
       "      <td>8.508314</td>\n",
       "      <td>10.973468</td>\n",
       "      <td>7.399307</td>\n",
       "      <td>5.503221</td>\n",
       "      <td>2.481875</td>\n",
       "      <td>1.647027</td>\n",
       "      <td>3.196043</td>\n",
       "      <td>2.080167</td>\n",
       "      <td>0.935189</td>\n",
       "    </tr>\n",
       "    <tr>\n",
       "      <th>min</th>\n",
       "      <td>0.000000</td>\n",
       "      <td>22.000000</td>\n",
       "      <td>118.500000</td>\n",
       "      <td>29.500000</td>\n",
       "      <td>31.100000</td>\n",
       "      <td>79.300000</td>\n",
       "      <td>69.400000</td>\n",
       "      <td>85.000000</td>\n",
       "      <td>47.200000</td>\n",
       "      <td>33.000000</td>\n",
       "      <td>19.100000</td>\n",
       "      <td>24.800000</td>\n",
       "      <td>22.000000</td>\n",
       "      <td>15.800000</td>\n",
       "    </tr>\n",
       "    <tr>\n",
       "      <th>25%</th>\n",
       "      <td>12.500000</td>\n",
       "      <td>35.000000</td>\n",
       "      <td>157.000000</td>\n",
       "      <td>68.250000</td>\n",
       "      <td>36.300000</td>\n",
       "      <td>94.000000</td>\n",
       "      <td>84.400000</td>\n",
       "      <td>95.500000</td>\n",
       "      <td>56.000000</td>\n",
       "      <td>36.900000</td>\n",
       "      <td>22.000000</td>\n",
       "      <td>30.000000</td>\n",
       "      <td>27.200000</td>\n",
       "      <td>17.600000</td>\n",
       "    </tr>\n",
       "    <tr>\n",
       "      <th>50%</th>\n",
       "      <td>19.200000</td>\n",
       "      <td>43.000000</td>\n",
       "      <td>176.000000</td>\n",
       "      <td>70.000000</td>\n",
       "      <td>38.000000</td>\n",
       "      <td>99.600000</td>\n",
       "      <td>90.900000</td>\n",
       "      <td>99.300000</td>\n",
       "      <td>58.900000</td>\n",
       "      <td>38.600000</td>\n",
       "      <td>22.800000</td>\n",
       "      <td>31.900000</td>\n",
       "      <td>28.700000</td>\n",
       "      <td>18.300000</td>\n",
       "    </tr>\n",
       "    <tr>\n",
       "      <th>75%</th>\n",
       "      <td>24.700000</td>\n",
       "      <td>54.000000</td>\n",
       "      <td>198.000000</td>\n",
       "      <td>72.250000</td>\n",
       "      <td>39.600000</td>\n",
       "      <td>105.300000</td>\n",
       "      <td>99.100000</td>\n",
       "      <td>103.700000</td>\n",
       "      <td>63.100000</td>\n",
       "      <td>39.900000</td>\n",
       "      <td>24.000000</td>\n",
       "      <td>34.600000</td>\n",
       "      <td>30.100000</td>\n",
       "      <td>18.800000</td>\n",
       "    </tr>\n",
       "    <tr>\n",
       "      <th>max</th>\n",
       "      <td>47.500000</td>\n",
       "      <td>81.000000</td>\n",
       "      <td>363.150000</td>\n",
       "      <td>77.500000</td>\n",
       "      <td>51.200000</td>\n",
       "      <td>136.200000</td>\n",
       "      <td>148.100000</td>\n",
       "      <td>147.700000</td>\n",
       "      <td>87.300000</td>\n",
       "      <td>49.100000</td>\n",
       "      <td>33.900000</td>\n",
       "      <td>45.000000</td>\n",
       "      <td>34.900000</td>\n",
       "      <td>21.400000</td>\n",
       "    </tr>\n",
       "  </tbody>\n",
       "</table>\n",
       "</div>"
      ],
      "text/plain": [
       "       Body fat (%)  Age (years)  Weight (lbs)  Height (inches)   Neck (cm)  \\\n",
       "count    201.000000   201.000000    201.000000       201.000000  201.000000   \n",
       "mean      18.977612    44.631841    178.370398        70.009950   37.992537   \n",
       "std        8.391314    12.462896     30.489848         3.859877    2.549803   \n",
       "min        0.000000    22.000000    118.500000        29.500000   31.100000   \n",
       "25%       12.500000    35.000000    157.000000        68.250000   36.300000   \n",
       "50%       19.200000    43.000000    176.000000        70.000000   38.000000   \n",
       "75%       24.700000    54.000000    198.000000        72.250000   39.600000   \n",
       "max       47.500000    81.000000    363.150000        77.500000   51.200000   \n",
       "\n",
       "       Chest (cm)  Abdomen (cm)    Hip (cm)  Thigh (cm)   Knee (cm)  \\\n",
       "count  201.000000    201.000000  201.000000  201.000000  201.000000   \n",
       "mean   100.500000     92.392537   99.885572   59.407960   38.574627   \n",
       "std      8.508314     10.973468    7.399307    5.503221    2.481875   \n",
       "min     79.300000     69.400000   85.000000   47.200000   33.000000   \n",
       "25%     94.000000     84.400000   95.500000   56.000000   36.900000   \n",
       "50%     99.600000     90.900000   99.300000   58.900000   38.600000   \n",
       "75%    105.300000     99.100000  103.700000   63.100000   39.900000   \n",
       "max    136.200000    148.100000  147.700000   87.300000   49.100000   \n",
       "\n",
       "       Ankle (cm)  Biceps (cm)  Forearm (cm)  Wrist (cm)  \n",
       "count  201.000000   201.000000    201.000000  201.000000  \n",
       "mean    23.060697    32.197015     28.645771   18.216418  \n",
       "std      1.647027     3.196043      2.080167    0.935189  \n",
       "min     19.100000    24.800000     22.000000   15.800000  \n",
       "25%     22.000000    30.000000     27.200000   17.600000  \n",
       "50%     22.800000    31.900000     28.700000   18.300000  \n",
       "75%     24.000000    34.600000     30.100000   18.800000  \n",
       "max     33.900000    45.000000     34.900000   21.400000  "
      ]
     },
     "execution_count": 8,
     "metadata": {},
     "output_type": "execute_result"
    }
   ],
   "source": [
    "train_df.describe()"
   ]
  },
  {
   "cell_type": "code",
   "execution_count": 75,
   "metadata": {},
   "outputs": [],
   "source": [
    "target = train_df[\"Body fat (%)\"]"
   ]
  },
  {
   "cell_type": "code",
   "execution_count": 87,
   "metadata": {},
   "outputs": [],
   "source": [
    "train_X, test_X, train_y, test_y = train_test_split(train_df[columns_to_train], target)"
   ]
  },
  {
   "cell_type": "code",
   "execution_count": 88,
   "metadata": {},
   "outputs": [],
   "source": [
    "from sklearn.ensemble import RandomForestRegressor"
   ]
  },
  {
   "cell_type": "code",
   "execution_count": 89,
   "metadata": {},
   "outputs": [],
   "source": [
    "model = RandomForestRegressor()"
   ]
  },
  {
   "cell_type": "code",
   "execution_count": 90,
   "metadata": {},
   "outputs": [
    {
     "data": {
      "text/plain": [
       "RandomForestRegressor(bootstrap=True, criterion='mse', max_depth=None,\n",
       "           max_features='auto', max_leaf_nodes=None,\n",
       "           min_impurity_decrease=0.0, min_impurity_split=None,\n",
       "           min_samples_leaf=1, min_samples_split=2,\n",
       "           min_weight_fraction_leaf=0.0, n_estimators=10, n_jobs=None,\n",
       "           oob_score=False, random_state=None, verbose=0, warm_start=False)"
      ]
     },
     "execution_count": 90,
     "metadata": {},
     "output_type": "execute_result"
    }
   ],
   "source": [
    "model.fit(train_X, train_y)"
   ]
  },
  {
   "cell_type": "code",
   "execution_count": 91,
   "metadata": {},
   "outputs": [
    {
     "data": {
      "text/plain": [
       "0.5661522824171268"
      ]
     },
     "execution_count": 91,
     "metadata": {},
     "output_type": "execute_result"
    }
   ],
   "source": [
    "r2_score(model.predict(test_X), test_y)"
   ]
  },
  {
   "cell_type": "code",
   "execution_count": 47,
   "metadata": {},
   "outputs": [],
   "source": [
    "from sklearn.ensemble import GradientBoostingRegressor"
   ]
  },
  {
   "cell_type": "code",
   "execution_count": 82,
   "metadata": {},
   "outputs": [],
   "source": [
    "model = GradientBoostingRegressor()"
   ]
  },
  {
   "cell_type": "code",
   "execution_count": 22,
   "metadata": {},
   "outputs": [],
   "source": [
    "from sklearn.metrics import mean_absolute_error"
   ]
  },
  {
   "cell_type": "code",
   "execution_count": 85,
   "metadata": {},
   "outputs": [
    {
     "data": {
      "text/plain": [
       "4.031380632710187"
      ]
     },
     "execution_count": 85,
     "metadata": {},
     "output_type": "execute_result"
    }
   ],
   "source": [
    "mean_absolute_error(model.predict(test_X), test_y)"
   ]
  },
  {
   "cell_type": "code",
   "execution_count": 30,
   "metadata": {},
   "outputs": [
    {
     "data": {
      "text/plain": [
       "<module 'matplotlib.pyplot' from '/Users/manish/anaconda3/envs/fastai-cpu/lib/python3.6/site-packages/matplotlib/pyplot.py'>"
      ]
     },
     "execution_count": 30,
     "metadata": {},
     "output_type": "execute_result"
    }
   ],
   "source": [
    "plt"
   ]
  },
  {
   "cell_type": "code",
   "execution_count": 31,
   "metadata": {},
   "outputs": [
    {
     "data": {
      "text/plain": [
       "<matplotlib.image.AxesImage at 0x101700a90>"
      ]
     },
     "execution_count": 31,
     "metadata": {},
     "output_type": "execute_result"
    },
    {
     "data": {
      "image/png": "[encoded data removed]",
      "text/plain": [
       "<Figure size 288x288 with 1 Axes>"
      ]
     },
     "metadata": {},
     "output_type": "display_data"
    }
   ],
   "source": [
    "plt.matshow(train_df.corr())"
   ]
  },
  {
   "cell_type": "code",
   "execution_count": 61,
   "metadata": {},
   "outputs": [
    {
     "data": {
      "text/plain": [
       "Body fat (%)              1.000000\n",
       "Age (years)               0.281098\n",
       "Weight (lbs)              0.604166\n",
       "Height (inches)          -0.123521\n",
       "Neck (cm)                 0.487892\n",
       "Chest (cm)                0.712247\n",
       "Abdomen (cm)              0.812182\n",
       "Hip (cm)                  0.628160\n",
       "Thigh (cm)                0.560525\n",
       "Knee (cm)                 0.493188\n",
       "Ankle (cm)                0.269730\n",
       "Biceps (cm)               0.521717\n",
       "Forearm (cm)              0.400249\n",
       "Wrist (cm)                0.366006\n",
       "height_to_weight_ratio   -0.699267\n",
       "chest_to_hip_ratio        0.312930\n",
       "age_to_weight_ratio      -0.073027\n",
       "knee_to_thigh_ratio      -0.368292\n",
       "Name: Body fat (%), dtype: float64"
      ]
     },
     "execution_count": 61,
     "metadata": {},
     "output_type": "execute_result"
    }
   ],
   "source": [
    "train_df.corr()[\"Body fat (%)\"]"
   ]
  },
  {
   "cell_type": "code",
   "execution_count": 38,
   "metadata": {},
   "outputs": [],
   "source": [
    "train_df[\"height_to_weight_ratio\"] = train_df[\"Height (inches)\"] / train_df[\"Weight (lbs)\"]"
   ]
  },
  {
   "cell_type": "code",
   "execution_count": 39,
   "metadata": {},
   "outputs": [],
   "source": [
    "train_df[\"chest_to_hip_ratio\"] = train_df[\"Chest (cm)\"] / train_df[\"Hip (cm)\"]"
   ]
  },
  {
   "cell_type": "code",
   "execution_count": 40,
   "metadata": {},
   "outputs": [],
   "source": [
    "train_df[\"age_to_weight_ratio\"] = train_df[\"Age (years)\"] / train_df[\"Weight (lbs)\"]"
   ]
  },
  {
   "cell_type": "code",
   "execution_count": 53,
   "metadata": {},
   "outputs": [],
   "source": [
    "train_df[\"knee_to_thigh_ratio\"] = train_df[\"Knee (cm)\"] / train_df[\"Thigh (cm)\"]"
   ]
  },
  {
   "cell_type": "code",
   "execution_count": 72,
   "metadata": {},
   "outputs": [],
   "source": [
    "train_df[\"chest_to_abdomen_ratio\"] = train_df[\"Chest (cm)\"] / train_df[\"Abdomen (cm)\"]"
   ]
  },
  {
   "cell_type": "code",
   "execution_count": 86,
   "metadata": {},
   "outputs": [],
   "source": [
    "columns_to_train = [\"height_to_weight_ratio\", \"chest_to_hip_ratio\", \"age_to_weight_ratio\",\n",
    "                    \"knee_to_thigh_ratio\", \"chest_to_abdomen_ratio\", \"Height (inches)\", \"Age (years)\",\n",
    "                    \"Abdomen (cm)\", \"Neck (cm)\"\n",
    "                   ]"
   ]
  },
  {
   "cell_type": "code",
   "execution_count": null,
   "metadata": {},
   "outputs": [],
   "source": []
  }
 ],
 "metadata": {
  "kernelspec": {
   "display_name": "Python 3",
   "language": "python",
   "name": "python3"
  },
  "language_info": {
   "codemirror_mode": {
    "name": "ipython",
    "version": 3
   },
   "file_extension": ".py",
   "mimetype": "text/x-python",
   "name": "python",
   "nbconvert_exporter": "python",
   "pygments_lexer": "ipython3",
   "version": "3.6.5"
  }
 },
 "nbformat": 4,
 "nbformat_minor": 1
}
