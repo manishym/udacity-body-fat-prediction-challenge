{
 "cells": [
  {
   "cell_type": "code",
   "execution_count": 1,
   "metadata": {
    "scrolled": true
   },
   "outputs": [],
   "source": [
    "import warnings\n",
    "warnings.filterwarnings('ignore')\n",
    "\n",
    "import os\n",
    "\n",
    "PROJ_ROOT = os.pardir\n",
    "\n",
    "TRAIN_DATA = os.path.join(PROJ_ROOT, \"data\", \"raw\", \"train.csv\")\n",
    "TEST_DATA = os.path.join(PROJ_ROOT, \"data\", \"raw\", \"test.csv\")\n",
    "\n",
    "import sys\n",
    "sys.path.append(os.path.join(PROJ_ROOT, \"src\"))\n",
    "\n",
    "%reload_ext autoreload\n",
    "%autoreload 2\n",
    "%matplotlib inline"
   ]
  },
  {
   "cell_type": "code",
   "execution_count": 2,
   "metadata": {},
   "outputs": [],
   "source": [
    "from fastai.imports import *\n",
    "from fastai.structured import *\n",
    "\n",
    "from pandas_summary import DataFrameSummary\n",
    "from IPython.display import display\n",
    "\n",
    "\n",
    "from fastai.imports import *\n",
    "from fastai.torch_imports import *\n",
    "from fastai.transforms import *\n",
    "from fastai.conv_learner import *\n",
    "from fastai.model import *\n",
    "from fastai.dataset import *\n",
    "from fastai.sgdr import *\n",
    "from fastai.plots import *"
   ]
  },
  {
   "cell_type": "code",
   "execution_count": 3,
   "metadata": {},
   "outputs": [],
   "source": [
    "PATH = os.path.join(PROJ_ROOT, \"data\", \"raw/\")\n",
    "\n",
    "PATH\n",
    "\n",
    "\n",
    "from sklearn.metrics import accuracy_score, r2_score\n",
    "\n",
    "from sklearn.model_selection import train_test_split"
   ]
  },
  {
   "cell_type": "code",
   "execution_count": 4,
   "metadata": {},
   "outputs": [
    {
     "name": "stdout",
     "output_type": "stream",
     "text": [
      "bodyfat-test.csv             kaggle_solution_template.csv\r\n",
      "bodyfat-train.csv\r\n"
     ]
    }
   ],
   "source": [
    "!ls {PATH} "
   ]
  },
  {
   "cell_type": "code",
   "execution_count": 130,
   "metadata": {},
   "outputs": [],
   "source": [
    "train_df = pd.read_csv(f\"{PATH}/bodyfat-train.csv\")\n",
    "test_df = pd.read_csv(f\"{PATH}/bodyfat-test.csv\")"
   ]
  },
  {
   "cell_type": "code",
   "execution_count": 131,
   "metadata": {},
   "outputs": [
    {
     "data": {
      "text/plain": [
       "Index(['Body fat (%)', 'Age (years)', 'Weight (lbs)', 'Height (inches)',\n",
       "       'Neck (cm)', 'Chest (cm)', 'Abdomen (cm)', 'Hip (cm)', 'Thigh (cm)',\n",
       "       'Knee (cm)', 'Ankle (cm)', 'Biceps (cm)', 'Forearm (cm)', 'Wrist (cm)'],\n",
       "      dtype='object')"
      ]
     },
     "execution_count": 131,
     "metadata": {},
     "output_type": "execute_result"
    }
   ],
   "source": [
    "train_df.columns"
   ]
  },
  {
   "cell_type": "code",
   "execution_count": 6,
   "metadata": {},
   "outputs": [
    {
     "data": {
      "text/html": [
       "<div>\n",
       "<style scoped>\n",
       "    .dataframe tbody tr th:only-of-type {\n",
       "        vertical-align: middle;\n",
       "    }\n",
       "\n",
       "    .dataframe tbody tr th {\n",
       "        vertical-align: top;\n",
       "    }\n",
       "\n",
       "    .dataframe thead th {\n",
       "        text-align: right;\n",
       "    }\n",
       "</style>\n",
       "<table border=\"1\" class=\"dataframe\">\n",
       "  <thead>\n",
       "    <tr style=\"text-align: right;\">\n",
       "      <th></th>\n",
       "      <th>Body fat (%)</th>\n",
       "      <th>Age (years)</th>\n",
       "      <th>Weight (lbs)</th>\n",
       "      <th>Height (inches)</th>\n",
       "      <th>Neck (cm)</th>\n",
       "      <th>Chest (cm)</th>\n",
       "      <th>Abdomen (cm)</th>\n",
       "      <th>Hip (cm)</th>\n",
       "      <th>Thigh (cm)</th>\n",
       "      <th>Knee (cm)</th>\n",
       "      <th>Ankle (cm)</th>\n",
       "      <th>Biceps (cm)</th>\n",
       "      <th>Forearm (cm)</th>\n",
       "      <th>Wrist (cm)</th>\n",
       "    </tr>\n",
       "  </thead>\n",
       "  <tbody>\n",
       "    <tr>\n",
       "      <th>count</th>\n",
       "      <td>201.000000</td>\n",
       "      <td>201.000000</td>\n",
       "      <td>201.000000</td>\n",
       "      <td>201.000000</td>\n",
       "      <td>201.000000</td>\n",
       "      <td>201.000000</td>\n",
       "      <td>201.000000</td>\n",
       "      <td>201.000000</td>\n",
       "      <td>201.000000</td>\n",
       "      <td>201.000000</td>\n",
       "      <td>201.000000</td>\n",
       "      <td>201.000000</td>\n",
       "      <td>201.000000</td>\n",
       "      <td>201.000000</td>\n",
       "    </tr>\n",
       "    <tr>\n",
       "      <th>mean</th>\n",
       "      <td>18.977612</td>\n",
       "      <td>44.631841</td>\n",
       "      <td>178.370398</td>\n",
       "      <td>70.009950</td>\n",
       "      <td>37.992537</td>\n",
       "      <td>100.500000</td>\n",
       "      <td>92.392537</td>\n",
       "      <td>99.885572</td>\n",
       "      <td>59.407960</td>\n",
       "      <td>38.574627</td>\n",
       "      <td>23.060697</td>\n",
       "      <td>32.197015</td>\n",
       "      <td>28.645771</td>\n",
       "      <td>18.216418</td>\n",
       "    </tr>\n",
       "    <tr>\n",
       "      <th>std</th>\n",
       "      <td>8.391314</td>\n",
       "      <td>12.462896</td>\n",
       "      <td>30.489848</td>\n",
       "      <td>3.859877</td>\n",
       "      <td>2.549803</td>\n",
       "      <td>8.508314</td>\n",
       "      <td>10.973468</td>\n",
       "      <td>7.399307</td>\n",
       "      <td>5.503221</td>\n",
       "      <td>2.481875</td>\n",
       "      <td>1.647027</td>\n",
       "      <td>3.196043</td>\n",
       "      <td>2.080167</td>\n",
       "      <td>0.935189</td>\n",
       "    </tr>\n",
       "    <tr>\n",
       "      <th>min</th>\n",
       "      <td>0.000000</td>\n",
       "      <td>22.000000</td>\n",
       "      <td>118.500000</td>\n",
       "      <td>29.500000</td>\n",
       "      <td>31.100000</td>\n",
       "      <td>79.300000</td>\n",
       "      <td>69.400000</td>\n",
       "      <td>85.000000</td>\n",
       "      <td>47.200000</td>\n",
       "      <td>33.000000</td>\n",
       "      <td>19.100000</td>\n",
       "      <td>24.800000</td>\n",
       "      <td>22.000000</td>\n",
       "      <td>15.800000</td>\n",
       "    </tr>\n",
       "    <tr>\n",
       "      <th>25%</th>\n",
       "      <td>12.500000</td>\n",
       "      <td>35.000000</td>\n",
       "      <td>157.000000</td>\n",
       "      <td>68.250000</td>\n",
       "      <td>36.300000</td>\n",
       "      <td>94.000000</td>\n",
       "      <td>84.400000</td>\n",
       "      <td>95.500000</td>\n",
       "      <td>56.000000</td>\n",
       "      <td>36.900000</td>\n",
       "      <td>22.000000</td>\n",
       "      <td>30.000000</td>\n",
       "      <td>27.200000</td>\n",
       "      <td>17.600000</td>\n",
       "    </tr>\n",
       "    <tr>\n",
       "      <th>50%</th>\n",
       "      <td>19.200000</td>\n",
       "      <td>43.000000</td>\n",
       "      <td>176.000000</td>\n",
       "      <td>70.000000</td>\n",
       "      <td>38.000000</td>\n",
       "      <td>99.600000</td>\n",
       "      <td>90.900000</td>\n",
       "      <td>99.300000</td>\n",
       "      <td>58.900000</td>\n",
       "      <td>38.600000</td>\n",
       "      <td>22.800000</td>\n",
       "      <td>31.900000</td>\n",
       "      <td>28.700000</td>\n",
       "      <td>18.300000</td>\n",
       "    </tr>\n",
       "    <tr>\n",
       "      <th>75%</th>\n",
       "      <td>24.700000</td>\n",
       "      <td>54.000000</td>\n",
       "      <td>198.000000</td>\n",
       "      <td>72.250000</td>\n",
       "      <td>39.600000</td>\n",
       "      <td>105.300000</td>\n",
       "      <td>99.100000</td>\n",
       "      <td>103.700000</td>\n",
       "      <td>63.100000</td>\n",
       "      <td>39.900000</td>\n",
       "      <td>24.000000</td>\n",
       "      <td>34.600000</td>\n",
       "      <td>30.100000</td>\n",
       "      <td>18.800000</td>\n",
       "    </tr>\n",
       "    <tr>\n",
       "      <th>max</th>\n",
       "      <td>47.500000</td>\n",
       "      <td>81.000000</td>\n",
       "      <td>363.150000</td>\n",
       "      <td>77.500000</td>\n",
       "      <td>51.200000</td>\n",
       "      <td>136.200000</td>\n",
       "      <td>148.100000</td>\n",
       "      <td>147.700000</td>\n",
       "      <td>87.300000</td>\n",
       "      <td>49.100000</td>\n",
       "      <td>33.900000</td>\n",
       "      <td>45.000000</td>\n",
       "      <td>34.900000</td>\n",
       "      <td>21.400000</td>\n",
       "    </tr>\n",
       "  </tbody>\n",
       "</table>\n",
       "</div>"
      ],
      "text/plain": [
       "       Body fat (%)  Age (years)  Weight (lbs)  Height (inches)   Neck (cm)  \\\n",
       "count    201.000000   201.000000    201.000000       201.000000  201.000000   \n",
       "mean      18.977612    44.631841    178.370398        70.009950   37.992537   \n",
       "std        8.391314    12.462896     30.489848         3.859877    2.549803   \n",
       "min        0.000000    22.000000    118.500000        29.500000   31.100000   \n",
       "25%       12.500000    35.000000    157.000000        68.250000   36.300000   \n",
       "50%       19.200000    43.000000    176.000000        70.000000   38.000000   \n",
       "75%       24.700000    54.000000    198.000000        72.250000   39.600000   \n",
       "max       47.500000    81.000000    363.150000        77.500000   51.200000   \n",
       "\n",
       "       Chest (cm)  Abdomen (cm)    Hip (cm)  Thigh (cm)   Knee (cm)  \\\n",
       "count  201.000000    201.000000  201.000000  201.000000  201.000000   \n",
       "mean   100.500000     92.392537   99.885572   59.407960   38.574627   \n",
       "std      8.508314     10.973468    7.399307    5.503221    2.481875   \n",
       "min     79.300000     69.400000   85.000000   47.200000   33.000000   \n",
       "25%     94.000000     84.400000   95.500000   56.000000   36.900000   \n",
       "50%     99.600000     90.900000   99.300000   58.900000   38.600000   \n",
       "75%    105.300000     99.100000  103.700000   63.100000   39.900000   \n",
       "max    136.200000    148.100000  147.700000   87.300000   49.100000   \n",
       "\n",
       "       Ankle (cm)  Biceps (cm)  Forearm (cm)  Wrist (cm)  \n",
       "count  201.000000   201.000000    201.000000  201.000000  \n",
       "mean    23.060697    32.197015     28.645771   18.216418  \n",
       "std      1.647027     3.196043      2.080167    0.935189  \n",
       "min     19.100000    24.800000     22.000000   15.800000  \n",
       "25%     22.000000    30.000000     27.200000   17.600000  \n",
       "50%     22.800000    31.900000     28.700000   18.300000  \n",
       "75%     24.000000    34.600000     30.100000   18.800000  \n",
       "max     33.900000    45.000000     34.900000   21.400000  "
      ]
     },
     "execution_count": 6,
     "metadata": {},
     "output_type": "execute_result"
    }
   ],
   "source": [
    "train_df.describe()"
   ]
  },
  {
   "cell_type": "code",
   "execution_count": 128,
   "metadata": {},
   "outputs": [],
   "source": [
    "target = train_df[\"Body fat (%)\"]"
   ]
  },
  {
   "cell_type": "code",
   "execution_count": 140,
   "metadata": {},
   "outputs": [],
   "source": [
    "ratio_list = [\n",
    "    (\"Height (inches)\", \"Weight (lbs)\"),\n",
    "    (\"Chest (cm)\", \"Hip (cm)\"),\n",
    "    (\"Age (years)\", \"Weight (lbs)\"),\n",
    "    (\"Knee (cm)\", \"Thigh (cm)\"),\n",
    "    (\"Chest (cm)\", \"Abdomen (cm)\"),    \n",
    "]"
   ]
  },
  {
   "cell_type": "code",
   "execution_count": 141,
   "metadata": {},
   "outputs": [],
   "source": [
    "from sklearn.preprocessing import MinMaxScaler"
   ]
  },
  {
   "cell_type": "code",
   "execution_count": 142,
   "metadata": {},
   "outputs": [],
   "source": [
    "scaler = MinMaxScaler()"
   ]
  },
  {
   "cell_type": "code",
   "execution_count": 143,
   "metadata": {},
   "outputs": [
    {
     "name": "stderr",
     "output_type": "stream",
     "text": [
      "/Users/manish/anaconda3/envs/fastai-cpu/lib/python3.6/site-packages/sklearn/preprocessing/data.py:323: DataConversionWarning: Data with input dtype int64, float64 were all converted to float64 by MinMaxScaler.\n",
      "  return self.partial_fit(X, y)\n"
     ]
    },
    {
     "data": {
      "text/plain": [
       "array([[0.42373, 0.26875, 0.9375 , ..., 0.27228, 0.45736, 0.35714],\n",
       "       [0.32203, 0.27182, 0.80729, ..., 0.42574, 0.55814, 0.48214],\n",
       "       [0.67797, 0.29839, 0.89062, ..., 0.38614, 0.50388, 0.57143],\n",
       "       ...,\n",
       "       [0.84746, 0.29532, 0.85417, ..., 0.28218, 0.57364, 0.71429],\n",
       "       [0.42373, 0.16861, 0.85938, ..., 0.20792, 0.32558, 0.32143],\n",
       "       [0.32203, 0.14102, 0.82812, ..., 0.23762, 0.41085, 0.375  ]])"
      ]
     },
     "execution_count": 143,
     "metadata": {},
     "output_type": "execute_result"
    }
   ],
   "source": [
    "scaler.fit_transform(train_df[columns_to_train])"
   ]
  },
  {
   "cell_type": "code",
   "execution_count": 165,
   "metadata": {},
   "outputs": [],
   "source": [
    "def feature_engineering(df, ratio_list):\n",
    "    \"\"\"Do not pass target in the df. It will be scaled.\"\"\"\n",
    "    ret = df.copy()\n",
    "    for col1, col2 in ratio_list:\n",
    "        create_ratio(ret, col1, col2)\n",
    "#     scaler = MinMaxScaler()\n",
    "#     return scaler.fit_transform(ret)\n",
    "    return ret"
   ]
  },
  {
   "cell_type": "code",
   "execution_count": 166,
   "metadata": {},
   "outputs": [],
   "source": [
    "train_processed = feature_engineering(train_df[columns_to_train], ratio_list)\n",
    "test_processed = feature_engineering(test_df[columns_to_train], ratio_list)"
   ]
  },
  {
   "cell_type": "code",
   "execution_count": 106,
   "metadata": {},
   "outputs": [],
   "source": [
    "columns_to_train = [\"height_to_weight_ratio\", \"chest_to_hip_ratio\", \"age_to_weight_ratio\",\n",
    "                    \"knee_to_thigh_ratio\", \"chest_to_abdomen_ratio\", \"Height (inches)\", \"Age (years)\",\n",
    "                    \"Abdomen (cm)\", \"Neck (cm)\", \"Weight (lbs)\"\n",
    "                   ]"
   ]
  },
  {
   "cell_type": "code",
   "execution_count": 174,
   "metadata": {},
   "outputs": [],
   "source": [
    "train_X, test_X, train_y, test_y = train_test_split(train_processed, target)"
   ]
  },
  {
   "cell_type": "code",
   "execution_count": 148,
   "metadata": {},
   "outputs": [],
   "source": [
    "from sklearn.ensemble import RandomForestRegressor"
   ]
  },
  {
   "cell_type": "code",
   "execution_count": 149,
   "metadata": {},
   "outputs": [],
   "source": [
    "model = RandomForestRegressor()"
   ]
  },
  {
   "cell_type": "code",
   "execution_count": 150,
   "metadata": {},
   "outputs": [
    {
     "data": {
      "text/plain": [
       "RandomForestRegressor(bootstrap=True, criterion='mse', max_depth=None,\n",
       "           max_features='auto', max_leaf_nodes=None,\n",
       "           min_impurity_decrease=0.0, min_impurity_split=None,\n",
       "           min_samples_leaf=1, min_samples_split=2,\n",
       "           min_weight_fraction_leaf=0.0, n_estimators=10, n_jobs=None,\n",
       "           oob_score=False, random_state=None, verbose=0, warm_start=False)"
      ]
     },
     "execution_count": 150,
     "metadata": {},
     "output_type": "execute_result"
    }
   ],
   "source": [
    "model.fit(train_X, train_y)"
   ]
  },
  {
   "cell_type": "code",
   "execution_count": 151,
   "metadata": {},
   "outputs": [
    {
     "data": {
      "text/plain": [
       "0.22666082028956547"
      ]
     },
     "execution_count": 151,
     "metadata": {},
     "output_type": "execute_result"
    }
   ],
   "source": [
    "r2_score(model.predict(test_X), test_y)"
   ]
  },
  {
   "cell_type": "code",
   "execution_count": 99,
   "metadata": {},
   "outputs": [],
   "source": [
    "from sklearn.ensemble import GradientBoostingRegressor"
   ]
  },
  {
   "cell_type": "code",
   "execution_count": 100,
   "metadata": {},
   "outputs": [],
   "source": [
    "model = GradientBoostingRegressor()"
   ]
  },
  {
   "cell_type": "code",
   "execution_count": 29,
   "metadata": {},
   "outputs": [],
   "source": [
    "from sklearn.metrics import mean_absolute_error"
   ]
  },
  {
   "cell_type": "code",
   "execution_count": 152,
   "metadata": {},
   "outputs": [
    {
     "data": {
      "text/plain": [
       "4.76313725490196"
      ]
     },
     "execution_count": 152,
     "metadata": {},
     "output_type": "execute_result"
    }
   ],
   "source": [
    "mean_absolute_error(model.predict(test_X), test_y)"
   ]
  },
  {
   "cell_type": "code",
   "execution_count": 34,
   "metadata": {},
   "outputs": [
    {
     "data": {
      "text/plain": [
       "Body fat (%)              1.000000\n",
       "Age (years)               0.281098\n",
       "Weight (lbs)              0.604166\n",
       "Height (inches)          -0.123521\n",
       "Neck (cm)                 0.487892\n",
       "Chest (cm)                0.712247\n",
       "Abdomen (cm)              0.812182\n",
       "Hip (cm)                  0.628160\n",
       "Thigh (cm)                0.560525\n",
       "Knee (cm)                 0.493188\n",
       "Ankle (cm)                0.269730\n",
       "Biceps (cm)               0.521717\n",
       "Forearm (cm)              0.400249\n",
       "Wrist (cm)                0.366006\n",
       "height_to_weight_ratio   -0.699267\n",
       "chest_to_hip_ratio        0.312930\n",
       "age_to_weight_ratio      -0.073027\n",
       "knee_to_thigh_ratio      -0.368292\n",
       "chest_to_abdomen_ratio   -0.690165\n",
       "Name: Body fat (%), dtype: float64"
      ]
     },
     "execution_count": 34,
     "metadata": {},
     "output_type": "execute_result"
    }
   ],
   "source": [
    "train_df.corr()[\"Body fat (%)\"]"
   ]
  },
  {
   "cell_type": "code",
   "execution_count": 11,
   "metadata": {},
   "outputs": [],
   "source": [
    "train_df[\"height_to_weight_ratio\"] = train_df[\"Height (inches)\"] / train_df[\"Weight (lbs)\"]"
   ]
  },
  {
   "cell_type": "code",
   "execution_count": 12,
   "metadata": {},
   "outputs": [],
   "source": [
    "train_df[\"chest_to_hip_ratio\"] = train_df[\"Chest (cm)\"] / train_df[\"Hip (cm)\"]"
   ]
  },
  {
   "cell_type": "code",
   "execution_count": 13,
   "metadata": {},
   "outputs": [],
   "source": [
    "train_df[\"age_to_weight_ratio\"] = train_df[\"Age (years)\"] / train_df[\"Weight (lbs)\"]"
   ]
  },
  {
   "cell_type": "code",
   "execution_count": 14,
   "metadata": {},
   "outputs": [],
   "source": [
    "train_df[\"knee_to_thigh_ratio\"] = train_df[\"Knee (cm)\"] / train_df[\"Thigh (cm)\"]"
   ]
  },
  {
   "cell_type": "code",
   "execution_count": 15,
   "metadata": {},
   "outputs": [],
   "source": [
    "train_df[\"chest_to_abdomen_ratio\"] = train_df[\"Chest (cm)\"] / train_df[\"Abdomen (cm)\"]"
   ]
  },
  {
   "cell_type": "code",
   "execution_count": 10,
   "metadata": {},
   "outputs": [],
   "source": [
    "columns_to_train = [\"height_to_weight_ratio\", \"chest_to_hip_ratio\", \"age_to_weight_ratio\",\n",
    "                    \"knee_to_thigh_ratio\", \"chest_to_abdomen_ratio\", \"Height (inches)\", \"Age (years)\",\n",
    "                    \"Abdomen (cm)\", \"Neck (cm)\"\n",
    "                   ]"
   ]
  },
  {
   "cell_type": "code",
   "execution_count": 69,
   "metadata": {},
   "outputs": [
    {
     "data": {
      "text/plain": [
       "['Height (inches)_Weight (lbs)_ratio',\n",
       " 'Chest (cm)_Hip (cm)_ratio',\n",
       " 'Age (years)_Weight (lbs)_ratio',\n",
       " 'Knee (cm)_Thigh (cm)_ratio',\n",
       " 'Chest (cm)_Abdomen (cm)_ratio']"
      ]
     },
     "execution_count": 69,
     "metadata": {},
     "output_type": "execute_result"
    }
   ],
   "source": [
    "col_names = []\n",
    "def create_ratio(df, col1, col2):\n",
    "    col_name = f\"{col1}_{col2}_ratio\"\n",
    "    df[col_name] = df[col1]/df[col2]\n",
    "    return col_name\n",
    "ratio_list = [\n",
    "    (\"Height (inches)\", \"Weight (lbs)\"),\n",
    "    (\"Chest (cm)\", \"Hip (cm)\"),\n",
    "    (\"Age (years)\", \"Weight (lbs)\"),\n",
    "    (\"Knee (cm)\", \"Thigh (cm)\"),\n",
    "    (\"Chest (cm)\", \"Abdomen (cm)\"),    \n",
    "]\n",
    "for col1, col2 in ratio_list:\n",
    "    col_names.append(create_ratio(test_df, col1, col2))\n",
    "col_names"
   ]
  },
  {
   "cell_type": "code",
   "execution_count": 71,
   "metadata": {},
   "outputs": [],
   "source": [
    "test_cols = ['Height (inches)_Weight (lbs)_ratio',\n",
    " 'Chest (cm)_Hip (cm)_ratio',\n",
    " 'Age (years)_Weight (lbs)_ratio',\n",
    " 'Knee (cm)_Thigh (cm)_ratio',\n",
    " 'Chest (cm)_Abdomen (cm)_ratio', \n",
    "             \"Height (inches)\", \"Age (years)\",\n",
    "                    \"Abdomen (cm)\", \"Neck (cm)\", \"Weight (lbs)\"\n",
    "            ]"
   ]
  },
  {
   "cell_type": "code",
   "execution_count": 73,
   "metadata": {},
   "outputs": [
    {
     "data": {
      "text/plain": [
       "(9, 9)"
      ]
     },
     "execution_count": 73,
     "metadata": {},
     "output_type": "execute_result"
    }
   ],
   "source": [
    "len(test_cols), len(columns_to_train)"
   ]
  },
  {
   "cell_type": "code",
   "execution_count": 38,
   "metadata": {},
   "outputs": [],
   "source": [
    "from lightgbm.sklearn import LGBMRegressor\n",
    "from xgboost import XGBRegressor\n",
    "from sklearn.ensemble import ExtraTreesRegressor, AdaBoostRegressor, BaggingRegressor\n",
    "from sklearn.svm import SVR\n",
    "from sklearn.linear_model import LinearRegression, Ridge, Lasso"
   ]
  },
  {
   "cell_type": "code",
   "execution_count": 109,
   "metadata": {},
   "outputs": [],
   "source": [
    "models = [RandomForestRegressor, GradientBoostingRegressor, LGBMRegressor, XGBRegressor, ExtraTreesRegressor, AdaBoostRegressor,\n",
    "          BaggingRegressor, SVR, LinearRegression, Ridge, Lasso]"
   ]
  },
  {
   "cell_type": "code",
   "execution_count": 110,
   "metadata": {},
   "outputs": [
    {
     "data": {
      "text/plain": [
       "Index(['Body fat (%)', 'Age (years)', 'Weight (lbs)', 'Height (inches)',\n",
       "       'Neck (cm)', 'Chest (cm)', 'Abdomen (cm)', 'Hip (cm)', 'Thigh (cm)',\n",
       "       'Knee (cm)', 'Ankle (cm)', 'Biceps (cm)', 'Forearm (cm)', 'Wrist (cm)',\n",
       "       'height_to_weight_ratio', 'chest_to_hip_ratio', 'age_to_weight_ratio',\n",
       "       'knee_to_thigh_ratio', 'chest_to_abdomen_ratio',\n",
       "       'Height (inches)_Weight (lbs)_ratio'],\n",
       "      dtype='object')"
      ]
     },
     "execution_count": 110,
     "metadata": {},
     "output_type": "execute_result"
    }
   ],
   "source": [
    "train_df.columns"
   ]
  },
  {
   "cell_type": "code",
   "execution_count": 117,
   "metadata": {},
   "outputs": [],
   "source": [
    "columns_to_train = [ \"Height (inches)\", \"Age (years)\",\n",
    "                    \"Abdomen (cm)\", \"Neck (cm)\", \"Weight (lbs)\", 'Chest (cm)',\n",
    "                    'chest_to_abdomen_ratio', 'chest_to_hip_ratio', 'height_to_weight_ratio'\n",
    "                    \n",
    "                   ]"
   ]
  },
  {
   "cell_type": "code",
   "execution_count": 132,
   "metadata": {},
   "outputs": [],
   "source": [
    "columns_to_train = ['Age (years)', 'Weight (lbs)', 'Height (inches)',\n",
    "       'Neck (cm)', 'Chest (cm)', 'Abdomen (cm)', 'Hip (cm)', 'Thigh (cm)',\n",
    "       'Knee (cm)', 'Ankle (cm)', 'Biceps (cm)', 'Forearm (cm)', 'Wrist (cm)',\n",
    "       'height_to_weight_ratio', 'chest_to_hip_ratio', 'age_to_weight_ratio',\n",
    "       'knee_to_thigh_ratio', 'chest_to_abdomen_ratio',\n",
    "       'Height (inches)_Weight (lbs)_ratio']"
   ]
  },
  {
   "cell_type": "code",
   "execution_count": 136,
   "metadata": {},
   "outputs": [],
   "source": [
    "columns_to_train = ['Age (years)', 'Weight (lbs)', 'Height (inches)',\n",
    "       'Neck (cm)', 'Chest (cm)', 'Abdomen (cm)', 'Hip (cm)', 'Thigh (cm)',\n",
    "       'Knee (cm)', 'Ankle (cm)', 'Biceps (cm)', 'Forearm (cm)', 'Wrist (cm)']"
   ]
  },
  {
   "cell_type": "code",
   "execution_count": 137,
   "metadata": {},
   "outputs": [],
   "source": [
    "from sklearn.metrics import mean_squared_error, mean_squared_log_error"
   ]
  },
  {
   "cell_type": "code",
   "execution_count": 240,
   "metadata": {},
   "outputs": [
    {
     "name": "stdout",
     "output_type": "stream",
     "text": [
      "Training RandomForestRegressor\n",
      "r2: 0.33241287697940347, msle: 0, mas: 4.459512195121951, RandomForestRegressor\n",
      "Training GradientBoostingRegressor\n",
      "r2: 0.2763960782212731, msle: 0, mas: 4.577256312483618, GradientBoostingRegressor\n",
      "Training LGBMRegressor\n",
      "r2: 0.29812072681554636, msle: 0, mas: 4.345799266490323, LGBMRegressor\n",
      "Training XGBRegressor\n",
      "r2: 0.26489513716879864, msle: 0, mas: 4.6001686445096635, XGBRegressor\n",
      "Training ExtraTreesRegressor\n",
      "r2: 0.1277882647169668, msle: 0, mas: 4.672926829268293, ExtraTreesRegressor\n",
      "Training AdaBoostRegressor\n",
      "r2: 0.3240344058581708, msle: 0, mas: 4.132155420844098, AdaBoostRegressor\n",
      "Training BaggingRegressor\n",
      "r2: 0.03950678251745887, msle: 0, mas: 4.727073170731706, BaggingRegressor\n",
      "Training SVR\n",
      "r2: -29.703273929085725, msle: 0, mas: 6.425258991322019, SVR\n",
      "Training LinearRegression\n",
      "r2: 0.5713024740606394, msle: 0, mas: 4.507937920995569, LinearRegression\n",
      "Training Ridge\n",
      "r2: 0.5242041761102776, msle: 0, mas: 3.7657659503474097, Ridge\n",
      "Training Lasso\n",
      "r2: 0.31812467095488295, msle: 0, mas: 4.090490627898643, Lasso\n"
     ]
    }
   ],
   "source": [
    "train_X, test_X, train_y, test_y = train_test_split(train_processed, target, random_state=42, test_size=0.2)\n",
    "d = {}\n",
    "for model in models:\n",
    "    print(f\"Training {str(model).split('.')[-1][:-2]}\")\n",
    "    d[model] = model()\n",
    "    d[model].fit(train_X, train_y)\n",
    "    pred = d[model].predict(test_X)\n",
    "    r2 = r2_score(pred, test_y)\n",
    "    mas = mean_absolute_error(pred, test_y)\n",
    "    msle=0\n",
    "#     msle = mean_squared_log_error(pred, test_y)\n",
    "    print(f\"r2: {r2}, msle: {msle}, mas: {mas}, {str(model).split('.')[-1][:-2]}\")\n",
    "    d[model] = [d[model], r2, mas]\n",
    "    "
   ]
  },
  {
   "cell_type": "code",
   "execution_count": 77,
   "metadata": {},
   "outputs": [],
   "source": [
    "lass = d[Lasso][0]"
   ]
  },
  {
   "cell_type": "code",
   "execution_count": 79,
   "metadata": {},
   "outputs": [],
   "source": [
    "pred = lass.predict(test_df[test_cols])"
   ]
  },
  {
   "cell_type": "code",
   "execution_count": 80,
   "metadata": {},
   "outputs": [
    {
     "data": {
      "text/plain": [
       "array([18.71114, 13.37079, 17.97995, 22.56774, 17.02852, 26.52329, 17.53004, 20.15055, 16.71987, 11.72605,\n",
       "       28.56292, 21.36022, 39.26842, 14.46475, 23.87703, 22.98661, 14.04654, 17.73614, 15.9213 , 17.12507,\n",
       "       31.87368, 22.57652, 19.07651, 23.22365, 15.77502, 14.10424, 14.76172, 15.76243,  7.159  , 10.40154,\n",
       "       33.26389, 27.0539 , 19.05605, 11.10059, 30.74813,  8.95322, 14.9821 , 21.48714, 25.82672, 28.14255,\n",
       "       19.46064, 28.81924, 16.50755, 15.14007, 16.77633, 16.42947,  8.30124, 19.66233, 33.8028 , 20.18578,\n",
       "       22.59525])"
      ]
     },
     "execution_count": 80,
     "metadata": {},
     "output_type": "execute_result"
    }
   ],
   "source": [
    "pred"
   ]
  },
  {
   "cell_type": "code",
   "execution_count": 81,
   "metadata": {},
   "outputs": [],
   "source": [
    "subm_df = pd.read_csv(\"../data/raw/kaggle_solution_template.csv\")"
   ]
  },
  {
   "cell_type": "code",
   "execution_count": 83,
   "metadata": {},
   "outputs": [
    {
     "data": {
      "text/html": [
       "<div>\n",
       "<style scoped>\n",
       "    .dataframe tbody tr th:only-of-type {\n",
       "        vertical-align: middle;\n",
       "    }\n",
       "\n",
       "    .dataframe tbody tr th {\n",
       "        vertical-align: top;\n",
       "    }\n",
       "\n",
       "    .dataframe thead th {\n",
       "        text-align: right;\n",
       "    }\n",
       "</style>\n",
       "<table border=\"1\" class=\"dataframe\">\n",
       "  <thead>\n",
       "    <tr style=\"text-align: right;\">\n",
       "      <th></th>\n",
       "      <th>Id</th>\n",
       "      <th>Body fat(%)</th>\n",
       "    </tr>\n",
       "  </thead>\n",
       "  <tbody>\n",
       "    <tr>\n",
       "      <th>0</th>\n",
       "      <td>0</td>\n",
       "      <td>NaN</td>\n",
       "    </tr>\n",
       "    <tr>\n",
       "      <th>1</th>\n",
       "      <td>1</td>\n",
       "      <td>NaN</td>\n",
       "    </tr>\n",
       "    <tr>\n",
       "      <th>2</th>\n",
       "      <td>2</td>\n",
       "      <td>NaN</td>\n",
       "    </tr>\n",
       "    <tr>\n",
       "      <th>3</th>\n",
       "      <td>3</td>\n",
       "      <td>NaN</td>\n",
       "    </tr>\n",
       "    <tr>\n",
       "      <th>4</th>\n",
       "      <td>4</td>\n",
       "      <td>NaN</td>\n",
       "    </tr>\n",
       "  </tbody>\n",
       "</table>\n",
       "</div>"
      ],
      "text/plain": [
       "   Id  Body fat(%)\n",
       "0   0          NaN\n",
       "1   1          NaN\n",
       "2   2          NaN\n",
       "3   3          NaN\n",
       "4   4          NaN"
      ]
     },
     "execution_count": 83,
     "metadata": {},
     "output_type": "execute_result"
    }
   ],
   "source": [
    "subm_df.head()"
   ]
  },
  {
   "cell_type": "code",
   "execution_count": 84,
   "metadata": {},
   "outputs": [],
   "source": [
    "subm_df[\"Body fat(%)\"] = pred"
   ]
  },
  {
   "cell_type": "code",
   "execution_count": 86,
   "metadata": {},
   "outputs": [
    {
     "data": {
      "text/html": [
       "<div>\n",
       "<style scoped>\n",
       "    .dataframe tbody tr th:only-of-type {\n",
       "        vertical-align: middle;\n",
       "    }\n",
       "\n",
       "    .dataframe tbody tr th {\n",
       "        vertical-align: top;\n",
       "    }\n",
       "\n",
       "    .dataframe thead th {\n",
       "        text-align: right;\n",
       "    }\n",
       "</style>\n",
       "<table border=\"1\" class=\"dataframe\">\n",
       "  <thead>\n",
       "    <tr style=\"text-align: right;\">\n",
       "      <th></th>\n",
       "      <th>Id</th>\n",
       "      <th>Body fat(%)</th>\n",
       "    </tr>\n",
       "  </thead>\n",
       "  <tbody>\n",
       "    <tr>\n",
       "      <th>0</th>\n",
       "      <td>0</td>\n",
       "      <td>18.711142</td>\n",
       "    </tr>\n",
       "    <tr>\n",
       "      <th>1</th>\n",
       "      <td>1</td>\n",
       "      <td>13.370788</td>\n",
       "    </tr>\n",
       "    <tr>\n",
       "      <th>2</th>\n",
       "      <td>2</td>\n",
       "      <td>17.979951</td>\n",
       "    </tr>\n",
       "    <tr>\n",
       "      <th>3</th>\n",
       "      <td>3</td>\n",
       "      <td>22.567740</td>\n",
       "    </tr>\n",
       "    <tr>\n",
       "      <th>4</th>\n",
       "      <td>4</td>\n",
       "      <td>17.028521</td>\n",
       "    </tr>\n",
       "  </tbody>\n",
       "</table>\n",
       "</div>"
      ],
      "text/plain": [
       "   Id  Body fat(%)\n",
       "0   0    18.711142\n",
       "1   1    13.370788\n",
       "2   2    17.979951\n",
       "3   3    22.567740\n",
       "4   4    17.028521"
      ]
     },
     "execution_count": 86,
     "metadata": {},
     "output_type": "execute_result"
    }
   ],
   "source": [
    "subm_df.head()"
   ]
  },
  {
   "cell_type": "code",
   "execution_count": 88,
   "metadata": {},
   "outputs": [],
   "source": [
    "subm_df.to_csv(\"../data/raw/submission.csv\", index=None)"
   ]
  },
  {
   "cell_type": "code",
   "execution_count": 182,
   "metadata": {},
   "outputs": [],
   "source": [
    "model = RandomForestRegressor(n_estimators=100, max_depth=4, max_features=0.5)"
   ]
  },
  {
   "cell_type": "code",
   "execution_count": 183,
   "metadata": {},
   "outputs": [
    {
     "data": {
      "text/plain": [
       "RandomForestRegressor(bootstrap=True, criterion='mse', max_depth=4,\n",
       "           max_features=0.5, max_leaf_nodes=None,\n",
       "           min_impurity_decrease=0.0, min_impurity_split=None,\n",
       "           min_samples_leaf=1, min_samples_split=2,\n",
       "           min_weight_fraction_leaf=0.0, n_estimators=100, n_jobs=None,\n",
       "           oob_score=False, random_state=None, verbose=0, warm_start=False)"
      ]
     },
     "execution_count": 183,
     "metadata": {},
     "output_type": "execute_result"
    }
   ],
   "source": [
    "model.fit(train_X, train_y)"
   ]
  },
  {
   "cell_type": "code",
   "execution_count": 184,
   "metadata": {},
   "outputs": [
    {
     "data": {
      "text/plain": [
       "3.934616612132436"
      ]
     },
     "execution_count": 184,
     "metadata": {},
     "output_type": "execute_result"
    }
   ],
   "source": [
    "mean_absolute_error(model.predict(test_X), test_y)"
   ]
  },
  {
   "cell_type": "code",
   "execution_count": 185,
   "metadata": {},
   "outputs": [
    {
     "data": {
      "image/svg+xml": [
       "<?xml version=\"1.0\" encoding=\"UTF-8\" standalone=\"no\"?>\n",
       "<!DOCTYPE svg PUBLIC \"-//W3C//DTD SVG 1.1//EN\"\n",
       " \"http://www.w3.org/Graphics/SVG/1.1/DTD/svg11.dtd\">\n",
       "<!-- Generated by graphviz version 2.40.1 (20161225.0304)\n",
       " -->\n",
       "<!-- Title: Tree Pages: 1 -->\n",
       "<svg width=\"720pt\" height=\"433pt\"\n",
       " viewBox=\"0.00 0.00 720.00 433.08\" xmlns=\"http://www.w3.org/2000/svg\" xmlns:xlink=\"http://www.w3.org/1999/xlink\">\n",
       "<g id=\"graph0\" class=\"graph\" transform=\"scale(.4017 .4017) rotate(0) translate(4 1074)\">\n",
       "<title>Tree</title>\n",
       "<polygon fill=\"#ffffff\" stroke=\"transparent\" points=\"-4,4 -4,-1074 1788.2058,-1074 1788.2058,4 -4,4\"/>\n",
       "<!-- 0 -->\n",
       "<g id=\"node1\" class=\"node\">\n",
       "<title>0</title>\n",
       "<polygon fill=\"#e58139\" fill-opacity=\"0.349020\" stroke=\"#000000\" points=\"336.5037,-608 87.9078,-608 87.9078,-544 336.5037,-544 336.5037,-608\"/>\n",
       "<text text-anchor=\"start\" x=\"95.8068\" y=\"-592.8\" font-family=\"Times,serif\" font-size=\"14.00\" fill=\"#000000\">Chest (cm)_Abdomen (cm)_ratio ≤ 1.096</text>\n",
       "<text text-anchor=\"start\" x=\"174.2321\" y=\"-578.8\" font-family=\"Times,serif\" font-size=\"14.00\" fill=\"#000000\">mse = 64.275</text>\n",
       "<text text-anchor=\"start\" x=\"175.2063\" y=\"-564.8\" font-family=\"Times,serif\" font-size=\"14.00\" fill=\"#000000\">samples = 98</text>\n",
       "<text text-anchor=\"start\" x=\"170.3493\" y=\"-550.8\" font-family=\"Times,serif\" font-size=\"14.00\" fill=\"#000000\">value = 20.001</text>\n",
       "</g>\n",
       "<!-- 1 -->\n",
       "<g id=\"node2\" class=\"node\">\n",
       "<title>1</title>\n",
       "<polygon fill=\"#e58139\" fill-opacity=\"0.454902\" stroke=\"#000000\" points=\"686.0313,-703 538.3802,-703 538.3802,-639 686.0313,-639 686.0313,-703\"/>\n",
       "<text text-anchor=\"start\" x=\"546.5432\" y=\"-687.8\" font-family=\"Times,serif\" font-size=\"14.00\" fill=\"#000000\">Abdomen (cm) ≤ 103.6</text>\n",
       "<text text-anchor=\"start\" x=\"574.2321\" y=\"-673.8\" font-family=\"Times,serif\" font-size=\"14.00\" fill=\"#000000\">mse = 34.978</text>\n",
       "<text text-anchor=\"start\" x=\"575.2063\" y=\"-659.8\" font-family=\"Times,serif\" font-size=\"14.00\" fill=\"#000000\">samples = 54</text>\n",
       "<text text-anchor=\"start\" x=\"570.3493\" y=\"-645.8\" font-family=\"Times,serif\" font-size=\"14.00\" fill=\"#000000\">value = 24.488</text>\n",
       "</g>\n",
       "<!-- 0&#45;&gt;1 -->\n",
       "<g id=\"edge1\" class=\"edge\">\n",
       "<title>0&#45;&gt;1</title>\n",
       "<path fill=\"none\" stroke=\"#000000\" d=\"M336.5756,-605.5378C398.992,-620.3617 472.9334,-637.9228 528.5111,-651.1225\"/>\n",
       "<polygon fill=\"#000000\" stroke=\"#000000\" points=\"527.7788,-654.5459 538.3169,-653.4514 529.3963,-647.7353 527.7788,-654.5459\"/>\n",
       "<text text-anchor=\"middle\" x=\"517.0329\" y=\"-662.3658\" font-family=\"Times,serif\" font-size=\"14.00\" fill=\"#000000\">True</text>\n",
       "</g>\n",
       "<!-- 16 -->\n",
       "<g id=\"node17\" class=\"node\">\n",
       "<title>16</title>\n",
       "<polygon fill=\"#e58139\" fill-opacity=\"0.207843\" stroke=\"#000000\" points=\"682.5313,-431 541.8802,-431 541.8802,-367 682.5313,-367 682.5313,-431\"/>\n",
       "<text text-anchor=\"start\" x=\"550.0432\" y=\"-415.8\" font-family=\"Times,serif\" font-size=\"14.00\" fill=\"#000000\">Abdomen (cm) ≤ 89.3</text>\n",
       "<text text-anchor=\"start\" x=\"574.2321\" y=\"-401.8\" font-family=\"Times,serif\" font-size=\"14.00\" fill=\"#000000\">mse = 40.214</text>\n",
       "<text text-anchor=\"start\" x=\"575.2063\" y=\"-387.8\" font-family=\"Times,serif\" font-size=\"14.00\" fill=\"#000000\">samples = 44</text>\n",
       "<text text-anchor=\"start\" x=\"573.8493\" y=\"-373.8\" font-family=\"Times,serif\" font-size=\"14.00\" fill=\"#000000\">value = 13.97</text>\n",
       "</g>\n",
       "<!-- 0&#45;&gt;16 -->\n",
       "<g id=\"edge16\" class=\"edge\">\n",
       "<title>0&#45;&gt;16</title>\n",
       "<path fill=\"none\" stroke=\"#000000\" d=\"M284.6428,-543.9466C354.5599,-513.0083 460.1734,-466.2743 532.4565,-434.2891\"/>\n",
       "<polygon fill=\"#000000\" stroke=\"#000000\" points=\"534.2563,-437.32 541.9847,-430.0728 531.4237,-430.9187 534.2563,-437.32\"/>\n",
       "<text text-anchor=\"middle\" x=\"518.6657\" y=\"-416.8604\" font-family=\"Times,serif\" font-size=\"14.00\" fill=\"#000000\">False</text>\n",
       "</g>\n",
       "<!-- 2 -->\n",
       "<g id=\"node3\" class=\"node\">\n",
       "<title>2</title>\n",
       "<polygon fill=\"#e58139\" fill-opacity=\"0.388235\" stroke=\"#000000\" points=\"1007.0313,-900 859.3802,-900 859.3802,-836 1007.0313,-836 1007.0313,-900\"/>\n",
       "<text text-anchor=\"start\" x=\"867.5432\" y=\"-884.8\" font-family=\"Times,serif\" font-size=\"14.00\" fill=\"#000000\">Abdomen (cm) ≤ 93.15</text>\n",
       "<text text-anchor=\"start\" x=\"898.7321\" y=\"-870.8\" font-family=\"Times,serif\" font-size=\"14.00\" fill=\"#000000\">mse = 15.63</text>\n",
       "<text text-anchor=\"start\" x=\"896.2063\" y=\"-856.8\" font-family=\"Times,serif\" font-size=\"14.00\" fill=\"#000000\">samples = 38</text>\n",
       "<text text-anchor=\"start\" x=\"891.3493\" y=\"-842.8\" font-family=\"Times,serif\" font-size=\"14.00\" fill=\"#000000\">value = 21.722</text>\n",
       "</g>\n",
       "<!-- 1&#45;&gt;2 -->\n",
       "<g id=\"edge2\" class=\"edge\">\n",
       "<title>1&#45;&gt;2</title>\n",
       "<path fill=\"none\" stroke=\"#000000\" d=\"M664.4944,-703.0899C721.3883,-738.0061 812.2387,-793.7616 872.3079,-830.6265\"/>\n",
       "<polygon fill=\"#000000\" stroke=\"#000000\" points=\"870.5858,-833.6762 880.9395,-835.9238 874.2473,-827.7101 870.5858,-833.6762\"/>\n",
       "</g>\n",
       "<!-- 9 -->\n",
       "<g id=\"node10\" class=\"node\">\n",
       "<title>9</title>\n",
       "<polygon fill=\"#e58139\" fill-opacity=\"0.592157\" stroke=\"#000000\" points=\"1006.5184,-703 859.8932,-703 859.8932,-639 1006.5184,-639 1006.5184,-703\"/>\n",
       "<text text-anchor=\"start\" x=\"867.7995\" y=\"-687.8\" font-family=\"Times,serif\" font-size=\"14.00\" fill=\"#000000\">Abdomen (cm) ≤ 112.6</text>\n",
       "<text text-anchor=\"start\" x=\"895.2321\" y=\"-673.8\" font-family=\"Times,serif\" font-size=\"14.00\" fill=\"#000000\">mse = 26.384</text>\n",
       "<text text-anchor=\"start\" x=\"896.2063\" y=\"-659.8\" font-family=\"Times,serif\" font-size=\"14.00\" fill=\"#000000\">samples = 16</text>\n",
       "<text text-anchor=\"start\" x=\"891.3493\" y=\"-645.8\" font-family=\"Times,serif\" font-size=\"14.00\" fill=\"#000000\">value = 30.218</text>\n",
       "</g>\n",
       "<!-- 1&#45;&gt;9 -->\n",
       "<g id=\"edge9\" class=\"edge\">\n",
       "<title>1&#45;&gt;9</title>\n",
       "<path fill=\"none\" stroke=\"#000000\" d=\"M686.2527,-671C735.0143,-671 798.9506,-671 849.5497,-671\"/>\n",
       "<polygon fill=\"#000000\" stroke=\"#000000\" points=\"849.8084,-674.5001 859.8083,-671 849.8083,-667.5001 849.8084,-674.5001\"/>\n",
       "</g>\n",
       "<!-- 3 -->\n",
       "<g id=\"node4\" class=\"node\">\n",
       "<title>3</title>\n",
       "<polygon fill=\"#e58139\" fill-opacity=\"0.341176\" stroke=\"#000000\" points=\"1409.6449,-1009 1270.7666,-1009 1270.7666,-945 1409.6449,-945 1409.6449,-1009\"/>\n",
       "<text text-anchor=\"start\" x=\"1278.9865\" y=\"-993.8\" font-family=\"Times,serif\" font-size=\"14.00\" fill=\"#000000\">Weight (lbs) ≤ 155.25</text>\n",
       "<text text-anchor=\"start\" x=\"1302.2321\" y=\"-979.8\" font-family=\"Times,serif\" font-size=\"14.00\" fill=\"#000000\">mse = 10.973</text>\n",
       "<text text-anchor=\"start\" x=\"1303.2063\" y=\"-965.8\" font-family=\"Times,serif\" font-size=\"14.00\" fill=\"#000000\">samples = 15</text>\n",
       "<text text-anchor=\"start\" x=\"1298.3493\" y=\"-951.8\" font-family=\"Times,serif\" font-size=\"14.00\" fill=\"#000000\">value = 19.667</text>\n",
       "</g>\n",
       "<!-- 2&#45;&gt;3 -->\n",
       "<g id=\"edge3\" class=\"edge\">\n",
       "<title>2&#45;&gt;3</title>\n",
       "<path fill=\"none\" stroke=\"#000000\" d=\"M1006.9104,-887.7391C1078.7087,-906.9676 1187.5029,-936.1042 1261.0919,-955.8123\"/>\n",
       "<polygon fill=\"#000000\" stroke=\"#000000\" points=\"1260.2194,-959.2019 1270.7845,-958.4081 1262.0304,-952.4402 1260.2194,-959.2019\"/>\n",
       "</g>\n",
       "<!-- 6 -->\n",
       "<g id=\"node7\" class=\"node\">\n",
       "<title>6</title>\n",
       "<polygon fill=\"#e58139\" fill-opacity=\"0.431373\" stroke=\"#000000\" points=\"1396.8172,-900 1283.5944,-900 1283.5944,-836 1396.8172,-836 1396.8172,-900\"/>\n",
       "<text text-anchor=\"start\" x=\"1291.6501\" y=\"-884.8\" font-family=\"Times,serif\" font-size=\"14.00\" fill=\"#000000\">Hip (cm) ≤ 106.7</text>\n",
       "<text text-anchor=\"start\" x=\"1302.2321\" y=\"-870.8\" font-family=\"Times,serif\" font-size=\"14.00\" fill=\"#000000\">mse = 12.799</text>\n",
       "<text text-anchor=\"start\" x=\"1303.2063\" y=\"-856.8\" font-family=\"Times,serif\" font-size=\"14.00\" fill=\"#000000\">samples = 23</text>\n",
       "<text text-anchor=\"start\" x=\"1298.3493\" y=\"-842.8\" font-family=\"Times,serif\" font-size=\"14.00\" fill=\"#000000\">value = 23.513</text>\n",
       "</g>\n",
       "<!-- 2&#45;&gt;6 -->\n",
       "<g id=\"edge6\" class=\"edge\">\n",
       "<title>2&#45;&gt;6</title>\n",
       "<path fill=\"none\" stroke=\"#000000\" d=\"M1006.9104,-868C1082.8285,-868 1200.1099,-868 1273.3981,-868\"/>\n",
       "<polygon fill=\"#000000\" stroke=\"#000000\" points=\"1273.4386,-871.5001 1283.4385,-868 1273.4385,-864.5001 1273.4386,-871.5001\"/>\n",
       "</g>\n",
       "<!-- 4 -->\n",
       "<g id=\"node5\" class=\"node\">\n",
       "<title>4</title>\n",
       "<polygon fill=\"#e58139\" fill-opacity=\"0.427451\" stroke=\"#000000\" points=\"1748.9191,-1070 1649.4925,-1070 1649.4925,-1020 1748.9191,-1020 1748.9191,-1070\"/>\n",
       "<text text-anchor=\"start\" x=\"1664.7321\" y=\"-1054.8\" font-family=\"Times,serif\" font-size=\"14.00\" fill=\"#000000\">mse = 3.968</text>\n",
       "<text text-anchor=\"start\" x=\"1665.7063\" y=\"-1040.8\" font-family=\"Times,serif\" font-size=\"14.00\" fill=\"#000000\">samples = 4</text>\n",
       "<text text-anchor=\"start\" x=\"1657.3493\" y=\"-1026.8\" font-family=\"Times,serif\" font-size=\"14.00\" fill=\"#000000\">value = 23.317</text>\n",
       "</g>\n",
       "<!-- 3&#45;&gt;4 -->\n",
       "<g id=\"edge4\" class=\"edge\">\n",
       "<title>3&#45;&gt;4</title>\n",
       "<path fill=\"none\" stroke=\"#000000\" d=\"M1409.8503,-990.1917C1476.4876,-1002.8138 1575.9456,-1021.6527 1639.1764,-1033.6295\"/>\n",
       "<polygon fill=\"#000000\" stroke=\"#000000\" points=\"1638.9111,-1037.1415 1649.3878,-1035.5637 1640.2139,-1030.2637 1638.9111,-1037.1415\"/>\n",
       "</g>\n",
       "<!-- 5 -->\n",
       "<g id=\"node6\" class=\"node\">\n",
       "<title>5</title>\n",
       "<polygon fill=\"#e58139\" fill-opacity=\"0.317647\" stroke=\"#000000\" points=\"1748.9191,-1002 1649.4925,-1002 1649.4925,-952 1748.9191,-952 1748.9191,-1002\"/>\n",
       "<text text-anchor=\"start\" x=\"1668.2321\" y=\"-986.8\" font-family=\"Times,serif\" font-size=\"14.00\" fill=\"#000000\">mse = 8.08</text>\n",
       "<text text-anchor=\"start\" x=\"1662.4626\" y=\"-972.8\" font-family=\"Times,serif\" font-size=\"14.00\" fill=\"#000000\">samples = 11</text>\n",
       "<text text-anchor=\"start\" x=\"1657.3493\" y=\"-958.8\" font-family=\"Times,serif\" font-size=\"14.00\" fill=\"#000000\">value = 18.624</text>\n",
       "</g>\n",
       "<!-- 3&#45;&gt;5 -->\n",
       "<g id=\"edge5\" class=\"edge\">\n",
       "<title>3&#45;&gt;5</title>\n",
       "<path fill=\"none\" stroke=\"#000000\" d=\"M1409.8503,-977C1476.4876,-977 1575.9456,-977 1639.1764,-977\"/>\n",
       "<polygon fill=\"#000000\" stroke=\"#000000\" points=\"1639.3879,-980.5001 1649.3878,-977 1639.3878,-973.5001 1639.3879,-980.5001\"/>\n",
       "</g>\n",
       "<!-- 7 -->\n",
       "<g id=\"node8\" class=\"node\">\n",
       "<title>7</title>\n",
       "<polygon fill=\"#e58139\" fill-opacity=\"0.458824\" stroke=\"#000000\" points=\"1748.9191,-934 1649.4925,-934 1649.4925,-884 1748.9191,-884 1748.9191,-934\"/>\n",
       "<text text-anchor=\"start\" x=\"1664.7321\" y=\"-918.8\" font-family=\"Times,serif\" font-size=\"14.00\" fill=\"#000000\">mse = 9.822</text>\n",
       "<text text-anchor=\"start\" x=\"1662.2063\" y=\"-904.8\" font-family=\"Times,serif\" font-size=\"14.00\" fill=\"#000000\">samples = 18</text>\n",
       "<text text-anchor=\"start\" x=\"1657.3493\" y=\"-890.8\" font-family=\"Times,serif\" font-size=\"14.00\" fill=\"#000000\">value = 24.692</text>\n",
       "</g>\n",
       "<!-- 6&#45;&gt;7 -->\n",
       "<g id=\"edge7\" class=\"edge\">\n",
       "<title>6&#45;&gt;7</title>\n",
       "<path fill=\"none\" stroke=\"#000000\" d=\"M1397.0904,-874.4966C1463.1926,-882.0459 1571.7905,-894.4484 1639.1979,-902.1467\"/>\n",
       "<polygon fill=\"#000000\" stroke=\"#000000\" points=\"1638.9093,-905.6364 1649.2419,-903.2938 1639.7037,-898.6817 1638.9093,-905.6364\"/>\n",
       "</g>\n",
       "<!-- 8 -->\n",
       "<g id=\"node9\" class=\"node\">\n",
       "<title>8</title>\n",
       "<polygon fill=\"#e58139\" fill-opacity=\"0.337255\" stroke=\"#000000\" points=\"1748.9191,-866 1649.4925,-866 1649.4925,-816 1748.9191,-816 1748.9191,-866\"/>\n",
       "<text text-anchor=\"start\" x=\"1664.7321\" y=\"-850.8\" font-family=\"Times,serif\" font-size=\"14.00\" fill=\"#000000\">mse = 1.908</text>\n",
       "<text text-anchor=\"start\" x=\"1665.7063\" y=\"-836.8\" font-family=\"Times,serif\" font-size=\"14.00\" fill=\"#000000\">samples = 5</text>\n",
       "<text text-anchor=\"start\" x=\"1657.3493\" y=\"-822.8\" font-family=\"Times,serif\" font-size=\"14.00\" fill=\"#000000\">value = 19.471</text>\n",
       "</g>\n",
       "<!-- 6&#45;&gt;8 -->\n",
       "<g id=\"edge8\" class=\"edge\">\n",
       "<title>6&#45;&gt;8</title>\n",
       "<path fill=\"none\" stroke=\"#000000\" d=\"M1397.0904,-863.7218C1463.1926,-858.7503 1571.7905,-850.5828 1639.1979,-845.5131\"/>\n",
       "<polygon fill=\"#000000\" stroke=\"#000000\" points=\"1639.5326,-848.9979 1649.2419,-844.7577 1639.0075,-842.0176 1639.5326,-848.9979\"/>\n",
       "</g>\n",
       "<!-- 10 -->\n",
       "<g id=\"node11\" class=\"node\">\n",
       "<title>10</title>\n",
       "<polygon fill=\"#e58139\" fill-opacity=\"0.549020\" stroke=\"#000000\" points=\"1414.5828,-744 1265.8288,-744 1265.8288,-680 1414.5828,-680 1414.5828,-744\"/>\n",
       "<text text-anchor=\"start\" x=\"1273.7673\" y=\"-728.8\" font-family=\"Times,serif\" font-size=\"14.00\" fill=\"#000000\">Height (inches) ≤ 71.75</text>\n",
       "<text text-anchor=\"start\" x=\"1305.7321\" y=\"-714.8\" font-family=\"Times,serif\" font-size=\"14.00\" fill=\"#000000\">mse = 8.968</text>\n",
       "<text text-anchor=\"start\" x=\"1303.2063\" y=\"-700.8\" font-family=\"Times,serif\" font-size=\"14.00\" fill=\"#000000\">samples = 12</text>\n",
       "<text text-anchor=\"start\" x=\"1298.3493\" y=\"-686.8\" font-family=\"Times,serif\" font-size=\"14.00\" fill=\"#000000\">value = 28.417</text>\n",
       "</g>\n",
       "<!-- 9&#45;&gt;10 -->\n",
       "<g id=\"edge10\" class=\"edge\">\n",
       "<title>9&#45;&gt;10</title>\n",
       "<path fill=\"none\" stroke=\"#000000\" d=\"M1006.9104,-678.4248C1076.9213,-685.4775 1182.109,-696.0738 1255.5316,-703.4702\"/>\n",
       "<polygon fill=\"#000000\" stroke=\"#000000\" points=\"1255.3736,-706.9719 1265.6741,-704.4919 1256.0753,-700.0071 1255.3736,-706.9719\"/>\n",
       "</g>\n",
       "<!-- 13 -->\n",
       "<g id=\"node14\" class=\"node\">\n",
       "<title>13</title>\n",
       "<polygon fill=\"#e58139\" fill-opacity=\"0.788235\" stroke=\"#000000\" points=\"1418.0828,-662 1262.3288,-662 1262.3288,-598 1418.0828,-598 1418.0828,-662\"/>\n",
       "<text text-anchor=\"start\" x=\"1270.2673\" y=\"-646.8\" font-family=\"Times,serif\" font-size=\"14.00\" fill=\"#000000\">Height (inches) ≤ 66.375</text>\n",
       "<text text-anchor=\"start\" x=\"1302.2321\" y=\"-632.8\" font-family=\"Times,serif\" font-size=\"14.00\" fill=\"#000000\">mse = 22.992</text>\n",
       "<text text-anchor=\"start\" x=\"1306.7063\" y=\"-618.8\" font-family=\"Times,serif\" font-size=\"14.00\" fill=\"#000000\">samples = 4</text>\n",
       "<text text-anchor=\"start\" x=\"1305.3493\" y=\"-604.8\" font-family=\"Times,serif\" font-size=\"14.00\" fill=\"#000000\">value = 38.5</text>\n",
       "</g>\n",
       "<!-- 9&#45;&gt;13 -->\n",
       "<g id=\"edge13\" class=\"edge\">\n",
       "<title>9&#45;&gt;13</title>\n",
       "<path fill=\"none\" stroke=\"#000000\" d=\"M1006.9104,-663.5752C1075.8274,-656.6327 1178.8305,-646.2565 1252.067,-638.8788\"/>\n",
       "<polygon fill=\"#000000\" stroke=\"#000000\" points=\"1252.5979,-642.3432 1262.1967,-637.8584 1251.8963,-635.3784 1252.5979,-642.3432\"/>\n",
       "</g>\n",
       "<!-- 11 -->\n",
       "<g id=\"node12\" class=\"node\">\n",
       "<title>11</title>\n",
       "<polygon fill=\"#e58139\" fill-opacity=\"0.615686\" stroke=\"#000000\" points=\"1748.9191,-798 1649.4925,-798 1649.4925,-748 1748.9191,-748 1748.9191,-798\"/>\n",
       "<text text-anchor=\"start\" x=\"1664.7321\" y=\"-782.8\" font-family=\"Times,serif\" font-size=\"14.00\" fill=\"#000000\">mse = 2.306</text>\n",
       "<text text-anchor=\"start\" x=\"1665.7063\" y=\"-768.8\" font-family=\"Times,serif\" font-size=\"14.00\" fill=\"#000000\">samples = 6</text>\n",
       "<text text-anchor=\"start\" x=\"1657.3493\" y=\"-754.8\" font-family=\"Times,serif\" font-size=\"14.00\" fill=\"#000000\">value = 31.255</text>\n",
       "</g>\n",
       "<!-- 10&#45;&gt;11 -->\n",
       "<g id=\"edge11\" class=\"edge\">\n",
       "<title>10&#45;&gt;11</title>\n",
       "<path fill=\"none\" stroke=\"#000000\" d=\"M1414.5908,-724.6392C1481.2232,-735.9612 1577.6931,-752.353 1639.4309,-762.8433\"/>\n",
       "<polygon fill=\"#000000\" stroke=\"#000000\" points=\"1638.9627,-766.3138 1649.4077,-764.5385 1640.1354,-759.4127 1638.9627,-766.3138\"/>\n",
       "</g>\n",
       "<!-- 12 -->\n",
       "<g id=\"node13\" class=\"node\">\n",
       "<title>12</title>\n",
       "<polygon fill=\"#e58139\" fill-opacity=\"0.486275\" stroke=\"#000000\" points=\"1748.9191,-730 1649.4925,-730 1649.4925,-680 1748.9191,-680 1748.9191,-730\"/>\n",
       "<text text-anchor=\"start\" x=\"1664.7321\" y=\"-714.8\" font-family=\"Times,serif\" font-size=\"14.00\" fill=\"#000000\">mse = 0.931</text>\n",
       "<text text-anchor=\"start\" x=\"1665.7063\" y=\"-700.8\" font-family=\"Times,serif\" font-size=\"14.00\" fill=\"#000000\">samples = 6</text>\n",
       "<text text-anchor=\"start\" x=\"1657.3493\" y=\"-686.8\" font-family=\"Times,serif\" font-size=\"14.00\" fill=\"#000000\">value = 25.817</text>\n",
       "</g>\n",
       "<!-- 10&#45;&gt;12 -->\n",
       "<g id=\"edge12\" class=\"edge\">\n",
       "<title>10&#45;&gt;12</title>\n",
       "<path fill=\"none\" stroke=\"#000000\" d=\"M1414.5908,-710.5496C1481.0858,-709.253 1577.2954,-707.3771 1639.0486,-706.173\"/>\n",
       "<polygon fill=\"#000000\" stroke=\"#000000\" points=\"1639.4779,-709.6654 1649.4077,-705.971 1639.3414,-702.6667 1639.4779,-709.6654\"/>\n",
       "</g>\n",
       "<!-- 14 -->\n",
       "<g id=\"node15\" class=\"node\">\n",
       "<title>14</title>\n",
       "<polygon fill=\"#e58139\" stroke=\"#000000\" points=\"1741.9191,-662 1656.4924,-662 1656.4924,-612 1741.9191,-612 1741.9191,-662\"/>\n",
       "<text text-anchor=\"start\" x=\"1671.7321\" y=\"-646.8\" font-family=\"Times,serif\" font-size=\"14.00\" fill=\"#000000\">mse = 0.0</text>\n",
       "<text text-anchor=\"start\" x=\"1665.7063\" y=\"-632.8\" font-family=\"Times,serif\" font-size=\"14.00\" fill=\"#000000\">samples = 1</text>\n",
       "<text text-anchor=\"start\" x=\"1664.3493\" y=\"-618.8\" font-family=\"Times,serif\" font-size=\"14.00\" fill=\"#000000\">value = 47.5</text>\n",
       "</g>\n",
       "<!-- 13&#45;&gt;14 -->\n",
       "<g id=\"edge14\" class=\"edge\">\n",
       "<title>13&#45;&gt;14</title>\n",
       "<path fill=\"none\" stroke=\"#000000\" d=\"M1418.1034,-631.5189C1487.1131,-632.8645 1585.9971,-634.7926 1646.224,-635.9669\"/>\n",
       "<polygon fill=\"#000000\" stroke=\"#000000\" points=\"1646.2089,-639.4672 1656.2753,-636.1629 1646.3454,-632.4685 1646.2089,-639.4672\"/>\n",
       "</g>\n",
       "<!-- 15 -->\n",
       "<g id=\"node16\" class=\"node\">\n",
       "<title>15</title>\n",
       "<polygon fill=\"#e58139\" fill-opacity=\"0.733333\" stroke=\"#000000\" points=\"1745.4191,-594 1652.9924,-594 1652.9924,-544 1745.4191,-544 1745.4191,-594\"/>\n",
       "<text text-anchor=\"start\" x=\"1664.7321\" y=\"-578.8\" font-family=\"Times,serif\" font-size=\"14.00\" fill=\"#000000\">mse = 3.428</text>\n",
       "<text text-anchor=\"start\" x=\"1665.7063\" y=\"-564.8\" font-family=\"Times,serif\" font-size=\"14.00\" fill=\"#000000\">samples = 3</text>\n",
       "<text text-anchor=\"start\" x=\"1660.8493\" y=\"-550.8\" font-family=\"Times,serif\" font-size=\"14.00\" fill=\"#000000\">value = 36.25</text>\n",
       "</g>\n",
       "<!-- 13&#45;&gt;15 -->\n",
       "<g id=\"edge15\" class=\"edge\">\n",
       "<title>13&#45;&gt;15</title>\n",
       "<path fill=\"none\" stroke=\"#000000\" d=\"M1418.1034,-616.7639C1485.846,-605.2533 1582.3759,-588.8513 1642.8678,-578.5727\"/>\n",
       "<polygon fill=\"#000000\" stroke=\"#000000\" points=\"1643.7196,-581.9783 1652.992,-576.8525 1642.547,-575.0772 1643.7196,-581.9783\"/>\n",
       "</g>\n",
       "<!-- 17 -->\n",
       "<g id=\"node18\" class=\"node\">\n",
       "<title>17</title>\n",
       "<polygon fill=\"#e58139\" fill-opacity=\"0.129412\" stroke=\"#000000\" points=\"998.4208,-431 867.9907,-431 867.9907,-367 998.4208,-367 998.4208,-431\"/>\n",
       "<text text-anchor=\"start\" x=\"876.0983\" y=\"-415.8\" font-family=\"Times,serif\" font-size=\"14.00\" fill=\"#000000\">Biceps (cm) ≤ 27.75</text>\n",
       "<text text-anchor=\"start\" x=\"895.2321\" y=\"-401.8\" font-family=\"Times,serif\" font-size=\"14.00\" fill=\"#000000\">mse = 22.461</text>\n",
       "<text text-anchor=\"start\" x=\"896.2063\" y=\"-387.8\" font-family=\"Times,serif\" font-size=\"14.00\" fill=\"#000000\">samples = 30</text>\n",
       "<text text-anchor=\"start\" x=\"891.3493\" y=\"-373.8\" font-family=\"Times,serif\" font-size=\"14.00\" fill=\"#000000\">value = 10.746</text>\n",
       "</g>\n",
       "<!-- 16&#45;&gt;17 -->\n",
       "<g id=\"edge17\" class=\"edge\">\n",
       "<title>16&#45;&gt;17</title>\n",
       "<path fill=\"none\" stroke=\"#000000\" d=\"M682.6506,-399C734.4911,-399 804.8643,-399 857.8315,-399\"/>\n",
       "<polygon fill=\"#000000\" stroke=\"#000000\" points=\"857.8461,-402.5001 867.8461,-399 857.8461,-395.5001 857.8461,-402.5001\"/>\n",
       "</g>\n",
       "<!-- 24 -->\n",
       "<g id=\"node25\" class=\"node\">\n",
       "<title>24</title>\n",
       "<polygon fill=\"#e58139\" fill-opacity=\"0.341176\" stroke=\"#000000\" points=\"1011.0828,-234 855.3288,-234 855.3288,-170 1011.0828,-170 1011.0828,-234\"/>\n",
       "<text text-anchor=\"start\" x=\"863.2673\" y=\"-218.8\" font-family=\"Times,serif\" font-size=\"14.00\" fill=\"#000000\">Height (inches) ≤ 69.125</text>\n",
       "<text text-anchor=\"start\" x=\"895.2321\" y=\"-204.8\" font-family=\"Times,serif\" font-size=\"14.00\" fill=\"#000000\">mse = 20.302</text>\n",
       "<text text-anchor=\"start\" x=\"896.2063\" y=\"-190.8\" font-family=\"Times,serif\" font-size=\"14.00\" fill=\"#000000\">samples = 14</text>\n",
       "<text text-anchor=\"start\" x=\"891.3493\" y=\"-176.8\" font-family=\"Times,serif\" font-size=\"14.00\" fill=\"#000000\">value = 19.717</text>\n",
       "</g>\n",
       "<!-- 16&#45;&gt;24 -->\n",
       "<g id=\"edge24\" class=\"edge\">\n",
       "<title>16&#45;&gt;24</title>\n",
       "<path fill=\"none\" stroke=\"#000000\" d=\"M664.4944,-366.9101C721.3883,-331.9939 812.2387,-276.2384 872.3079,-239.3735\"/>\n",
       "<polygon fill=\"#000000\" stroke=\"#000000\" points=\"874.2473,-242.2899 880.9395,-234.0762 870.5858,-236.3238 874.2473,-242.2899\"/>\n",
       "</g>\n",
       "<!-- 18 -->\n",
       "<g id=\"node19\" class=\"node\">\n",
       "<title>18</title>\n",
       "<polygon fill=\"#e58139\" fill-opacity=\"0.019608\" stroke=\"#000000\" points=\"1413.1449,-472 1267.2666,-472 1267.2666,-408 1413.1449,-408 1413.1449,-472\"/>\n",
       "<text text-anchor=\"start\" x=\"1275.4865\" y=\"-456.8\" font-family=\"Times,serif\" font-size=\"14.00\" fill=\"#000000\">Weight (lbs) ≤ 155.625</text>\n",
       "<text text-anchor=\"start\" x=\"1302.2321\" y=\"-442.8\" font-family=\"Times,serif\" font-size=\"14.00\" fill=\"#000000\">mse = 10.268</text>\n",
       "<text text-anchor=\"start\" x=\"1306.7063\" y=\"-428.8\" font-family=\"Times,serif\" font-size=\"14.00\" fill=\"#000000\">samples = 7</text>\n",
       "<text text-anchor=\"start\" x=\"1301.8493\" y=\"-414.8\" font-family=\"Times,serif\" font-size=\"14.00\" fill=\"#000000\">value = 6.089</text>\n",
       "</g>\n",
       "<!-- 17&#45;&gt;18 -->\n",
       "<g id=\"edge18\" class=\"edge\">\n",
       "<title>17&#45;&gt;18</title>\n",
       "<path fill=\"none\" stroke=\"#000000\" d=\"M998.5974,-405.5874C1068.9189,-412.6713 1180.9005,-423.9521 1257.3423,-431.6526\"/>\n",
       "<polygon fill=\"#000000\" stroke=\"#000000\" points=\"1257.1162,-435.1474 1267.4166,-432.6674 1257.8178,-428.1827 1257.1162,-435.1474\"/>\n",
       "</g>\n",
       "<!-- 21 -->\n",
       "<g id=\"node22\" class=\"node\">\n",
       "<title>21</title>\n",
       "<polygon fill=\"#e58139\" fill-opacity=\"0.160784\" stroke=\"#000000\" points=\"1414.5828,-390 1265.8288,-390 1265.8288,-326 1414.5828,-326 1414.5828,-390\"/>\n",
       "<text text-anchor=\"start\" x=\"1273.7673\" y=\"-374.8\" font-family=\"Times,serif\" font-size=\"14.00\" fill=\"#000000\">Height (inches) ≤ 70.75</text>\n",
       "<text text-anchor=\"start\" x=\"1302.2321\" y=\"-360.8\" font-family=\"Times,serif\" font-size=\"14.00\" fill=\"#000000\">mse = 18.074</text>\n",
       "<text text-anchor=\"start\" x=\"1303.2063\" y=\"-346.8\" font-family=\"Times,serif\" font-size=\"14.00\" fill=\"#000000\">samples = 23</text>\n",
       "<text text-anchor=\"start\" x=\"1298.3493\" y=\"-332.8\" font-family=\"Times,serif\" font-size=\"14.00\" fill=\"#000000\">value = 12.056</text>\n",
       "</g>\n",
       "<!-- 17&#45;&gt;21 -->\n",
       "<g id=\"edge21\" class=\"edge\">\n",
       "<title>17&#45;&gt;21</title>\n",
       "<path fill=\"none\" stroke=\"#000000\" d=\"M998.5974,-392.4126C1068.3813,-385.3828 1179.1907,-374.2202 1255.5829,-366.5247\"/>\n",
       "<polygon fill=\"#000000\" stroke=\"#000000\" points=\"1256.0587,-369.9945 1265.6575,-365.5098 1255.357,-363.0298 1256.0587,-369.9945\"/>\n",
       "</g>\n",
       "<!-- 19 -->\n",
       "<g id=\"node20\" class=\"node\">\n",
       "<title>19</title>\n",
       "<polygon fill=\"transparent\" stroke=\"#000000\" points=\"1745.4191,-526 1652.9924,-526 1652.9924,-476 1745.4191,-476 1745.4191,-526\"/>\n",
       "<text text-anchor=\"start\" x=\"1664.7321\" y=\"-510.8\" font-family=\"Times,serif\" font-size=\"14.00\" fill=\"#000000\">mse = 5.027</text>\n",
       "<text text-anchor=\"start\" x=\"1665.7063\" y=\"-496.8\" font-family=\"Times,serif\" font-size=\"14.00\" fill=\"#000000\">samples = 6</text>\n",
       "<text text-anchor=\"start\" x=\"1660.8493\" y=\"-482.8\" font-family=\"Times,serif\" font-size=\"14.00\" fill=\"#000000\">value = 5.238</text>\n",
       "</g>\n",
       "<!-- 18&#45;&gt;19 -->\n",
       "<g id=\"edge19\" class=\"edge\">\n",
       "<title>18&#45;&gt;19</title>\n",
       "<path fill=\"none\" stroke=\"#000000\" d=\"M1413.2875,-452.4178C1481.1608,-463.9506 1580.805,-480.8818 1642.7537,-491.4079\"/>\n",
       "<polygon fill=\"#000000\" stroke=\"#000000\" points=\"1642.2923,-494.8796 1652.7373,-493.1042 1643.465,-487.9785 1642.2923,-494.8796\"/>\n",
       "</g>\n",
       "<!-- 20 -->\n",
       "<g id=\"node21\" class=\"node\">\n",
       "<title>20</title>\n",
       "<polygon fill=\"#e58139\" fill-opacity=\"0.180392\" stroke=\"#000000\" points=\"1741.9191,-458 1656.4924,-458 1656.4924,-408 1741.9191,-408 1741.9191,-458\"/>\n",
       "<text text-anchor=\"start\" x=\"1671.7321\" y=\"-442.8\" font-family=\"Times,serif\" font-size=\"14.00\" fill=\"#000000\">mse = 0.0</text>\n",
       "<text text-anchor=\"start\" x=\"1665.7063\" y=\"-428.8\" font-family=\"Times,serif\" font-size=\"14.00\" fill=\"#000000\">samples = 1</text>\n",
       "<text text-anchor=\"start\" x=\"1664.3493\" y=\"-414.8\" font-family=\"Times,serif\" font-size=\"14.00\" fill=\"#000000\">value = 12.9</text>\n",
       "</g>\n",
       "<!-- 18&#45;&gt;20 -->\n",
       "<g id=\"edge20\" class=\"edge\">\n",
       "<title>18&#45;&gt;20</title>\n",
       "<path fill=\"none\" stroke=\"#000000\" d=\"M1413.2875,-438.575C1482.3774,-437.2279 1584.3875,-435.2388 1646.0483,-434.0365\"/>\n",
       "<polygon fill=\"#000000\" stroke=\"#000000\" points=\"1646.4007,-437.5304 1656.3305,-433.836 1646.2641,-430.5317 1646.4007,-437.5304\"/>\n",
       "</g>\n",
       "<!-- 22 -->\n",
       "<g id=\"node23\" class=\"node\">\n",
       "<title>22</title>\n",
       "<polygon fill=\"#e58139\" fill-opacity=\"0.200000\" stroke=\"#000000\" points=\"1748.9191,-390 1649.4925,-390 1649.4925,-340 1748.9191,-340 1748.9191,-390\"/>\n",
       "<text text-anchor=\"start\" x=\"1661.2321\" y=\"-374.8\" font-family=\"Times,serif\" font-size=\"14.00\" fill=\"#000000\">mse = 14.457</text>\n",
       "<text text-anchor=\"start\" x=\"1662.2063\" y=\"-360.8\" font-family=\"Times,serif\" font-size=\"14.00\" fill=\"#000000\">samples = 14</text>\n",
       "<text text-anchor=\"start\" x=\"1657.3493\" y=\"-346.8\" font-family=\"Times,serif\" font-size=\"14.00\" fill=\"#000000\">value = 13.748</text>\n",
       "</g>\n",
       "<!-- 21&#45;&gt;22 -->\n",
       "<g id=\"edge22\" class=\"edge\">\n",
       "<title>21&#45;&gt;22</title>\n",
       "<path fill=\"none\" stroke=\"#000000\" d=\"M1414.5908,-359.4504C1481.0858,-360.747 1577.2954,-362.6229 1639.0486,-363.827\"/>\n",
       "<polygon fill=\"#000000\" stroke=\"#000000\" points=\"1639.3414,-367.3333 1649.4077,-364.029 1639.4779,-360.3346 1639.3414,-367.3333\"/>\n",
       "</g>\n",
       "<!-- 23 -->\n",
       "<g id=\"node24\" class=\"node\">\n",
       "<title>23</title>\n",
       "<polygon fill=\"#e58139\" fill-opacity=\"0.086275\" stroke=\"#000000\" points=\"1745.4191,-322 1652.9924,-322 1652.9924,-272 1745.4191,-272 1745.4191,-322\"/>\n",
       "<text text-anchor=\"start\" x=\"1664.7321\" y=\"-306.8\" font-family=\"Times,serif\" font-size=\"14.00\" fill=\"#000000\">mse = 9.091</text>\n",
       "<text text-anchor=\"start\" x=\"1665.7063\" y=\"-292.8\" font-family=\"Times,serif\" font-size=\"14.00\" fill=\"#000000\">samples = 9</text>\n",
       "<text text-anchor=\"start\" x=\"1660.8493\" y=\"-278.8\" font-family=\"Times,serif\" font-size=\"14.00\" fill=\"#000000\">value = 8.827</text>\n",
       "</g>\n",
       "<!-- 21&#45;&gt;23 -->\n",
       "<g id=\"edge23\" class=\"edge\">\n",
       "<title>21&#45;&gt;23</title>\n",
       "<path fill=\"none\" stroke=\"#000000\" d=\"M1414.5908,-345.3608C1482.4877,-333.824 1581.3654,-317.023 1642.908,-306.5659\"/>\n",
       "<polygon fill=\"#000000\" stroke=\"#000000\" points=\"1643.5549,-310.0062 1652.8273,-304.8805 1642.3823,-303.1052 1643.5549,-310.0062\"/>\n",
       "</g>\n",
       "<!-- 25 -->\n",
       "<g id=\"node26\" class=\"node\">\n",
       "<title>25</title>\n",
       "<polygon fill=\"#e58139\" fill-opacity=\"0.458824\" stroke=\"#000000\" points=\"1464.5037,-234 1215.9078,-234 1215.9078,-170 1464.5037,-170 1464.5037,-234\"/>\n",
       "<text text-anchor=\"start\" x=\"1223.8068\" y=\"-218.8\" font-family=\"Times,serif\" font-size=\"14.00\" fill=\"#000000\">Chest (cm)_Abdomen (cm)_ratio ≤ 1.126</text>\n",
       "<text text-anchor=\"start\" x=\"1305.7321\" y=\"-204.8\" font-family=\"Times,serif\" font-size=\"14.00\" fill=\"#000000\">mse = 4.912</text>\n",
       "<text text-anchor=\"start\" x=\"1306.7063\" y=\"-190.8\" font-family=\"Times,serif\" font-size=\"14.00\" fill=\"#000000\">samples = 4</text>\n",
       "<text text-anchor=\"start\" x=\"1301.8493\" y=\"-176.8\" font-family=\"Times,serif\" font-size=\"14.00\" fill=\"#000000\">value = 24.65</text>\n",
       "</g>\n",
       "<!-- 24&#45;&gt;25 -->\n",
       "<g id=\"edge25\" class=\"edge\">\n",
       "<title>24&#45;&gt;25</title>\n",
       "<path fill=\"none\" stroke=\"#000000\" d=\"M1011.1979,-202C1066.0819,-202 1140.9483,-202 1205.3997,-202\"/>\n",
       "<polygon fill=\"#000000\" stroke=\"#000000\" points=\"1205.6498,-205.5001 1215.6497,-202 1205.6497,-198.5001 1205.6498,-205.5001\"/>\n",
       "</g>\n",
       "<!-- 28 -->\n",
       "<g id=\"node29\" class=\"node\">\n",
       "<title>28</title>\n",
       "<polygon fill=\"#e58139\" fill-opacity=\"0.301961\" stroke=\"#000000\" points=\"1406.2456,-125 1274.1659,-125 1274.1659,-61 1406.2456,-61 1406.2456,-125\"/>\n",
       "<text text-anchor=\"start\" x=\"1281.9362\" y=\"-109.8\" font-family=\"Times,serif\" font-size=\"14.00\" fill=\"#000000\">Forearm (cm) ≤ 30.4</text>\n",
       "<text text-anchor=\"start\" x=\"1302.4885\" y=\"-95.8\" font-family=\"Times,serif\" font-size=\"14.00\" fill=\"#000000\">mse = 14.116</text>\n",
       "<text text-anchor=\"start\" x=\"1303.2063\" y=\"-81.8\" font-family=\"Times,serif\" font-size=\"14.00\" fill=\"#000000\">samples = 10</text>\n",
       "<text text-anchor=\"start\" x=\"1298.3493\" y=\"-67.8\" font-family=\"Times,serif\" font-size=\"14.00\" fill=\"#000000\">value = 17.976</text>\n",
       "</g>\n",
       "<!-- 24&#45;&gt;28 -->\n",
       "<g id=\"edge28\" class=\"edge\">\n",
       "<title>24&#45;&gt;28</title>\n",
       "<path fill=\"none\" stroke=\"#000000\" d=\"M1011.1979,-181.1127C1083.9464,-161.6296 1191.8031,-132.7442 1263.9773,-113.415\"/>\n",
       "<polygon fill=\"#000000\" stroke=\"#000000\" points=\"1265.1631,-116.7208 1273.9172,-110.753 1263.3522,-109.9591 1265.1631,-116.7208\"/>\n",
       "</g>\n",
       "<!-- 26 -->\n",
       "<g id=\"node27\" class=\"node\">\n",
       "<title>26</title>\n",
       "<polygon fill=\"#e58139\" fill-opacity=\"0.529412\" stroke=\"#000000\" points=\"1745.4191,-254 1652.9924,-254 1652.9924,-204 1745.4191,-204 1745.4191,-254\"/>\n",
       "<text text-anchor=\"start\" x=\"1664.7321\" y=\"-238.8\" font-family=\"Times,serif\" font-size=\"14.00\" fill=\"#000000\">mse = 2.102</text>\n",
       "<text text-anchor=\"start\" x=\"1665.7063\" y=\"-224.8\" font-family=\"Times,serif\" font-size=\"14.00\" fill=\"#000000\">samples = 2</text>\n",
       "<text text-anchor=\"start\" x=\"1660.8493\" y=\"-210.8\" font-family=\"Times,serif\" font-size=\"14.00\" fill=\"#000000\">value = 27.55</text>\n",
       "</g>\n",
       "<!-- 25&#45;&gt;26 -->\n",
       "<g id=\"edge26\" class=\"edge\">\n",
       "<title>25&#45;&gt;26</title>\n",
       "<path fill=\"none\" stroke=\"#000000\" d=\"M1464.5074,-211.3486C1525.0943,-215.9053 1594.9755,-221.161 1642.6233,-224.7445\"/>\n",
       "<polygon fill=\"#000000\" stroke=\"#000000\" points=\"1642.5058,-228.2455 1652.7402,-225.5054 1643.0309,-221.2652 1642.5058,-228.2455\"/>\n",
       "</g>\n",
       "<!-- 27 -->\n",
       "<g id=\"node28\" class=\"node\">\n",
       "<title>27</title>\n",
       "<polygon fill=\"#e58139\" fill-opacity=\"0.423529\" stroke=\"#000000\" points=\"1741.9191,-186 1656.4924,-186 1656.4924,-136 1741.9191,-136 1741.9191,-186\"/>\n",
       "<text text-anchor=\"start\" x=\"1668.2321\" y=\"-170.8\" font-family=\"Times,serif\" font-size=\"14.00\" fill=\"#000000\">mse = 0.01</text>\n",
       "<text text-anchor=\"start\" x=\"1665.7063\" y=\"-156.8\" font-family=\"Times,serif\" font-size=\"14.00\" fill=\"#000000\">samples = 2</text>\n",
       "<text text-anchor=\"start\" x=\"1664.3493\" y=\"-142.8\" font-family=\"Times,serif\" font-size=\"14.00\" fill=\"#000000\">value = 23.2</text>\n",
       "</g>\n",
       "<!-- 25&#45;&gt;27 -->\n",
       "<g id=\"edge27\" class=\"edge\">\n",
       "<title>25&#45;&gt;27</title>\n",
       "<path fill=\"none\" stroke=\"#000000\" d=\"M1464.5074,-187.804C1526.6042,-180.7122 1598.4644,-172.5053 1646.1438,-167.06\"/>\n",
       "<polygon fill=\"#000000\" stroke=\"#000000\" points=\"1646.697,-170.5197 1656.2353,-165.9075 1645.9027,-163.5649 1646.697,-170.5197\"/>\n",
       "</g>\n",
       "<!-- 29 -->\n",
       "<g id=\"node30\" class=\"node\">\n",
       "<title>29</title>\n",
       "<polygon fill=\"#e58139\" fill-opacity=\"0.207843\" stroke=\"#000000\" points=\"1741.9191,-118 1656.4924,-118 1656.4924,-68 1741.9191,-68 1741.9191,-118\"/>\n",
       "<text text-anchor=\"start\" x=\"1668.2321\" y=\"-102.8\" font-family=\"Times,serif\" font-size=\"14.00\" fill=\"#000000\">mse = 8.74</text>\n",
       "<text text-anchor=\"start\" x=\"1665.7063\" y=\"-88.8\" font-family=\"Times,serif\" font-size=\"14.00\" fill=\"#000000\">samples = 4</text>\n",
       "<text text-anchor=\"start\" x=\"1664.3493\" y=\"-74.8\" font-family=\"Times,serif\" font-size=\"14.00\" fill=\"#000000\">value = 14.0</text>\n",
       "</g>\n",
       "<!-- 28&#45;&gt;29 -->\n",
       "<g id=\"edge29\" class=\"edge\">\n",
       "<title>28&#45;&gt;29</title>\n",
       "<path fill=\"none\" stroke=\"#000000\" d=\"M1406.4703,-93C1475.5599,-93 1582.4783,-93 1646.1848,-93\"/>\n",
       "<polygon fill=\"#000000\" stroke=\"#000000\" points=\"1646.4087,-96.5001 1656.4087,-93 1646.4086,-89.5001 1646.4087,-96.5001\"/>\n",
       "</g>\n",
       "<!-- 30 -->\n",
       "<g id=\"node31\" class=\"node\">\n",
       "<title>30</title>\n",
       "<polygon fill=\"#e58139\" fill-opacity=\"0.352941\" stroke=\"#000000\" points=\"1748.9191,-50 1649.4925,-50 1649.4925,0 1748.9191,0 1748.9191,-50\"/>\n",
       "<text text-anchor=\"start\" x=\"1664.7321\" y=\"-34.8\" font-family=\"Times,serif\" font-size=\"14.00\" fill=\"#000000\">mse = 3.719</text>\n",
       "<text text-anchor=\"start\" x=\"1665.7063\" y=\"-20.8\" font-family=\"Times,serif\" font-size=\"14.00\" fill=\"#000000\">samples = 6</text>\n",
       "<text text-anchor=\"start\" x=\"1657.3493\" y=\"-6.8\" font-family=\"Times,serif\" font-size=\"14.00\" fill=\"#000000\">value = 20.145</text>\n",
       "</g>\n",
       "<!-- 28&#45;&gt;30 -->\n",
       "<g id=\"edge30\" class=\"edge\">\n",
       "<title>28&#45;&gt;30</title>\n",
       "<path fill=\"none\" stroke=\"#000000\" d=\"M1406.4703,-80.4485C1473.1061,-67.8267 1574.9315,-48.5394 1639.2372,-36.359\"/>\n",
       "<polygon fill=\"#000000\" stroke=\"#000000\" points=\"1640.0507,-39.7672 1649.2246,-34.4672 1638.7479,-32.8895 1640.0507,-39.7672\"/>\n",
       "</g>\n",
       "</g>\n",
       "</svg>\n"
      ],
      "text/plain": [
       "<graphviz.files.Source at 0x1c250ba668>"
      ]
     },
     "metadata": {},
     "output_type": "display_data"
    }
   ],
   "source": [
    "draw_tree(model.estimators_[2], train_X, precision=3)"
   ]
  },
  {
   "cell_type": "code",
   "execution_count": 179,
   "metadata": {},
   "outputs": [
    {
     "data": {
      "text/html": [
       "<div>\n",
       "<style scoped>\n",
       "    .dataframe tbody tr th:only-of-type {\n",
       "        vertical-align: middle;\n",
       "    }\n",
       "\n",
       "    .dataframe tbody tr th {\n",
       "        vertical-align: top;\n",
       "    }\n",
       "\n",
       "    .dataframe thead th {\n",
       "        text-align: right;\n",
       "    }\n",
       "</style>\n",
       "<table border=\"1\" class=\"dataframe\">\n",
       "  <thead>\n",
       "    <tr style=\"text-align: right;\">\n",
       "      <th></th>\n",
       "      <th>Age (years)</th>\n",
       "      <th>Weight (lbs)</th>\n",
       "      <th>Height (inches)</th>\n",
       "      <th>Neck (cm)</th>\n",
       "      <th>Chest (cm)</th>\n",
       "      <th>Abdomen (cm)</th>\n",
       "      <th>Hip (cm)</th>\n",
       "      <th>Thigh (cm)</th>\n",
       "      <th>Knee (cm)</th>\n",
       "      <th>Ankle (cm)</th>\n",
       "      <th>Biceps (cm)</th>\n",
       "      <th>Forearm (cm)</th>\n",
       "      <th>Wrist (cm)</th>\n",
       "      <th>Height (inches)_Weight (lbs)_ratio</th>\n",
       "      <th>Chest (cm)_Hip (cm)_ratio</th>\n",
       "      <th>Age (years)_Weight (lbs)_ratio</th>\n",
       "      <th>Knee (cm)_Thigh (cm)_ratio</th>\n",
       "      <th>Chest (cm)_Abdomen (cm)_ratio</th>\n",
       "    </tr>\n",
       "  </thead>\n",
       "  <tbody>\n",
       "    <tr>\n",
       "      <th>44</th>\n",
       "      <td>35</td>\n",
       "      <td>228.25</td>\n",
       "      <td>69.50</td>\n",
       "      <td>40.4</td>\n",
       "      <td>114.9</td>\n",
       "      <td>115.9</td>\n",
       "      <td>111.9</td>\n",
       "      <td>74.4</td>\n",
       "      <td>40.6</td>\n",
       "      <td>24.0</td>\n",
       "      <td>36.1</td>\n",
       "      <td>31.8</td>\n",
       "      <td>18.8</td>\n",
       "      <td>0.304491</td>\n",
       "      <td>1.026810</td>\n",
       "      <td>0.153341</td>\n",
       "      <td>0.545699</td>\n",
       "      <td>0.991372</td>\n",
       "    </tr>\n",
       "    <tr>\n",
       "      <th>52</th>\n",
       "      <td>35</td>\n",
       "      <td>217.00</td>\n",
       "      <td>73.75</td>\n",
       "      <td>40.5</td>\n",
       "      <td>107.5</td>\n",
       "      <td>95.1</td>\n",
       "      <td>104.5</td>\n",
       "      <td>64.8</td>\n",
       "      <td>41.3</td>\n",
       "      <td>25.6</td>\n",
       "      <td>36.4</td>\n",
       "      <td>33.7</td>\n",
       "      <td>19.4</td>\n",
       "      <td>0.339862</td>\n",
       "      <td>1.028708</td>\n",
       "      <td>0.161290</td>\n",
       "      <td>0.637346</td>\n",
       "      <td>1.130389</td>\n",
       "    </tr>\n",
       "    <tr>\n",
       "      <th>49</th>\n",
       "      <td>55</td>\n",
       "      <td>198.50</td>\n",
       "      <td>74.25</td>\n",
       "      <td>38.3</td>\n",
       "      <td>105.3</td>\n",
       "      <td>96.7</td>\n",
       "      <td>106.6</td>\n",
       "      <td>64.0</td>\n",
       "      <td>42.6</td>\n",
       "      <td>23.4</td>\n",
       "      <td>33.2</td>\n",
       "      <td>30.0</td>\n",
       "      <td>18.4</td>\n",
       "      <td>0.374055</td>\n",
       "      <td>0.987805</td>\n",
       "      <td>0.277078</td>\n",
       "      <td>0.665625</td>\n",
       "      <td>1.088935</td>\n",
       "    </tr>\n",
       "    <tr>\n",
       "      <th>133</th>\n",
       "      <td>40</td>\n",
       "      <td>168.50</td>\n",
       "      <td>69.25</td>\n",
       "      <td>34.2</td>\n",
       "      <td>97.8</td>\n",
       "      <td>92.3</td>\n",
       "      <td>100.6</td>\n",
       "      <td>57.5</td>\n",
       "      <td>36.8</td>\n",
       "      <td>22.8</td>\n",
       "      <td>32.1</td>\n",
       "      <td>26.0</td>\n",
       "      <td>17.3</td>\n",
       "      <td>0.410979</td>\n",
       "      <td>0.972167</td>\n",
       "      <td>0.237389</td>\n",
       "      <td>0.640000</td>\n",
       "      <td>1.059588</td>\n",
       "    </tr>\n",
       "    <tr>\n",
       "      <th>59</th>\n",
       "      <td>50</td>\n",
       "      <td>203.00</td>\n",
       "      <td>67.00</td>\n",
       "      <td>40.2</td>\n",
       "      <td>114.8</td>\n",
       "      <td>108.1</td>\n",
       "      <td>102.5</td>\n",
       "      <td>61.3</td>\n",
       "      <td>41.1</td>\n",
       "      <td>24.7</td>\n",
       "      <td>34.1</td>\n",
       "      <td>31.0</td>\n",
       "      <td>18.3</td>\n",
       "      <td>0.330049</td>\n",
       "      <td>1.120000</td>\n",
       "      <td>0.246305</td>\n",
       "      <td>0.670473</td>\n",
       "      <td>1.061980</td>\n",
       "    </tr>\n",
       "  </tbody>\n",
       "</table>\n",
       "</div>"
      ],
      "text/plain": [
       "     Age (years)  Weight (lbs)  Height (inches)  Neck (cm)  Chest (cm)  \\\n",
       "44            35        228.25            69.50       40.4       114.9   \n",
       "52            35        217.00            73.75       40.5       107.5   \n",
       "49            55        198.50            74.25       38.3       105.3   \n",
       "133           40        168.50            69.25       34.2        97.8   \n",
       "59            50        203.00            67.00       40.2       114.8   \n",
       "\n",
       "     Abdomen (cm)  Hip (cm)  Thigh (cm)  Knee (cm)  Ankle (cm)  Biceps (cm)  \\\n",
       "44          115.9     111.9        74.4       40.6        24.0         36.1   \n",
       "52           95.1     104.5        64.8       41.3        25.6         36.4   \n",
       "49           96.7     106.6        64.0       42.6        23.4         33.2   \n",
       "133          92.3     100.6        57.5       36.8        22.8         32.1   \n",
       "59          108.1     102.5        61.3       41.1        24.7         34.1   \n",
       "\n",
       "     Forearm (cm)  Wrist (cm)  Height (inches)_Weight (lbs)_ratio  \\\n",
       "44           31.8        18.8                            0.304491   \n",
       "52           33.7        19.4                            0.339862   \n",
       "49           30.0        18.4                            0.374055   \n",
       "133          26.0        17.3                            0.410979   \n",
       "59           31.0        18.3                            0.330049   \n",
       "\n",
       "     Chest (cm)_Hip (cm)_ratio  Age (years)_Weight (lbs)_ratio  \\\n",
       "44                    1.026810                        0.153341   \n",
       "52                    1.028708                        0.161290   \n",
       "49                    0.987805                        0.277078   \n",
       "133                   0.972167                        0.237389   \n",
       "59                    1.120000                        0.246305   \n",
       "\n",
       "     Knee (cm)_Thigh (cm)_ratio  Chest (cm)_Abdomen (cm)_ratio  \n",
       "44                     0.545699                       0.991372  \n",
       "52                     0.637346                       1.130389  \n",
       "49                     0.665625                       1.088935  \n",
       "133                    0.640000                       1.059588  \n",
       "59                     0.670473                       1.061980  "
      ]
     },
     "execution_count": 179,
     "metadata": {},
     "output_type": "execute_result"
    }
   ],
   "source": [
    "train_X.head()"
   ]
  },
  {
   "cell_type": "code",
   "execution_count": 186,
   "metadata": {},
   "outputs": [],
   "source": [
    "def plot_fi(fi): return fi.plot('cols', 'imp', 'barh', figsize=(12,7), legend=False)"
   ]
  },
  {
   "cell_type": "code",
   "execution_count": 233,
   "metadata": {},
   "outputs": [
    {
     "data": {
      "text/html": [
       "<div>\n",
       "<style scoped>\n",
       "    .dataframe tbody tr th:only-of-type {\n",
       "        vertical-align: middle;\n",
       "    }\n",
       "\n",
       "    .dataframe tbody tr th {\n",
       "        vertical-align: top;\n",
       "    }\n",
       "\n",
       "    .dataframe thead th {\n",
       "        text-align: right;\n",
       "    }\n",
       "</style>\n",
       "<table border=\"1\" class=\"dataframe\">\n",
       "  <thead>\n",
       "    <tr style=\"text-align: right;\">\n",
       "      <th></th>\n",
       "      <th>cols</th>\n",
       "      <th>imp</th>\n",
       "    </tr>\n",
       "  </thead>\n",
       "  <tbody>\n",
       "    <tr>\n",
       "      <th>38</th>\n",
       "      <td>Height (inches)_Abdomen (cm)_ratio</td>\n",
       "      <td>0.275753</td>\n",
       "    </tr>\n",
       "    <tr>\n",
       "      <th>69</th>\n",
       "      <td>Abdomen (cm)_Wrist (cm)_ratio</td>\n",
       "      <td>0.171255</td>\n",
       "    </tr>\n",
       "    <tr>\n",
       "      <th>5</th>\n",
       "      <td>Abdomen (cm)</td>\n",
       "      <td>0.128781</td>\n",
       "    </tr>\n",
       "    <tr>\n",
       "      <th>63</th>\n",
       "      <td>Abdomen (cm)_Hip (cm)_ratio</td>\n",
       "      <td>0.066501</td>\n",
       "    </tr>\n",
       "    <tr>\n",
       "      <th>47</th>\n",
       "      <td>Neck (cm)_Abdomen (cm)_ratio</td>\n",
       "      <td>0.038787</td>\n",
       "    </tr>\n",
       "    <tr>\n",
       "      <th>66</th>\n",
       "      <td>Abdomen (cm)_Ankle (cm)_ratio</td>\n",
       "      <td>0.034764</td>\n",
       "    </tr>\n",
       "    <tr>\n",
       "      <th>65</th>\n",
       "      <td>Abdomen (cm)_Knee (cm)_ratio</td>\n",
       "      <td>0.021117</td>\n",
       "    </tr>\n",
       "    <tr>\n",
       "      <th>37</th>\n",
       "      <td>Height (inches)_Chest (cm)_ratio</td>\n",
       "      <td>0.016313</td>\n",
       "    </tr>\n",
       "    <tr>\n",
       "      <th>55</th>\n",
       "      <td>Chest (cm)_Abdomen (cm)_ratio</td>\n",
       "      <td>0.015186</td>\n",
       "    </tr>\n",
       "    <tr>\n",
       "      <th>68</th>\n",
       "      <td>Abdomen (cm)_Forearm (cm)_ratio</td>\n",
       "      <td>0.013150</td>\n",
       "    </tr>\n",
       "    <tr>\n",
       "      <th>35</th>\n",
       "      <td>Weight (lbs)_Wrist (cm)_ratio</td>\n",
       "      <td>0.008376</td>\n",
       "    </tr>\n",
       "    <tr>\n",
       "      <th>4</th>\n",
       "      <td>Chest (cm)</td>\n",
       "      <td>0.006900</td>\n",
       "    </tr>\n",
       "    <tr>\n",
       "      <th>62</th>\n",
       "      <td>Chest (cm)_Wrist (cm)_ratio</td>\n",
       "      <td>0.006350</td>\n",
       "    </tr>\n",
       "    <tr>\n",
       "      <th>39</th>\n",
       "      <td>Height (inches)_Hip (cm)_ratio</td>\n",
       "      <td>0.006112</td>\n",
       "    </tr>\n",
       "    <tr>\n",
       "      <th>6</th>\n",
       "      <td>Hip (cm)</td>\n",
       "      <td>0.005610</td>\n",
       "    </tr>\n",
       "    <tr>\n",
       "      <th>89</th>\n",
       "      <td>Biceps (cm)_Wrist (cm)_ratio</td>\n",
       "      <td>0.005415</td>\n",
       "    </tr>\n",
       "    <tr>\n",
       "      <th>52</th>\n",
       "      <td>Neck (cm)_Biceps (cm)_ratio</td>\n",
       "      <td>0.005137</td>\n",
       "    </tr>\n",
       "    <tr>\n",
       "      <th>33</th>\n",
       "      <td>Weight (lbs)_Biceps (cm)_ratio</td>\n",
       "      <td>0.004945</td>\n",
       "    </tr>\n",
       "    <tr>\n",
       "      <th>59</th>\n",
       "      <td>Chest (cm)_Ankle (cm)_ratio</td>\n",
       "      <td>0.004937</td>\n",
       "    </tr>\n",
       "    <tr>\n",
       "      <th>7</th>\n",
       "      <td>Thigh (cm)</td>\n",
       "      <td>0.004850</td>\n",
       "    </tr>\n",
       "  </tbody>\n",
       "</table>\n",
       "</div>"
      ],
      "text/plain": [
       "                                  cols       imp\n",
       "38  Height (inches)_Abdomen (cm)_ratio  0.275753\n",
       "69       Abdomen (cm)_Wrist (cm)_ratio  0.171255\n",
       "5                         Abdomen (cm)  0.128781\n",
       "63         Abdomen (cm)_Hip (cm)_ratio  0.066501\n",
       "47        Neck (cm)_Abdomen (cm)_ratio  0.038787\n",
       "66       Abdomen (cm)_Ankle (cm)_ratio  0.034764\n",
       "65        Abdomen (cm)_Knee (cm)_ratio  0.021117\n",
       "37    Height (inches)_Chest (cm)_ratio  0.016313\n",
       "55       Chest (cm)_Abdomen (cm)_ratio  0.015186\n",
       "68     Abdomen (cm)_Forearm (cm)_ratio  0.013150\n",
       "35       Weight (lbs)_Wrist (cm)_ratio  0.008376\n",
       "4                           Chest (cm)  0.006900\n",
       "62         Chest (cm)_Wrist (cm)_ratio  0.006350\n",
       "39      Height (inches)_Hip (cm)_ratio  0.006112\n",
       "6                             Hip (cm)  0.005610\n",
       "89        Biceps (cm)_Wrist (cm)_ratio  0.005415\n",
       "52         Neck (cm)_Biceps (cm)_ratio  0.005137\n",
       "33      Weight (lbs)_Biceps (cm)_ratio  0.004945\n",
       "59         Chest (cm)_Ankle (cm)_ratio  0.004937\n",
       "7                           Thigh (cm)  0.004850"
      ]
     },
     "execution_count": 233,
     "metadata": {},
     "output_type": "execute_result"
    }
   ],
   "source": [
    "fi = rf_feat_importance(model, train_X); fi[:20]"
   ]
  },
  {
   "cell_type": "code",
   "execution_count": 189,
   "metadata": {},
   "outputs": [
    {
     "data": {
      "text/plain": [
       "<matplotlib.axes._subplots.AxesSubplot at 0x1c23717be0>"
      ]
     },
     "execution_count": 189,
     "metadata": {},
     "output_type": "execute_result"
    },
    {
     "data": {
      "image/png": "[encoded data removed]",
      "text/plain": [
       "<Figure size 864x504 with 1 Axes>"
      ]
     },
     "metadata": {},
     "output_type": "display_data"
    }
   ],
   "source": [
    "plot_fi(fi)"
   ]
  },
  {
   "cell_type": "code",
   "execution_count": 206,
   "metadata": {},
   "outputs": [
    {
     "data": {
      "text/plain": [
       "9"
      ]
     },
     "execution_count": 206,
     "metadata": {},
     "output_type": "execute_result"
    }
   ],
   "source": [
    "to_keep = fi[fi.imp>0.02].cols; len(to_keep)"
   ]
  },
  {
   "cell_type": "code",
   "execution_count": 229,
   "metadata": {},
   "outputs": [],
   "source": [
    "train_X, test_X, train_y, test_y = train_test_split(train_processed, target)"
   ]
  },
  {
   "cell_type": "code",
   "execution_count": 230,
   "metadata": {},
   "outputs": [],
   "source": [
    "model = RandomForestRegressor(max_features=0.5, n_estimators=100)"
   ]
  },
  {
   "cell_type": "code",
   "execution_count": 231,
   "metadata": {},
   "outputs": [
    {
     "data": {
      "text/plain": [
       "RandomForestRegressor(bootstrap=True, criterion='mse', max_depth=None,\n",
       "           max_features=0.5, max_leaf_nodes=None,\n",
       "           min_impurity_decrease=0.0, min_impurity_split=None,\n",
       "           min_samples_leaf=1, min_samples_split=2,\n",
       "           min_weight_fraction_leaf=0.0, n_estimators=100, n_jobs=None,\n",
       "           oob_score=False, random_state=None, verbose=0, warm_start=False)"
      ]
     },
     "execution_count": 231,
     "metadata": {},
     "output_type": "execute_result"
    }
   ],
   "source": [
    "model.fit(train_X, train_y)"
   ]
  },
  {
   "cell_type": "code",
   "execution_count": 232,
   "metadata": {},
   "outputs": [
    {
     "data": {
      "text/plain": [
       "3.691098039215687"
      ]
     },
     "execution_count": 232,
     "metadata": {},
     "output_type": "execute_result"
    }
   ],
   "source": [
    "mean_absolute_error(model.predict(test_X), test_y)"
   ]
  },
  {
   "cell_type": "code",
   "execution_count": 218,
   "metadata": {},
   "outputs": [],
   "source": [
    "def feature_engineering(df):\n",
    "    \"\"\"Do not pass target in the df. It will be scaled.\"\"\"\n",
    "    columns = list(df.columns)\n",
    "    ratio_list = combinations(columns, 2)\n",
    "    ret = df.copy()\n",
    "    for col1, col2 in ratio_list:\n",
    "        create_ratio(ret, col1, col2)\n",
    "#     scaler = MinMaxScaler()\n",
    "#     return scaler.fit_transform(ret)\n",
    "    return ret"
   ]
  },
  {
   "cell_type": "code",
   "execution_count": 228,
   "metadata": {},
   "outputs": [],
   "source": [
    "train_processed = feature_engineering(train_df.drop(['Body fat (%)'], axis=1))"
   ]
  },
  {
   "cell_type": "code",
   "execution_count": 214,
   "metadata": {},
   "outputs": [
    {
     "data": {
      "text/plain": [
       "['Body fat (%)',\n",
       " 'Age (years)',\n",
       " 'Weight (lbs)',\n",
       " 'Height (inches)',\n",
       " 'Neck (cm)',\n",
       " 'Chest (cm)',\n",
       " 'Abdomen (cm)',\n",
       " 'Hip (cm)',\n",
       " 'Thigh (cm)',\n",
       " 'Knee (cm)',\n",
       " 'Ankle (cm)',\n",
       " 'Biceps (cm)',\n",
       " 'Forearm (cm)',\n",
       " 'Wrist (cm)']"
      ]
     },
     "execution_count": 214,
     "metadata": {},
     "output_type": "execute_result"
    }
   ],
   "source": [
    "l"
   ]
  },
  {
   "cell_type": "code",
   "execution_count": 215,
   "metadata": {},
   "outputs": [],
   "source": [
    "from itertools import combinations"
   ]
  },
  {
   "cell_type": "code",
   "execution_count": 217,
   "metadata": {},
   "outputs": [
    {
     "data": {
      "text/plain": [
       "[('Body fat (%)', 'Age (years)'),\n",
       " ('Body fat (%)', 'Weight (lbs)'),\n",
       " ('Body fat (%)', 'Height (inches)'),\n",
       " ('Body fat (%)', 'Neck (cm)'),\n",
       " ('Body fat (%)', 'Chest (cm)'),\n",
       " ('Body fat (%)', 'Abdomen (cm)'),\n",
       " ('Body fat (%)', 'Hip (cm)'),\n",
       " ('Body fat (%)', 'Thigh (cm)'),\n",
       " ('Body fat (%)', 'Knee (cm)'),\n",
       " ('Body fat (%)', 'Ankle (cm)'),\n",
       " ('Body fat (%)', 'Biceps (cm)'),\n",
       " ('Body fat (%)', 'Forearm (cm)'),\n",
       " ('Body fat (%)', 'Wrist (cm)'),\n",
       " ('Age (years)', 'Weight (lbs)'),\n",
       " ('Age (years)', 'Height (inches)'),\n",
       " ('Age (years)', 'Neck (cm)'),\n",
       " ('Age (years)', 'Chest (cm)'),\n",
       " ('Age (years)', 'Abdomen (cm)'),\n",
       " ('Age (years)', 'Hip (cm)'),\n",
       " ('Age (years)', 'Thigh (cm)'),\n",
       " ('Age (years)', 'Knee (cm)'),\n",
       " ('Age (years)', 'Ankle (cm)'),\n",
       " ('Age (years)', 'Biceps (cm)'),\n",
       " ('Age (years)', 'Forearm (cm)'),\n",
       " ('Age (years)', 'Wrist (cm)'),\n",
       " ('Weight (lbs)', 'Height (inches)'),\n",
       " ('Weight (lbs)', 'Neck (cm)'),\n",
       " ('Weight (lbs)', 'Chest (cm)'),\n",
       " ('Weight (lbs)', 'Abdomen (cm)'),\n",
       " ('Weight (lbs)', 'Hip (cm)'),\n",
       " ('Weight (lbs)', 'Thigh (cm)'),\n",
       " ('Weight (lbs)', 'Knee (cm)'),\n",
       " ('Weight (lbs)', 'Ankle (cm)'),\n",
       " ('Weight (lbs)', 'Biceps (cm)'),\n",
       " ('Weight (lbs)', 'Forearm (cm)'),\n",
       " ('Weight (lbs)', 'Wrist (cm)'),\n",
       " ('Height (inches)', 'Neck (cm)'),\n",
       " ('Height (inches)', 'Chest (cm)'),\n",
       " ('Height (inches)', 'Abdomen (cm)'),\n",
       " ('Height (inches)', 'Hip (cm)'),\n",
       " ('Height (inches)', 'Thigh (cm)'),\n",
       " ('Height (inches)', 'Knee (cm)'),\n",
       " ('Height (inches)', 'Ankle (cm)'),\n",
       " ('Height (inches)', 'Biceps (cm)'),\n",
       " ('Height (inches)', 'Forearm (cm)'),\n",
       " ('Height (inches)', 'Wrist (cm)'),\n",
       " ('Neck (cm)', 'Chest (cm)'),\n",
       " ('Neck (cm)', 'Abdomen (cm)'),\n",
       " ('Neck (cm)', 'Hip (cm)'),\n",
       " ('Neck (cm)', 'Thigh (cm)'),\n",
       " ('Neck (cm)', 'Knee (cm)'),\n",
       " ('Neck (cm)', 'Ankle (cm)'),\n",
       " ('Neck (cm)', 'Biceps (cm)'),\n",
       " ('Neck (cm)', 'Forearm (cm)'),\n",
       " ('Neck (cm)', 'Wrist (cm)'),\n",
       " ('Chest (cm)', 'Abdomen (cm)'),\n",
       " ('Chest (cm)', 'Hip (cm)'),\n",
       " ('Chest (cm)', 'Thigh (cm)'),\n",
       " ('Chest (cm)', 'Knee (cm)'),\n",
       " ('Chest (cm)', 'Ankle (cm)'),\n",
       " ('Chest (cm)', 'Biceps (cm)'),\n",
       " ('Chest (cm)', 'Forearm (cm)'),\n",
       " ('Chest (cm)', 'Wrist (cm)'),\n",
       " ('Abdomen (cm)', 'Hip (cm)'),\n",
       " ('Abdomen (cm)', 'Thigh (cm)'),\n",
       " ('Abdomen (cm)', 'Knee (cm)'),\n",
       " ('Abdomen (cm)', 'Ankle (cm)'),\n",
       " ('Abdomen (cm)', 'Biceps (cm)'),\n",
       " ('Abdomen (cm)', 'Forearm (cm)'),\n",
       " ('Abdomen (cm)', 'Wrist (cm)'),\n",
       " ('Hip (cm)', 'Thigh (cm)'),\n",
       " ('Hip (cm)', 'Knee (cm)'),\n",
       " ('Hip (cm)', 'Ankle (cm)'),\n",
       " ('Hip (cm)', 'Biceps (cm)'),\n",
       " ('Hip (cm)', 'Forearm (cm)'),\n",
       " ('Hip (cm)', 'Wrist (cm)'),\n",
       " ('Thigh (cm)', 'Knee (cm)'),\n",
       " ('Thigh (cm)', 'Ankle (cm)'),\n",
       " ('Thigh (cm)', 'Biceps (cm)'),\n",
       " ('Thigh (cm)', 'Forearm (cm)'),\n",
       " ('Thigh (cm)', 'Wrist (cm)'),\n",
       " ('Knee (cm)', 'Ankle (cm)'),\n",
       " ('Knee (cm)', 'Biceps (cm)'),\n",
       " ('Knee (cm)', 'Forearm (cm)'),\n",
       " ('Knee (cm)', 'Wrist (cm)'),\n",
       " ('Ankle (cm)', 'Biceps (cm)'),\n",
       " ('Ankle (cm)', 'Forearm (cm)'),\n",
       " ('Ankle (cm)', 'Wrist (cm)'),\n",
       " ('Biceps (cm)', 'Forearm (cm)'),\n",
       " ('Biceps (cm)', 'Wrist (cm)'),\n",
       " ('Forearm (cm)', 'Wrist (cm)')]"
      ]
     },
     "execution_count": 217,
     "metadata": {},
     "output_type": "execute_result"
    }
   ],
   "source": [
    "list(combinations(l, 2))"
   ]
  },
  {
   "cell_type": "markdown",
   "metadata": {},
   "source": [
    "## Neural Network"
   ]
  },
  {
   "cell_type": "code",
   "execution_count": null,
   "metadata": {},
   "outputs": [],
   "source": []
  }
 ],
 "metadata": {
  "kernelspec": {
   "display_name": "Python 3",
   "language": "python",
   "name": "python3"
  },
  "language_info": {
   "codemirror_mode": {
    "name": "ipython",
    "version": 3
   },
   "file_extension": ".py",
   "mimetype": "text/x-python",
   "name": "python",
   "nbconvert_exporter": "python",
   "pygments_lexer": "ipython3",
   "version": "3.6.8"
  }
 },
 "nbformat": 4,
 "nbformat_minor": 1
}
