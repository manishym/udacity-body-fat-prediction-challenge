{
 "cells": [
  {
   "cell_type": "code",
   "execution_count": 145,
   "metadata": {},
   "outputs": [],
   "source": [
    "import warnings\n",
    "warnings.filterwarnings('ignore')\n",
    "\n",
    "import os\n",
    "\n",
    "PROJ_ROOT = os.pardir\n",
    "\n",
    "TRAIN_DATA = os.path.join(PROJ_ROOT, \"data\", \"raw\", \"train.csv\")\n",
    "TEST_DATA = os.path.join(PROJ_ROOT, \"data\", \"raw\", \"test.csv\")\n",
    "\n",
    "import sys\n",
    "sys.path.append(os.path.join(PROJ_ROOT, \"src\"))\n",
    "\n",
    "%reload_ext autoreload\n",
    "%autoreload 2\n",
    "%matplotlib inline"
   ]
  },
  {
   "cell_type": "code",
   "execution_count": 146,
   "metadata": {},
   "outputs": [],
   "source": [
    "from pandas_summary import DataFrameSummary\n",
    "from IPython.display import display\n",
    "PATH = os.path.join(PROJ_ROOT, \"data\", \"raw/\")\n",
    "\n",
    "PATH\n",
    "\n",
    "\n",
    "from sklearn.metrics import accuracy_score, r2_score\n",
    "from sklearn.model_selection import train_test_split\n",
    "import pandas as pd\n",
    "from pandas_summary import DataFrameSummary\n",
    "import seaborn as sns\n",
    "from itertools import combinations\n",
    "import matplotlib.pyplot as plt\n",
    "import math"
   ]
  },
  {
   "cell_type": "code",
   "execution_count": 192,
   "metadata": {},
   "outputs": [],
   "source": [
    "train_df = pd.read_csv(f\"{PATH}/bodyfat-train.csv\")\n",
    "test_df = pd.read_csv(f\"{PATH}/bodyfat-test.csv\")"
   ]
  },
  {
   "cell_type": "code",
   "execution_count": 148,
   "metadata": {},
   "outputs": [
    {
     "data": {
      "text/plain": [
       "Index(['Body fat (%)', 'Age (years)', 'Weight (lbs)', 'Height (inches)',\n",
       "       'Neck (cm)', 'Chest (cm)', 'Abdomen (cm)', 'Hip (cm)', 'Thigh (cm)',\n",
       "       'Knee (cm)', 'Ankle (cm)', 'Biceps (cm)', 'Forearm (cm)', 'Wrist (cm)'],\n",
       "      dtype='object')"
      ]
     },
     "execution_count": 148,
     "metadata": {},
     "output_type": "execute_result"
    }
   ],
   "source": [
    "train_df.columns"
   ]
  },
  {
   "cell_type": "code",
   "execution_count": 149,
   "metadata": {},
   "outputs": [],
   "source": [
    "from sklearn.model_selection import train_test_split"
   ]
  },
  {
   "cell_type": "code",
   "execution_count": 177,
   "metadata": {},
   "outputs": [],
   "source": [
    "X_train, X_test, y_train, y_test = train_test_split(train_df.drop(['Body fat (%)'], axis=1), train_df['Body fat (%)'], test_size=0.1 )"
   ]
  },
  {
   "cell_type": "code",
   "execution_count": 178,
   "metadata": {},
   "outputs": [],
   "source": [
    "X_train['Body fat (%)'] = y_train"
   ]
  },
  {
   "cell_type": "code",
   "execution_count": 179,
   "metadata": {},
   "outputs": [],
   "source": [
    "import random"
   ]
  },
  {
   "cell_type": "code",
   "execution_count": 180,
   "metadata": {},
   "outputs": [],
   "source": [
    "rand_vals_0 = lambda : 1 + random.randint(1, 10)/100\n",
    "rand_vals_1 = lambda : 1 - random.randint(1, 10)/100"
   ]
  },
  {
   "cell_type": "code",
   "execution_count": 181,
   "metadata": {},
   "outputs": [
    {
     "data": {
      "text/plain": [
       "0.95"
      ]
     },
     "execution_count": 181,
     "metadata": {},
     "output_type": "execute_result"
    }
   ],
   "source": [
    "random.choice([rand_vals_0, rand_vals_1])()"
   ]
  },
  {
   "cell_type": "code",
   "execution_count": 182,
   "metadata": {},
   "outputs": [],
   "source": [
    "for i in range(5):\n",
    "    X_train = X_train.append(X_train * random.choice([rand_vals_0, rand_vals_1])())"
   ]
  },
  {
   "cell_type": "code",
   "execution_count": 183,
   "metadata": {},
   "outputs": [
    {
     "data": {
      "text/plain": [
       "(5760, 14)"
      ]
     },
     "execution_count": 183,
     "metadata": {},
     "output_type": "execute_result"
    }
   ],
   "source": [
    "X_train.shape"
   ]
  },
  {
   "cell_type": "code",
   "execution_count": 184,
   "metadata": {},
   "outputs": [],
   "source": [
    "from sklearn.ensemble import RandomForestRegressor"
   ]
  },
  {
   "cell_type": "code",
   "execution_count": 185,
   "metadata": {},
   "outputs": [],
   "source": [
    "model = RandomForestRegressor(bootstrap=True, criterion='mse', max_depth=10,\n",
    "           max_features='auto', max_leaf_nodes=None,\n",
    "           min_impurity_decrease=0.0, min_impurity_split=None,\n",
    "           min_samples_leaf=1, min_samples_split=2,\n",
    "           min_weight_fraction_leaf=0.0, n_estimators=50, n_jobs=None,\n",
    "           oob_score=False, random_state=None, verbose=0, warm_start=False)"
   ]
  },
  {
   "cell_type": "code",
   "execution_count": 186,
   "metadata": {},
   "outputs": [
    {
     "data": {
      "text/plain": [
       "RandomForestRegressor(bootstrap=True, criterion='mse', max_depth=10,\n",
       "           max_features='auto', max_leaf_nodes=None,\n",
       "           min_impurity_decrease=0.0, min_impurity_split=None,\n",
       "           min_samples_leaf=1, min_samples_split=2,\n",
       "           min_weight_fraction_leaf=0.0, n_estimators=50, n_jobs=None,\n",
       "           oob_score=False, random_state=None, verbose=0, warm_start=False)"
      ]
     },
     "execution_count": 186,
     "metadata": {},
     "output_type": "execute_result"
    }
   ],
   "source": [
    "model.fit(X_train.drop(\"Body fat (%)\", axis=1), X_train['Body fat (%)'])"
   ]
  },
  {
   "cell_type": "code",
   "execution_count": 187,
   "metadata": {},
   "outputs": [],
   "source": [
    "from sklearn.metrics import mean_absolute_error"
   ]
  },
  {
   "cell_type": "code",
   "execution_count": 188,
   "metadata": {},
   "outputs": [
    {
     "data": {
      "text/plain": [
       "3.212301841902295"
      ]
     },
     "execution_count": 188,
     "metadata": {},
     "output_type": "execute_result"
    }
   ],
   "source": [
    "mean_absolute_error(model.predict(X_test), y_test)"
   ]
  },
  {
   "cell_type": "code",
   "execution_count": 189,
   "metadata": {},
   "outputs": [],
   "source": [
    "import random\n",
    "def row_augmentation(train_df, num_aug=5):\n",
    "    df=train_df.copy()\n",
    "    rand_vals_0 = lambda : 1 + random.randint(1, 10)/100\n",
    "    rand_vals_1 = lambda : 1 - random.randint(1, 10)/100\n",
    "    for i in range(5):\n",
    "        df = df.append(df * random.choice([rand_vals_0, rand_vals_1])())\n",
    "    return df\n",
    "    "
   ]
  },
  {
   "cell_type": "code",
   "execution_count": 193,
   "metadata": {},
   "outputs": [],
   "source": [
    "df = row_augmentation(train_df, num_aug=5)"
   ]
  },
  {
   "cell_type": "code",
   "execution_count": 194,
   "metadata": {},
   "outputs": [
    {
     "data": {
      "text/plain": [
       "(6432, 14)"
      ]
     },
     "execution_count": 194,
     "metadata": {},
     "output_type": "execute_result"
    }
   ],
   "source": [
    "df.shape"
   ]
  },
  {
   "cell_type": "code",
   "execution_count": 197,
   "metadata": {},
   "outputs": [
    {
     "data": {
      "text/html": [
       "<div>\n",
       "<style scoped>\n",
       "    .dataframe tbody tr th:only-of-type {\n",
       "        vertical-align: middle;\n",
       "    }\n",
       "\n",
       "    .dataframe tbody tr th {\n",
       "        vertical-align: top;\n",
       "    }\n",
       "\n",
       "    .dataframe thead th {\n",
       "        text-align: right;\n",
       "    }\n",
       "</style>\n",
       "<table border=\"1\" class=\"dataframe\">\n",
       "  <thead>\n",
       "    <tr style=\"text-align: right;\">\n",
       "      <th></th>\n",
       "      <th>Body fat (%)</th>\n",
       "      <th>Age (years)</th>\n",
       "      <th>Weight (lbs)</th>\n",
       "      <th>Height (inches)</th>\n",
       "      <th>Neck (cm)</th>\n",
       "      <th>Chest (cm)</th>\n",
       "      <th>Abdomen (cm)</th>\n",
       "      <th>Hip (cm)</th>\n",
       "      <th>Thigh (cm)</th>\n",
       "      <th>Knee (cm)</th>\n",
       "      <th>Ankle (cm)</th>\n",
       "      <th>Biceps (cm)</th>\n",
       "      <th>Forearm (cm)</th>\n",
       "      <th>Wrist (cm)</th>\n",
       "    </tr>\n",
       "  </thead>\n",
       "  <tbody>\n",
       "    <tr>\n",
       "      <th>count</th>\n",
       "      <td>6432.000000</td>\n",
       "      <td>6432.000000</td>\n",
       "      <td>6432.000000</td>\n",
       "      <td>6432.000000</td>\n",
       "      <td>6432.000000</td>\n",
       "      <td>6432.000000</td>\n",
       "      <td>6432.000000</td>\n",
       "      <td>6432.000000</td>\n",
       "      <td>6432.000000</td>\n",
       "      <td>6432.000000</td>\n",
       "      <td>6432.000000</td>\n",
       "      <td>6432.000000</td>\n",
       "      <td>6432.000000</td>\n",
       "      <td>6432.000000</td>\n",
       "    </tr>\n",
       "    <tr>\n",
       "      <th>mean</th>\n",
       "      <td>18.573232</td>\n",
       "      <td>43.680814</td>\n",
       "      <td>174.569636</td>\n",
       "      <td>68.518160</td>\n",
       "      <td>37.182983</td>\n",
       "      <td>98.358520</td>\n",
       "      <td>90.423814</td>\n",
       "      <td>97.757185</td>\n",
       "      <td>58.142080</td>\n",
       "      <td>37.752669</td>\n",
       "      <td>22.569313</td>\n",
       "      <td>31.510953</td>\n",
       "      <td>28.035380</td>\n",
       "      <td>17.828258</td>\n",
       "    </tr>\n",
       "    <tr>\n",
       "      <th>std</th>\n",
       "      <td>8.271289</td>\n",
       "      <td>12.430380</td>\n",
       "      <td>31.378713</td>\n",
       "      <td>5.384146</td>\n",
       "      <td>3.249380</td>\n",
       "      <td>9.980071</td>\n",
       "      <td>11.866786</td>\n",
       "      <td>9.075368</td>\n",
       "      <td>6.290868</td>\n",
       "      <td>3.219581</td>\n",
       "      <td>2.047801</td>\n",
       "      <td>3.589641</td>\n",
       "      <td>2.570179</td>\n",
       "      <td>1.354403</td>\n",
       "    </tr>\n",
       "    <tr>\n",
       "      <th>min</th>\n",
       "      <td>0.000000</td>\n",
       "      <td>19.240144</td>\n",
       "      <td>103.634412</td>\n",
       "      <td>25.799284</td>\n",
       "      <td>27.198567</td>\n",
       "      <td>69.351974</td>\n",
       "      <td>60.693909</td>\n",
       "      <td>74.336920</td>\n",
       "      <td>41.278854</td>\n",
       "      <td>28.860216</td>\n",
       "      <td>16.703943</td>\n",
       "      <td>21.688890</td>\n",
       "      <td>19.240144</td>\n",
       "      <td>13.817922</td>\n",
       "    </tr>\n",
       "    <tr>\n",
       "      <th>25%</th>\n",
       "      <td>12.429174</td>\n",
       "      <td>34.948518</td>\n",
       "      <td>152.862525</td>\n",
       "      <td>65.356126</td>\n",
       "      <td>34.892840</td>\n",
       "      <td>91.344500</td>\n",
       "      <td>81.995856</td>\n",
       "      <td>91.598495</td>\n",
       "      <td>53.741099</td>\n",
       "      <td>35.480039</td>\n",
       "      <td>21.163888</td>\n",
       "      <td>28.945886</td>\n",
       "      <td>26.240362</td>\n",
       "      <td>16.871633</td>\n",
       "    </tr>\n",
       "    <tr>\n",
       "      <th>50%</th>\n",
       "      <td>18.762000</td>\n",
       "      <td>42.961300</td>\n",
       "      <td>170.905111</td>\n",
       "      <td>68.478314</td>\n",
       "      <td>37.024248</td>\n",
       "      <td>97.579090</td>\n",
       "      <td>89.430821</td>\n",
       "      <td>97.098714</td>\n",
       "      <td>57.669545</td>\n",
       "      <td>37.594135</td>\n",
       "      <td>22.409047</td>\n",
       "      <td>31.311373</td>\n",
       "      <td>27.968000</td>\n",
       "      <td>17.783747</td>\n",
       "    </tr>\n",
       "    <tr>\n",
       "      <th>75%</th>\n",
       "      <td>24.086587</td>\n",
       "      <td>51.943300</td>\n",
       "      <td>193.260060</td>\n",
       "      <td>71.935200</td>\n",
       "      <td>39.274230</td>\n",
       "      <td>104.491853</td>\n",
       "      <td>97.545179</td>\n",
       "      <td>102.984799</td>\n",
       "      <td>61.930826</td>\n",
       "      <td>39.800516</td>\n",
       "      <td>23.767110</td>\n",
       "      <td>33.915840</td>\n",
       "      <td>29.773180</td>\n",
       "      <td>18.745114</td>\n",
       "    </tr>\n",
       "    <tr>\n",
       "      <th>max</th>\n",
       "      <td>51.860500</td>\n",
       "      <td>88.435800</td>\n",
       "      <td>396.487170</td>\n",
       "      <td>84.614500</td>\n",
       "      <td>55.900160</td>\n",
       "      <td>148.703160</td>\n",
       "      <td>161.695580</td>\n",
       "      <td>161.258860</td>\n",
       "      <td>95.314140</td>\n",
       "      <td>53.607380</td>\n",
       "      <td>37.012020</td>\n",
       "      <td>49.131000</td>\n",
       "      <td>38.103820</td>\n",
       "      <td>23.364520</td>\n",
       "    </tr>\n",
       "  </tbody>\n",
       "</table>\n",
       "</div>"
      ],
      "text/plain": [
       "       Body fat (%)  Age (years)  Weight (lbs)  Height (inches)    Neck (cm)  \\\n",
       "count   6432.000000  6432.000000   6432.000000      6432.000000  6432.000000   \n",
       "mean      18.573232    43.680814    174.569636        68.518160    37.182983   \n",
       "std        8.271289    12.430380     31.378713         5.384146     3.249380   \n",
       "min        0.000000    19.240144    103.634412        25.799284    27.198567   \n",
       "25%       12.429174    34.948518    152.862525        65.356126    34.892840   \n",
       "50%       18.762000    42.961300    170.905111        68.478314    37.024248   \n",
       "75%       24.086587    51.943300    193.260060        71.935200    39.274230   \n",
       "max       51.860500    88.435800    396.487170        84.614500    55.900160   \n",
       "\n",
       "        Chest (cm)  Abdomen (cm)     Hip (cm)   Thigh (cm)    Knee (cm)  \\\n",
       "count  6432.000000   6432.000000  6432.000000  6432.000000  6432.000000   \n",
       "mean     98.358520     90.423814    97.757185    58.142080    37.752669   \n",
       "std       9.980071     11.866786     9.075368     6.290868     3.219581   \n",
       "min      69.351974     60.693909    74.336920    41.278854    28.860216   \n",
       "25%      91.344500     81.995856    91.598495    53.741099    35.480039   \n",
       "50%      97.579090     89.430821    97.098714    57.669545    37.594135   \n",
       "75%     104.491853     97.545179   102.984799    61.930826    39.800516   \n",
       "max     148.703160    161.695580   161.258860    95.314140    53.607380   \n",
       "\n",
       "        Ankle (cm)  Biceps (cm)  Forearm (cm)   Wrist (cm)  \n",
       "count  6432.000000  6432.000000   6432.000000  6432.000000  \n",
       "mean     22.569313    31.510953     28.035380    17.828258  \n",
       "std       2.047801     3.589641      2.570179     1.354403  \n",
       "min      16.703943    21.688890     19.240144    13.817922  \n",
       "25%      21.163888    28.945886     26.240362    16.871633  \n",
       "50%      22.409047    31.311373     27.968000    17.783747  \n",
       "75%      23.767110    33.915840     29.773180    18.745114  \n",
       "max      37.012020    49.131000     38.103820    23.364520  "
      ]
     },
     "execution_count": 197,
     "metadata": {},
     "output_type": "execute_result"
    }
   ],
   "source": [
    "df.describe()"
   ]
  },
  {
   "cell_type": "code",
   "execution_count": 198,
   "metadata": {},
   "outputs": [
    {
     "data": {
      "text/plain": [
       "RandomForestRegressor(bootstrap=True, criterion='mse', max_depth=10,\n",
       "           max_features='auto', max_leaf_nodes=None,\n",
       "           min_impurity_decrease=0.0, min_impurity_split=None,\n",
       "           min_samples_leaf=1, min_samples_split=2,\n",
       "           min_weight_fraction_leaf=0.0, n_estimators=50, n_jobs=None,\n",
       "           oob_score=False, random_state=None, verbose=0, warm_start=False)"
      ]
     },
     "execution_count": 198,
     "metadata": {},
     "output_type": "execute_result"
    }
   ],
   "source": [
    "model"
   ]
  },
  {
   "cell_type": "code",
   "execution_count": 208,
   "metadata": {},
   "outputs": [],
   "source": [
    "from sklearn.base import clone"
   ]
  },
  {
   "cell_type": "code",
   "execution_count": 209,
   "metadata": {},
   "outputs": [],
   "source": [
    "m = clone(model)"
   ]
  },
  {
   "cell_type": "code",
   "execution_count": 211,
   "metadata": {},
   "outputs": [
    {
     "ename": "NotFittedError",
     "evalue": "This RandomForestRegressor instance is not fitted yet. Call 'fit' with appropriate arguments before using this method.",
     "output_type": "error",
     "traceback": [
      "\u001b[0;31m---------------------------------------------------------------------------\u001b[0m",
      "\u001b[0;31mNotFittedError\u001b[0m                            Traceback (most recent call last)",
      "\u001b[0;32m<ipython-input-211-b6c2051e5c69>\u001b[0m in \u001b[0;36m<module>\u001b[0;34m()\u001b[0m\n\u001b[0;32m----> 1\u001b[0;31m \u001b[0mm\u001b[0m\u001b[0;34m.\u001b[0m\u001b[0mpredict\u001b[0m\u001b[0;34m(\u001b[0m\u001b[0mX_test\u001b[0m\u001b[0;34m)\u001b[0m\u001b[0;34m\u001b[0m\u001b[0;34m\u001b[0m\u001b[0m\n\u001b[0m",
      "\u001b[0;32m~/anaconda3/envs/fastai-cpu/lib/python3.6/site-packages/sklearn/ensemble/forest.py\u001b[0m in \u001b[0;36mpredict\u001b[0;34m(self, X)\u001b[0m\n\u001b[1;32m    684\u001b[0m             \u001b[0mThe\u001b[0m \u001b[0mpredicted\u001b[0m \u001b[0mvalues\u001b[0m\u001b[0;34m.\u001b[0m\u001b[0;34m\u001b[0m\u001b[0;34m\u001b[0m\u001b[0m\n\u001b[1;32m    685\u001b[0m         \"\"\"\n\u001b[0;32m--> 686\u001b[0;31m         \u001b[0mcheck_is_fitted\u001b[0m\u001b[0;34m(\u001b[0m\u001b[0mself\u001b[0m\u001b[0;34m,\u001b[0m \u001b[0;34m'estimators_'\u001b[0m\u001b[0;34m)\u001b[0m\u001b[0;34m\u001b[0m\u001b[0;34m\u001b[0m\u001b[0m\n\u001b[0m\u001b[1;32m    687\u001b[0m         \u001b[0;31m# Check data\u001b[0m\u001b[0;34m\u001b[0m\u001b[0;34m\u001b[0m\u001b[0;34m\u001b[0m\u001b[0m\n\u001b[1;32m    688\u001b[0m         \u001b[0mX\u001b[0m \u001b[0;34m=\u001b[0m \u001b[0mself\u001b[0m\u001b[0;34m.\u001b[0m\u001b[0m_validate_X_predict\u001b[0m\u001b[0;34m(\u001b[0m\u001b[0mX\u001b[0m\u001b[0;34m)\u001b[0m\u001b[0;34m\u001b[0m\u001b[0;34m\u001b[0m\u001b[0m\n",
      "\u001b[0;32m~/anaconda3/envs/fastai-cpu/lib/python3.6/site-packages/sklearn/utils/validation.py\u001b[0m in \u001b[0;36mcheck_is_fitted\u001b[0;34m(estimator, attributes, msg, all_or_any)\u001b[0m\n\u001b[1;32m    949\u001b[0m \u001b[0;34m\u001b[0m\u001b[0m\n\u001b[1;32m    950\u001b[0m     \u001b[0;32mif\u001b[0m \u001b[0;32mnot\u001b[0m \u001b[0mall_or_any\u001b[0m\u001b[0;34m(\u001b[0m\u001b[0;34m[\u001b[0m\u001b[0mhasattr\u001b[0m\u001b[0;34m(\u001b[0m\u001b[0mestimator\u001b[0m\u001b[0;34m,\u001b[0m \u001b[0mattr\u001b[0m\u001b[0;34m)\u001b[0m \u001b[0;32mfor\u001b[0m \u001b[0mattr\u001b[0m \u001b[0;32min\u001b[0m \u001b[0mattributes\u001b[0m\u001b[0;34m]\u001b[0m\u001b[0;34m)\u001b[0m\u001b[0;34m:\u001b[0m\u001b[0;34m\u001b[0m\u001b[0;34m\u001b[0m\u001b[0m\n\u001b[0;32m--> 951\u001b[0;31m         \u001b[0;32mraise\u001b[0m \u001b[0mNotFittedError\u001b[0m\u001b[0;34m(\u001b[0m\u001b[0mmsg\u001b[0m \u001b[0;34m%\u001b[0m \u001b[0;34m{\u001b[0m\u001b[0;34m'name'\u001b[0m\u001b[0;34m:\u001b[0m \u001b[0mtype\u001b[0m\u001b[0;34m(\u001b[0m\u001b[0mestimator\u001b[0m\u001b[0;34m)\u001b[0m\u001b[0;34m.\u001b[0m\u001b[0m__name__\u001b[0m\u001b[0;34m}\u001b[0m\u001b[0;34m)\u001b[0m\u001b[0;34m\u001b[0m\u001b[0;34m\u001b[0m\u001b[0m\n\u001b[0m\u001b[1;32m    952\u001b[0m \u001b[0;34m\u001b[0m\u001b[0m\n\u001b[1;32m    953\u001b[0m \u001b[0;34m\u001b[0m\u001b[0m\n",
      "\u001b[0;31mNotFittedError\u001b[0m: This RandomForestRegressor instance is not fitted yet. Call 'fit' with appropriate arguments before using this method."
     ]
    }
   ],
   "source": [
    "m.predict(X_test)"
   ]
  },
  {
   "cell_type": "code",
   "execution_count": null,
   "metadata": {},
   "outputs": [],
   "source": []
  }
 ],
 "metadata": {
  "kernelspec": {
   "display_name": "Python 3",
   "language": "python",
   "name": "python3"
  },
  "language_info": {
   "codemirror_mode": {
    "name": "ipython",
    "version": 3
   },
   "file_extension": ".py",
   "mimetype": "text/x-python",
   "name": "python",
   "nbconvert_exporter": "python",
   "pygments_lexer": "ipython3",
   "version": "3.6.8"
  }
 },
 "nbformat": 4,
 "nbformat_minor": 2
}
